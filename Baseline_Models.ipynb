{
 "cells": [
  {
   "cell_type": "markdown",
   "id": "c33f80d8-d1a2-4f98-bfa9-6252f374e9fa",
   "metadata": {},
   "source": [
    "https://amazon-reviews-2023.github.io/"
   ]
  },
  {
   "cell_type": "code",
   "execution_count": 1,
   "id": "0bc27c3b-8820-4ef6-8074-e25fee81255e",
   "metadata": {},
   "outputs": [
    {
     "name": "stdout",
     "output_type": "stream",
     "text": [
      "System version: 3.12.7 | packaged by conda-forge | (main, Oct  4 2024, 15:47:54) [MSC v.1941 64 bit (AMD64)]\n",
      "Cornac version: 2.3.2\n"
     ]
    }
   ],
   "source": [
    "import os\n",
    "import sys\n",
    "import itertools\n",
    "\n",
    "import scipy.sparse as sp\n",
    "import numpy as np\n",
    "import pandas as pd\n",
    "\n",
    "import cornac\n",
    "from cornac.eval_methods import RatioSplit, BaseMethod, StratifiedSplit\n",
    "from cornac.metrics import FMeasure, RMSE, NCRR, NDCG, Precision, Recall\n",
    "from cornac.models import BaselineOnly, MF, NMF, BPR, WMF, EASE\n",
    "\n",
    "import optuna\n",
    "\n",
    "from datetime import datetime\n",
    "import random\n",
    "\n",
    "import matplotlib.pyplot as plt\n",
    "import pickle\n",
    "import builtins\n",
    "\n",
    "print(f\"System version: {sys.version}\")\n",
    "print(f\"Cornac version: {cornac.__version__}\")\n",
    "\n",
    "SEED = 42\n",
    "VERBOSE = False\n",
    "TOP_X = 50"
   ]
  },
  {
   "cell_type": "code",
   "execution_count": 2,
   "id": "d7b05c7d-5fd8-405c-b228-e9999cfa1f3c",
   "metadata": {},
   "outputs": [],
   "source": [
    "raw_data = pd.read_parquet('5_category_final_table_(767,684 rows).parquet')"
   ]
  },
  {
   "cell_type": "code",
   "execution_count": 8,
   "id": "3ca50107-107a-44b1-a7fd-0c7833dbf81d",
   "metadata": {},
   "outputs": [
    {
     "name": "stdout",
     "output_type": "stream",
     "text": [
      "584\n"
     ]
    }
   ],
   "source": [
    "print(len(full_df['parent_asin'].unique()))"
   ]
  },
  {
   "cell_type": "code",
   "execution_count": 3,
   "id": "5da1409e-966c-47f2-aa60-42a940e155e2",
   "metadata": {},
   "outputs": [],
   "source": [
    "full_df = raw_data.copy()"
   ]
  },
  {
   "cell_type": "markdown",
   "id": "d1c93852-2569-4e11-a2a4-6c4712c6b9f1",
   "metadata": {},
   "source": [
    "# Data Analysis"
   ]
  },
  {
   "cell_type": "code",
   "execution_count": 57,
   "id": "63f5460b-20f6-4edf-81e5-87bd5c04a946",
   "metadata": {},
   "outputs": [
    {
     "name": "stdout",
     "output_type": "stream",
     "text": [
      "<class 'pandas.core.frame.DataFrame'>\n",
      "RangeIndex: 767684 entries, 0 to 767683\n",
      "Data columns (total 21 columns):\n",
      " #   Column                  Non-Null Count   Dtype              \n",
      "---  ------                  --------------   -----              \n",
      " 0   rating                  767684 non-null  int32              \n",
      " 1   title_review            767623 non-null  object             \n",
      " 2   text                    767277 non-null  object             \n",
      " 3   parent_asin             767684 non-null  object             \n",
      " 4   user_id                 767684 non-null  object             \n",
      " 5   helpful_vote            767684 non-null  int64              \n",
      " 6   title_meta              767684 non-null  object             \n",
      " 7   price                   675350 non-null  float64            \n",
      " 8   store                   760314 non-null  object             \n",
      " 9   features_clean          767684 non-null  object             \n",
      " 10  description_clean       767684 non-null  object             \n",
      " 11  timestamp_utc           767684 non-null  datetime64[ns, UTC]\n",
      " 12  category_depth          767684 non-null  int64              \n",
      " 13  verified_purchase_flag  767684 non-null  int64              \n",
      " 14  cat_1                   767684 non-null  object             \n",
      " 15  cat_2                   767684 non-null  object             \n",
      " 16  cat_3                   767684 non-null  object             \n",
      " 17  cat_4                   767684 non-null  object             \n",
      " 18  price_log               675350 non-null  float64            \n",
      " 19  helpful_vote_clipped    767684 non-null  int64              \n",
      " 20  avg_rating_parent       767684 non-null  float64            \n",
      "dtypes: datetime64[ns, UTC](1), float64(3), int32(1), int64(4), object(12)\n",
      "memory usage: 120.1+ MB\n"
     ]
    }
   ],
   "source": [
    "full_df.info()"
   ]
  },
  {
   "cell_type": "code",
   "execution_count": 58,
   "id": "8692c13e-dfaa-4024-9931-a87dc4fdeaf5",
   "metadata": {},
   "outputs": [
    {
     "data": {
      "text/html": [
       "<div>\n",
       "<style scoped>\n",
       "    .dataframe tbody tr th:only-of-type {\n",
       "        vertical-align: middle;\n",
       "    }\n",
       "\n",
       "    .dataframe tbody tr th {\n",
       "        vertical-align: top;\n",
       "    }\n",
       "\n",
       "    .dataframe thead th {\n",
       "        text-align: right;\n",
       "    }\n",
       "</style>\n",
       "<table border=\"1\" class=\"dataframe\">\n",
       "  <thead>\n",
       "    <tr style=\"text-align: right;\">\n",
       "      <th></th>\n",
       "      <th>rating</th>\n",
       "      <th>title_review</th>\n",
       "      <th>text</th>\n",
       "      <th>parent_asin</th>\n",
       "      <th>user_id</th>\n",
       "      <th>helpful_vote</th>\n",
       "      <th>title_meta</th>\n",
       "      <th>price</th>\n",
       "      <th>store</th>\n",
       "      <th>features_clean</th>\n",
       "      <th>...</th>\n",
       "      <th>timestamp_utc</th>\n",
       "      <th>category_depth</th>\n",
       "      <th>verified_purchase_flag</th>\n",
       "      <th>cat_1</th>\n",
       "      <th>cat_2</th>\n",
       "      <th>cat_3</th>\n",
       "      <th>cat_4</th>\n",
       "      <th>price_log</th>\n",
       "      <th>helpful_vote_clipped</th>\n",
       "      <th>avg_rating_parent</th>\n",
       "    </tr>\n",
       "  </thead>\n",
       "  <tbody>\n",
       "    <tr>\n",
       "      <th>0</th>\n",
       "      <td>1</td>\n",
       "      <td>only 1 worked correctly</td>\n",
       "      <td>i ordered this set right before my camping tri...</td>\n",
       "      <td>B09LW2KHPM</td>\n",
       "      <td>AGO25X54UAIXSKHOAH4SG2VUDUNA</td>\n",
       "      <td>1</td>\n",
       "      <td>vont led camping lantern, led lanterns, suitab...</td>\n",
       "      <td>14.38</td>\n",
       "      <td>vont</td>\n",
       "      <td>bright &amp; lasting - equipped with 30 crazy brig...</td>\n",
       "      <td>...</td>\n",
       "      <td>2020-11-11 07:10:55.679000+00:00</td>\n",
       "      <td>6</td>\n",
       "      <td>1</td>\n",
       "      <td>outdoor recreation</td>\n",
       "      <td>camping &amp; hiking</td>\n",
       "      <td>lights &amp; lanterns</td>\n",
       "      <td>lanterns</td>\n",
       "      <td>2.733068</td>\n",
       "      <td>1</td>\n",
       "      <td>4.7</td>\n",
       "    </tr>\n",
       "    <tr>\n",
       "      <th>1</th>\n",
       "      <td>5</td>\n",
       "      <td>lightweight and quiet</td>\n",
       "      <td>this bike is nice and simple. easy to build an...</td>\n",
       "      <td>B0BTDLFXSL</td>\n",
       "      <td>AHGGRLIBAWVH44XAY2QHQOE7S6OQ</td>\n",
       "      <td>0</td>\n",
       "      <td>ativafit exercise bike foldable fitness indoor...</td>\n",
       "      <td>139.99</td>\n",
       "      <td>ativafit</td>\n",
       "      <td>digital monitor shows your data - monitor your...</td>\n",
       "      <td>...</td>\n",
       "      <td>2020-05-17 22:40:46.636000+00:00</td>\n",
       "      <td>4</td>\n",
       "      <td>1</td>\n",
       "      <td>exercise &amp; fitness</td>\n",
       "      <td>cardio training</td>\n",
       "      <td>exercise bikes</td>\n",
       "      <td>exercise bikes</td>\n",
       "      <td>4.948689</td>\n",
       "      <td>0</td>\n",
       "      <td>4.3</td>\n",
       "    </tr>\n",
       "    <tr>\n",
       "      <th>2</th>\n",
       "      <td>5</td>\n",
       "      <td>great little tent</td>\n",
       "      <td>i love the  alps tent. it is light, super easy...</td>\n",
       "      <td>B09W4W9JB5</td>\n",
       "      <td>AGOSUQAEYTC5A6YDIJ7X5ZFAOSIQ</td>\n",
       "      <td>0</td>\n",
       "      <td>alps mountaineering lynx 1-person backpacking ...</td>\n",
       "      <td>109.99</td>\n",
       "      <td>alps mountaineering</td>\n",
       "      <td>100% polyester imported great backpacking tent</td>\n",
       "      <td>...</td>\n",
       "      <td>2019-09-01 01:46:16.061000+00:00</td>\n",
       "      <td>5</td>\n",
       "      <td>0</td>\n",
       "      <td>outdoor recreation</td>\n",
       "      <td>camping &amp; hiking</td>\n",
       "      <td>tents &amp; shelters</td>\n",
       "      <td>tents</td>\n",
       "      <td>4.709440</td>\n",
       "      <td>0</td>\n",
       "      <td>4.7</td>\n",
       "    </tr>\n",
       "    <tr>\n",
       "      <th>3</th>\n",
       "      <td>5</td>\n",
       "      <td>very cute</td>\n",
       "      <td>bought this for my son’s birthday, super cute ...</td>\n",
       "      <td>B07Z6Y87XH</td>\n",
       "      <td>AEGEQO4R6APZMUYEYT2VGJ3BKKAQ</td>\n",
       "      <td>0</td>\n",
       "      <td>raskullz mohawk toddler 3+ and child 5+ helmets</td>\n",
       "      <td>35.49</td>\n",
       "      <td>raskullz</td>\n",
       "      <td>design - kids love the red bendable 3d rubber ...</td>\n",
       "      <td>...</td>\n",
       "      <td>2020-11-16 19:07:19.645000+00:00</td>\n",
       "      <td>5</td>\n",
       "      <td>1</td>\n",
       "      <td>sports</td>\n",
       "      <td>cycling</td>\n",
       "      <td>kids' bikes &amp; accessories</td>\n",
       "      <td>kids' helmets</td>\n",
       "      <td>3.597038</td>\n",
       "      <td>0</td>\n",
       "      <td>4.7</td>\n",
       "    </tr>\n",
       "    <tr>\n",
       "      <th>4</th>\n",
       "      <td>5</td>\n",
       "      <td>my pooches love it!</td>\n",
       "      <td>we purchased this two person tent for our dogs...</td>\n",
       "      <td>B09HRDWXCK</td>\n",
       "      <td>AEDAZ44DKSCBHMY4VOCU6Z7DWM7A</td>\n",
       "      <td>3</td>\n",
       "      <td>2-person camping tent – includes rain fly and ...</td>\n",
       "      <td>45.94</td>\n",
       "      <td>wakeman</td>\n",
       "      <td>100% polyester imported 2 person tent – this l...</td>\n",
       "      <td>...</td>\n",
       "      <td>2016-02-24 17:58:45+00:00</td>\n",
       "      <td>5</td>\n",
       "      <td>1</td>\n",
       "      <td>outdoor recreation</td>\n",
       "      <td>camping &amp; hiking</td>\n",
       "      <td>tents &amp; shelters</td>\n",
       "      <td>tents</td>\n",
       "      <td>3.848870</td>\n",
       "      <td>3</td>\n",
       "      <td>3.6</td>\n",
       "    </tr>\n",
       "  </tbody>\n",
       "</table>\n",
       "<p>5 rows × 21 columns</p>\n",
       "</div>"
      ],
      "text/plain": [
       "   rating             title_review  \\\n",
       "0       1  only 1 worked correctly   \n",
       "1       5    lightweight and quiet   \n",
       "2       5        great little tent   \n",
       "3       5                very cute   \n",
       "4       5      my pooches love it!   \n",
       "\n",
       "                                                text parent_asin  \\\n",
       "0  i ordered this set right before my camping tri...  B09LW2KHPM   \n",
       "1  this bike is nice and simple. easy to build an...  B0BTDLFXSL   \n",
       "2  i love the  alps tent. it is light, super easy...  B09W4W9JB5   \n",
       "3  bought this for my son’s birthday, super cute ...  B07Z6Y87XH   \n",
       "4  we purchased this two person tent for our dogs...  B09HRDWXCK   \n",
       "\n",
       "                        user_id  helpful_vote  \\\n",
       "0  AGO25X54UAIXSKHOAH4SG2VUDUNA             1   \n",
       "1  AHGGRLIBAWVH44XAY2QHQOE7S6OQ             0   \n",
       "2  AGOSUQAEYTC5A6YDIJ7X5ZFAOSIQ             0   \n",
       "3  AEGEQO4R6APZMUYEYT2VGJ3BKKAQ             0   \n",
       "4  AEDAZ44DKSCBHMY4VOCU6Z7DWM7A             3   \n",
       "\n",
       "                                          title_meta   price  \\\n",
       "0  vont led camping lantern, led lanterns, suitab...   14.38   \n",
       "1  ativafit exercise bike foldable fitness indoor...  139.99   \n",
       "2  alps mountaineering lynx 1-person backpacking ...  109.99   \n",
       "3    raskullz mohawk toddler 3+ and child 5+ helmets   35.49   \n",
       "4  2-person camping tent – includes rain fly and ...   45.94   \n",
       "\n",
       "                 store                                     features_clean  \\\n",
       "0                 vont  bright & lasting - equipped with 30 crazy brig...   \n",
       "1             ativafit  digital monitor shows your data - monitor your...   \n",
       "2  alps mountaineering     100% polyester imported great backpacking tent   \n",
       "3             raskullz  design - kids love the red bendable 3d rubber ...   \n",
       "4              wakeman  100% polyester imported 2 person tent – this l...   \n",
       "\n",
       "   ...                    timestamp_utc category_depth  \\\n",
       "0  ... 2020-11-11 07:10:55.679000+00:00              6   \n",
       "1  ... 2020-05-17 22:40:46.636000+00:00              4   \n",
       "2  ... 2019-09-01 01:46:16.061000+00:00              5   \n",
       "3  ... 2020-11-16 19:07:19.645000+00:00              5   \n",
       "4  ...        2016-02-24 17:58:45+00:00              5   \n",
       "\n",
       "   verified_purchase_flag               cat_1             cat_2  \\\n",
       "0                       1  outdoor recreation  camping & hiking   \n",
       "1                       1  exercise & fitness   cardio training   \n",
       "2                       0  outdoor recreation  camping & hiking   \n",
       "3                       1              sports           cycling   \n",
       "4                       1  outdoor recreation  camping & hiking   \n",
       "\n",
       "                       cat_3           cat_4 price_log  helpful_vote_clipped  \\\n",
       "0          lights & lanterns        lanterns  2.733068                     1   \n",
       "1             exercise bikes  exercise bikes  4.948689                     0   \n",
       "2           tents & shelters           tents  4.709440                     0   \n",
       "3  kids' bikes & accessories   kids' helmets  3.597038                     0   \n",
       "4           tents & shelters           tents  3.848870                     3   \n",
       "\n",
       "   avg_rating_parent  \n",
       "0                4.7  \n",
       "1                4.3  \n",
       "2                4.7  \n",
       "3                4.7  \n",
       "4                3.6  \n",
       "\n",
       "[5 rows x 21 columns]"
      ]
     },
     "execution_count": 58,
     "metadata": {},
     "output_type": "execute_result"
    }
   ],
   "source": [
    "full_df.head()"
   ]
  },
  {
   "cell_type": "code",
   "execution_count": 59,
   "id": "b0861b04-b202-4654-b7f8-6f3352624312",
   "metadata": {},
   "outputs": [
    {
     "name": "stdout",
     "output_type": "stream",
     "text": [
      "Count of unique user id in train: 649151\n",
      "Count of unique item id in train: 584\n"
     ]
    }
   ],
   "source": [
    "print(f\"Count of unique user id in train: {len(full_df['user_id'].unique())}\")\n",
    "print(f\"Count of unique item id in train: {len(full_df['parent_asin'].unique())}\")"
   ]
  },
  {
   "cell_type": "code",
   "execution_count": 60,
   "id": "3cbf559c-e182-449e-811b-2e1c23998123",
   "metadata": {},
   "outputs": [
    {
     "data": {
      "text/html": [
       "<div>\n",
       "<style scoped>\n",
       "    .dataframe tbody tr th:only-of-type {\n",
       "        vertical-align: middle;\n",
       "    }\n",
       "\n",
       "    .dataframe tbody tr th {\n",
       "        vertical-align: top;\n",
       "    }\n",
       "\n",
       "    .dataframe thead th {\n",
       "        text-align: right;\n",
       "    }\n",
       "</style>\n",
       "<table border=\"1\" class=\"dataframe\">\n",
       "  <thead>\n",
       "    <tr style=\"text-align: right;\">\n",
       "      <th>verified_purchase_flag</th>\n",
       "      <th>0</th>\n",
       "      <th>1</th>\n",
       "    </tr>\n",
       "    <tr>\n",
       "      <th>rating</th>\n",
       "      <th></th>\n",
       "      <th></th>\n",
       "    </tr>\n",
       "  </thead>\n",
       "  <tbody>\n",
       "    <tr>\n",
       "      <th>1</th>\n",
       "      <td>5748</td>\n",
       "      <td>50862</td>\n",
       "    </tr>\n",
       "    <tr>\n",
       "      <th>2</th>\n",
       "      <td>3097</td>\n",
       "      <td>29952</td>\n",
       "    </tr>\n",
       "    <tr>\n",
       "      <th>3</th>\n",
       "      <td>3376</td>\n",
       "      <td>45165</td>\n",
       "    </tr>\n",
       "    <tr>\n",
       "      <th>4</th>\n",
       "      <td>6175</td>\n",
       "      <td>94818</td>\n",
       "    </tr>\n",
       "    <tr>\n",
       "      <th>5</th>\n",
       "      <td>27083</td>\n",
       "      <td>501408</td>\n",
       "    </tr>\n",
       "  </tbody>\n",
       "</table>\n",
       "</div>"
      ],
      "text/plain": [
       "verified_purchase_flag      0       1\n",
       "rating                               \n",
       "1                        5748   50862\n",
       "2                        3097   29952\n",
       "3                        3376   45165\n",
       "4                        6175   94818\n",
       "5                       27083  501408"
      ]
     },
     "execution_count": 60,
     "metadata": {},
     "output_type": "execute_result"
    }
   ],
   "source": [
    "pd.crosstab(full_df['rating'], full_df['verified_purchase_flag'])"
   ]
  },
  {
   "cell_type": "code",
   "execution_count": 61,
   "id": "92c2751c-72b6-46bb-bb8b-2575cd466b54",
   "metadata": {},
   "outputs": [
    {
     "data": {
      "text/html": [
       "<div>\n",
       "<style scoped>\n",
       "    .dataframe tbody tr th:only-of-type {\n",
       "        vertical-align: middle;\n",
       "    }\n",
       "\n",
       "    .dataframe tbody tr th {\n",
       "        vertical-align: top;\n",
       "    }\n",
       "\n",
       "    .dataframe thead th {\n",
       "        text-align: right;\n",
       "    }\n",
       "</style>\n",
       "<table border=\"1\" class=\"dataframe\">\n",
       "  <thead>\n",
       "    <tr style=\"text-align: right;\">\n",
       "      <th>helpful_vote_clipped</th>\n",
       "      <th>0</th>\n",
       "      <th>1</th>\n",
       "      <th>2</th>\n",
       "      <th>3</th>\n",
       "      <th>4</th>\n",
       "      <th>5</th>\n",
       "    </tr>\n",
       "    <tr>\n",
       "      <th>rating</th>\n",
       "      <th></th>\n",
       "      <th></th>\n",
       "      <th></th>\n",
       "      <th></th>\n",
       "      <th></th>\n",
       "      <th></th>\n",
       "    </tr>\n",
       "  </thead>\n",
       "  <tbody>\n",
       "    <tr>\n",
       "      <th>1</th>\n",
       "      <td>30523</td>\n",
       "      <td>11730</td>\n",
       "      <td>4751</td>\n",
       "      <td>2402</td>\n",
       "      <td>1480</td>\n",
       "      <td>5724</td>\n",
       "    </tr>\n",
       "    <tr>\n",
       "      <th>2</th>\n",
       "      <td>23067</td>\n",
       "      <td>5813</td>\n",
       "      <td>1682</td>\n",
       "      <td>732</td>\n",
       "      <td>440</td>\n",
       "      <td>1315</td>\n",
       "    </tr>\n",
       "    <tr>\n",
       "      <th>3</th>\n",
       "      <td>35453</td>\n",
       "      <td>7370</td>\n",
       "      <td>2197</td>\n",
       "      <td>1025</td>\n",
       "      <td>568</td>\n",
       "      <td>1928</td>\n",
       "    </tr>\n",
       "    <tr>\n",
       "      <th>4</th>\n",
       "      <td>79757</td>\n",
       "      <td>11895</td>\n",
       "      <td>3417</td>\n",
       "      <td>1504</td>\n",
       "      <td>886</td>\n",
       "      <td>3534</td>\n",
       "    </tr>\n",
       "    <tr>\n",
       "      <th>5</th>\n",
       "      <td>449449</td>\n",
       "      <td>47833</td>\n",
       "      <td>11926</td>\n",
       "      <td>4990</td>\n",
       "      <td>2493</td>\n",
       "      <td>11800</td>\n",
       "    </tr>\n",
       "  </tbody>\n",
       "</table>\n",
       "</div>"
      ],
      "text/plain": [
       "helpful_vote_clipped       0      1      2     3     4      5\n",
       "rating                                                       \n",
       "1                      30523  11730   4751  2402  1480   5724\n",
       "2                      23067   5813   1682   732   440   1315\n",
       "3                      35453   7370   2197  1025   568   1928\n",
       "4                      79757  11895   3417  1504   886   3534\n",
       "5                     449449  47833  11926  4990  2493  11800"
      ]
     },
     "execution_count": 61,
     "metadata": {},
     "output_type": "execute_result"
    }
   ],
   "source": [
    "pd.crosstab(full_df['rating'], full_df['helpful_vote_clipped'])"
   ]
  },
  {
   "cell_type": "code",
   "execution_count": 62,
   "id": "e4cbb6e9-1a55-4ef4-9695-8f258630e74f",
   "metadata": {},
   "outputs": [
    {
     "name": "stdout",
     "output_type": "stream",
     "text": [
      "Threshold >= 5.0: 462064 users with at least 1 relevant item\n",
      "Threshold >= 4.0: 540231 users with at least 1 relevant item\n",
      "Threshold >= 3.0: 577261 users with at least 1 relevant item\n",
      "Threshold >= 2.0: 603297 users with at least 1 relevant item\n",
      "Threshold >= 1.0: 649151 users with at least 1 relevant item\n"
     ]
    }
   ],
   "source": [
    "for t in [5.0, 4.0, 3.0, 2.0, 1.0]:\n",
    "    pos_users = full_df[full_df['rating'] >= t]['user_id'].nunique()\n",
    "    print(f\"Threshold >= {t}: {pos_users} users with at least 1 relevant item\")"
   ]
  },
  {
   "cell_type": "code",
   "execution_count": 63,
   "id": "92f0117d-0277-4266-a059-d479f644c241",
   "metadata": {},
   "outputs": [
    {
     "name": "stdout",
     "output_type": "stream",
     "text": [
      "Sparsity: 0.9980 (99.80%)\n"
     ]
    }
   ],
   "source": [
    "# Number of non-zero entries (observed interactions)\n",
    "num_interactions = len(full_df['rating'])\n",
    "\n",
    "# Total possible entries\n",
    "total_entries = len(full_df['user_id'].unique()) * len(full_df['parent_asin'].unique())\n",
    "\n",
    "# Sparsity\n",
    "sparsity = 1 - (num_interactions / total_entries)\n",
    "\n",
    "print(f\"Sparsity: {sparsity:.4f} ({sparsity*100:.2f}%)\")"
   ]
  },
  {
   "cell_type": "markdown",
   "id": "cef2f001-c190-443f-b5c3-04f3aea82d8d",
   "metadata": {},
   "source": [
    "# Create Item Dataset"
   ]
  },
  {
   "cell_type": "code",
   "execution_count": 64,
   "id": "f8da7ac0-4bae-455c-a914-57a6147c0efb",
   "metadata": {},
   "outputs": [
    {
     "data": {
      "text/html": [
       "<div>\n",
       "<style scoped>\n",
       "    .dataframe tbody tr th:only-of-type {\n",
       "        vertical-align: middle;\n",
       "    }\n",
       "\n",
       "    .dataframe tbody tr th {\n",
       "        vertical-align: top;\n",
       "    }\n",
       "\n",
       "    .dataframe thead th {\n",
       "        text-align: right;\n",
       "    }\n",
       "</style>\n",
       "<table border=\"1\" class=\"dataframe\">\n",
       "  <thead>\n",
       "    <tr style=\"text-align: right;\">\n",
       "      <th></th>\n",
       "      <th>parent_asin</th>\n",
       "      <th>cat_2</th>\n",
       "      <th>cat_4</th>\n",
       "    </tr>\n",
       "  </thead>\n",
       "  <tbody>\n",
       "    <tr>\n",
       "      <th>0</th>\n",
       "      <td>B09LW2KHPM</td>\n",
       "      <td>camping &amp; hiking</td>\n",
       "      <td>lanterns</td>\n",
       "    </tr>\n",
       "    <tr>\n",
       "      <th>1</th>\n",
       "      <td>B0BTDLFXSL</td>\n",
       "      <td>cardio training</td>\n",
       "      <td>exercise bikes</td>\n",
       "    </tr>\n",
       "    <tr>\n",
       "      <th>2</th>\n",
       "      <td>B09W4W9JB5</td>\n",
       "      <td>camping &amp; hiking</td>\n",
       "      <td>tents</td>\n",
       "    </tr>\n",
       "    <tr>\n",
       "      <th>3</th>\n",
       "      <td>B07Z6Y87XH</td>\n",
       "      <td>cycling</td>\n",
       "      <td>kids' helmets</td>\n",
       "    </tr>\n",
       "    <tr>\n",
       "      <th>4</th>\n",
       "      <td>B09HRDWXCK</td>\n",
       "      <td>camping &amp; hiking</td>\n",
       "      <td>tents</td>\n",
       "    </tr>\n",
       "  </tbody>\n",
       "</table>\n",
       "</div>"
      ],
      "text/plain": [
       "  parent_asin             cat_2           cat_4\n",
       "0  B09LW2KHPM  camping & hiking        lanterns\n",
       "1  B0BTDLFXSL   cardio training  exercise bikes\n",
       "2  B09W4W9JB5  camping & hiking           tents\n",
       "3  B07Z6Y87XH           cycling   kids' helmets\n",
       "4  B09HRDWXCK  camping & hiking           tents"
      ]
     },
     "execution_count": 64,
     "metadata": {},
     "output_type": "execute_result"
    }
   ],
   "source": [
    "# Restore a Item dateset\n",
    "items_df = full_df[['parent_asin', 'cat_2', 'cat_4']].drop_duplicates().reset_index(drop=True)\n",
    "items_df.head()"
   ]
  },
  {
   "cell_type": "markdown",
   "id": "821d3904-c331-482b-8422-65adb8a611c5",
   "metadata": {},
   "source": [
    "# Create Interacted Dataset"
   ]
  },
  {
   "cell_type": "code",
   "execution_count": 65,
   "id": "0b5bb40c-8b3e-4552-82c6-dfa101c56116",
   "metadata": {},
   "outputs": [
    {
     "data": {
      "text/html": [
       "<div>\n",
       "<style scoped>\n",
       "    .dataframe tbody tr th:only-of-type {\n",
       "        vertical-align: middle;\n",
       "    }\n",
       "\n",
       "    .dataframe tbody tr th {\n",
       "        vertical-align: top;\n",
       "    }\n",
       "\n",
       "    .dataframe thead th {\n",
       "        text-align: right;\n",
       "    }\n",
       "</style>\n",
       "<table border=\"1\" class=\"dataframe\">\n",
       "  <thead>\n",
       "    <tr style=\"text-align: right;\">\n",
       "      <th></th>\n",
       "      <th>user_id</th>\n",
       "      <th>parent_asin</th>\n",
       "      <th>cat_2</th>\n",
       "      <th>cat_4</th>\n",
       "    </tr>\n",
       "  </thead>\n",
       "  <tbody>\n",
       "    <tr>\n",
       "      <th>0</th>\n",
       "      <td>AGO25X54UAIXSKHOAH4SG2VUDUNA</td>\n",
       "      <td>B09LW2KHPM</td>\n",
       "      <td>camping &amp; hiking</td>\n",
       "      <td>lanterns</td>\n",
       "    </tr>\n",
       "    <tr>\n",
       "      <th>1</th>\n",
       "      <td>AHGGRLIBAWVH44XAY2QHQOE7S6OQ</td>\n",
       "      <td>B0BTDLFXSL</td>\n",
       "      <td>cardio training</td>\n",
       "      <td>exercise bikes</td>\n",
       "    </tr>\n",
       "    <tr>\n",
       "      <th>2</th>\n",
       "      <td>AGOSUQAEYTC5A6YDIJ7X5ZFAOSIQ</td>\n",
       "      <td>B09W4W9JB5</td>\n",
       "      <td>camping &amp; hiking</td>\n",
       "      <td>tents</td>\n",
       "    </tr>\n",
       "    <tr>\n",
       "      <th>3</th>\n",
       "      <td>AEGEQO4R6APZMUYEYT2VGJ3BKKAQ</td>\n",
       "      <td>B07Z6Y87XH</td>\n",
       "      <td>cycling</td>\n",
       "      <td>kids' helmets</td>\n",
       "    </tr>\n",
       "    <tr>\n",
       "      <th>4</th>\n",
       "      <td>AEDAZ44DKSCBHMY4VOCU6Z7DWM7A</td>\n",
       "      <td>B09HRDWXCK</td>\n",
       "      <td>camping &amp; hiking</td>\n",
       "      <td>tents</td>\n",
       "    </tr>\n",
       "  </tbody>\n",
       "</table>\n",
       "</div>"
      ],
      "text/plain": [
       "                        user_id parent_asin             cat_2           cat_4\n",
       "0  AGO25X54UAIXSKHOAH4SG2VUDUNA  B09LW2KHPM  camping & hiking        lanterns\n",
       "1  AHGGRLIBAWVH44XAY2QHQOE7S6OQ  B0BTDLFXSL   cardio training  exercise bikes\n",
       "2  AGOSUQAEYTC5A6YDIJ7X5ZFAOSIQ  B09W4W9JB5  camping & hiking           tents\n",
       "3  AEGEQO4R6APZMUYEYT2VGJ3BKKAQ  B07Z6Y87XH           cycling   kids' helmets\n",
       "4  AEDAZ44DKSCBHMY4VOCU6Z7DWM7A  B09HRDWXCK  camping & hiking           tents"
      ]
     },
     "execution_count": 65,
     "metadata": {},
     "output_type": "execute_result"
    }
   ],
   "source": [
    "# Create a Interacted Dataset\n",
    "interacted_df = full_df[['user_id', 'parent_asin','cat_2', 'cat_4']]\n",
    "interacted_df.head()"
   ]
  },
  {
   "cell_type": "markdown",
   "id": "affa25d5-7075-486f-ae1d-e389fe100810",
   "metadata": {},
   "source": [
    "# Create UIR Dataset"
   ]
  },
  {
   "cell_type": "code",
   "execution_count": 66,
   "id": "860d72dc-bc01-4a97-b2a8-fa7479933f76",
   "metadata": {},
   "outputs": [
    {
     "name": "stderr",
     "output_type": "stream",
     "text": [
      "C:\\Users\\pakke\\anaconda3\\envs\\p312\\Lib\\site-packages\\cornac\\data\\dataset.py:335: UserWarning: 1698 duplicated observations are removed!\n",
      "  warnings.warn(\"%d duplicated observations are removed!\" % dup_count)\n"
     ]
    },
    {
     "data": {
      "text/html": [
       "<div>\n",
       "<style scoped>\n",
       "    .dataframe tbody tr th:only-of-type {\n",
       "        vertical-align: middle;\n",
       "    }\n",
       "\n",
       "    .dataframe tbody tr th {\n",
       "        vertical-align: top;\n",
       "    }\n",
       "\n",
       "    .dataframe thead th {\n",
       "        text-align: right;\n",
       "    }\n",
       "</style>\n",
       "<table border=\"1\" class=\"dataframe\">\n",
       "  <thead>\n",
       "    <tr style=\"text-align: right;\">\n",
       "      <th></th>\n",
       "      <th>Item B09LW2KHPM</th>\n",
       "      <th>Item B0BTDLFXSL</th>\n",
       "      <th>Item B09W4W9JB5</th>\n",
       "      <th>Item B07Z6Y87XH</th>\n",
       "      <th>Item B09HRDWXCK</th>\n",
       "      <th>Item B000KC009Y</th>\n",
       "      <th>Item B0C6H9K5NF</th>\n",
       "      <th>Item B00INQVYZ8</th>\n",
       "      <th>Item B078FHD1ZH</th>\n",
       "      <th>Item B0855B4QZR</th>\n",
       "      <th>...</th>\n",
       "      <th>Item B0C6KP8SRQ</th>\n",
       "      <th>Item B0B829WR28</th>\n",
       "      <th>Item B0C1BD44L9</th>\n",
       "      <th>Item B0864RK56W</th>\n",
       "      <th>Item B07RHPQ3FW</th>\n",
       "      <th>Item B0917VV12K</th>\n",
       "      <th>Item B0B4M6Z2GH</th>\n",
       "      <th>Item B00H90PFOK</th>\n",
       "      <th>Item B07BM1RK7K</th>\n",
       "      <th>Item B077KGFWJ9</th>\n",
       "    </tr>\n",
       "  </thead>\n",
       "  <tbody>\n",
       "    <tr>\n",
       "      <th>User AGO25X54UAIXSKHOAH4SG2VUDUNA</th>\n",
       "      <td>1.0</td>\n",
       "      <td>NaN</td>\n",
       "      <td>NaN</td>\n",
       "      <td>NaN</td>\n",
       "      <td>NaN</td>\n",
       "      <td>NaN</td>\n",
       "      <td>NaN</td>\n",
       "      <td>NaN</td>\n",
       "      <td>NaN</td>\n",
       "      <td>NaN</td>\n",
       "      <td>...</td>\n",
       "      <td>NaN</td>\n",
       "      <td>NaN</td>\n",
       "      <td>NaN</td>\n",
       "      <td>NaN</td>\n",
       "      <td>NaN</td>\n",
       "      <td>NaN</td>\n",
       "      <td>NaN</td>\n",
       "      <td>NaN</td>\n",
       "      <td>NaN</td>\n",
       "      <td>NaN</td>\n",
       "    </tr>\n",
       "    <tr>\n",
       "      <th>User AHGGRLIBAWVH44XAY2QHQOE7S6OQ</th>\n",
       "      <td>NaN</td>\n",
       "      <td>5.0</td>\n",
       "      <td>NaN</td>\n",
       "      <td>NaN</td>\n",
       "      <td>NaN</td>\n",
       "      <td>NaN</td>\n",
       "      <td>NaN</td>\n",
       "      <td>NaN</td>\n",
       "      <td>NaN</td>\n",
       "      <td>NaN</td>\n",
       "      <td>...</td>\n",
       "      <td>NaN</td>\n",
       "      <td>NaN</td>\n",
       "      <td>NaN</td>\n",
       "      <td>NaN</td>\n",
       "      <td>NaN</td>\n",
       "      <td>NaN</td>\n",
       "      <td>NaN</td>\n",
       "      <td>NaN</td>\n",
       "      <td>NaN</td>\n",
       "      <td>NaN</td>\n",
       "    </tr>\n",
       "    <tr>\n",
       "      <th>User AGOSUQAEYTC5A6YDIJ7X5ZFAOSIQ</th>\n",
       "      <td>NaN</td>\n",
       "      <td>NaN</td>\n",
       "      <td>5.0</td>\n",
       "      <td>NaN</td>\n",
       "      <td>NaN</td>\n",
       "      <td>NaN</td>\n",
       "      <td>NaN</td>\n",
       "      <td>NaN</td>\n",
       "      <td>NaN</td>\n",
       "      <td>NaN</td>\n",
       "      <td>...</td>\n",
       "      <td>NaN</td>\n",
       "      <td>NaN</td>\n",
       "      <td>NaN</td>\n",
       "      <td>NaN</td>\n",
       "      <td>NaN</td>\n",
       "      <td>NaN</td>\n",
       "      <td>NaN</td>\n",
       "      <td>NaN</td>\n",
       "      <td>NaN</td>\n",
       "      <td>NaN</td>\n",
       "    </tr>\n",
       "    <tr>\n",
       "      <th>User AEGEQO4R6APZMUYEYT2VGJ3BKKAQ</th>\n",
       "      <td>NaN</td>\n",
       "      <td>NaN</td>\n",
       "      <td>NaN</td>\n",
       "      <td>5.0</td>\n",
       "      <td>NaN</td>\n",
       "      <td>NaN</td>\n",
       "      <td>NaN</td>\n",
       "      <td>NaN</td>\n",
       "      <td>NaN</td>\n",
       "      <td>NaN</td>\n",
       "      <td>...</td>\n",
       "      <td>NaN</td>\n",
       "      <td>NaN</td>\n",
       "      <td>NaN</td>\n",
       "      <td>NaN</td>\n",
       "      <td>NaN</td>\n",
       "      <td>NaN</td>\n",
       "      <td>NaN</td>\n",
       "      <td>NaN</td>\n",
       "      <td>NaN</td>\n",
       "      <td>NaN</td>\n",
       "    </tr>\n",
       "    <tr>\n",
       "      <th>User AEDAZ44DKSCBHMY4VOCU6Z7DWM7A</th>\n",
       "      <td>NaN</td>\n",
       "      <td>NaN</td>\n",
       "      <td>NaN</td>\n",
       "      <td>NaN</td>\n",
       "      <td>5.0</td>\n",
       "      <td>NaN</td>\n",
       "      <td>NaN</td>\n",
       "      <td>NaN</td>\n",
       "      <td>NaN</td>\n",
       "      <td>NaN</td>\n",
       "      <td>...</td>\n",
       "      <td>NaN</td>\n",
       "      <td>NaN</td>\n",
       "      <td>NaN</td>\n",
       "      <td>NaN</td>\n",
       "      <td>NaN</td>\n",
       "      <td>NaN</td>\n",
       "      <td>NaN</td>\n",
       "      <td>NaN</td>\n",
       "      <td>NaN</td>\n",
       "      <td>NaN</td>\n",
       "    </tr>\n",
       "    <tr>\n",
       "      <th>...</th>\n",
       "      <td>...</td>\n",
       "      <td>...</td>\n",
       "      <td>...</td>\n",
       "      <td>...</td>\n",
       "      <td>...</td>\n",
       "      <td>...</td>\n",
       "      <td>...</td>\n",
       "      <td>...</td>\n",
       "      <td>...</td>\n",
       "      <td>...</td>\n",
       "      <td>...</td>\n",
       "      <td>...</td>\n",
       "      <td>...</td>\n",
       "      <td>...</td>\n",
       "      <td>...</td>\n",
       "      <td>...</td>\n",
       "      <td>...</td>\n",
       "      <td>...</td>\n",
       "      <td>...</td>\n",
       "      <td>...</td>\n",
       "      <td>...</td>\n",
       "    </tr>\n",
       "    <tr>\n",
       "      <th>User AGJHIOTHTLUFIWCJUSNIW35RMYRQ</th>\n",
       "      <td>NaN</td>\n",
       "      <td>NaN</td>\n",
       "      <td>NaN</td>\n",
       "      <td>NaN</td>\n",
       "      <td>NaN</td>\n",
       "      <td>NaN</td>\n",
       "      <td>NaN</td>\n",
       "      <td>NaN</td>\n",
       "      <td>NaN</td>\n",
       "      <td>NaN</td>\n",
       "      <td>...</td>\n",
       "      <td>NaN</td>\n",
       "      <td>NaN</td>\n",
       "      <td>NaN</td>\n",
       "      <td>NaN</td>\n",
       "      <td>NaN</td>\n",
       "      <td>NaN</td>\n",
       "      <td>NaN</td>\n",
       "      <td>NaN</td>\n",
       "      <td>NaN</td>\n",
       "      <td>NaN</td>\n",
       "    </tr>\n",
       "    <tr>\n",
       "      <th>User AE4TJGRYAKCRX7BHLJGWUUP6ZQPQ</th>\n",
       "      <td>NaN</td>\n",
       "      <td>NaN</td>\n",
       "      <td>NaN</td>\n",
       "      <td>NaN</td>\n",
       "      <td>NaN</td>\n",
       "      <td>NaN</td>\n",
       "      <td>NaN</td>\n",
       "      <td>NaN</td>\n",
       "      <td>NaN</td>\n",
       "      <td>NaN</td>\n",
       "      <td>...</td>\n",
       "      <td>NaN</td>\n",
       "      <td>NaN</td>\n",
       "      <td>NaN</td>\n",
       "      <td>NaN</td>\n",
       "      <td>NaN</td>\n",
       "      <td>NaN</td>\n",
       "      <td>NaN</td>\n",
       "      <td>NaN</td>\n",
       "      <td>NaN</td>\n",
       "      <td>NaN</td>\n",
       "    </tr>\n",
       "    <tr>\n",
       "      <th>User AEYUKKCRDBX4SCDNEBVYQQ2TORRA</th>\n",
       "      <td>NaN</td>\n",
       "      <td>NaN</td>\n",
       "      <td>NaN</td>\n",
       "      <td>NaN</td>\n",
       "      <td>NaN</td>\n",
       "      <td>NaN</td>\n",
       "      <td>NaN</td>\n",
       "      <td>NaN</td>\n",
       "      <td>NaN</td>\n",
       "      <td>NaN</td>\n",
       "      <td>...</td>\n",
       "      <td>NaN</td>\n",
       "      <td>NaN</td>\n",
       "      <td>NaN</td>\n",
       "      <td>NaN</td>\n",
       "      <td>NaN</td>\n",
       "      <td>NaN</td>\n",
       "      <td>NaN</td>\n",
       "      <td>NaN</td>\n",
       "      <td>NaN</td>\n",
       "      <td>NaN</td>\n",
       "    </tr>\n",
       "    <tr>\n",
       "      <th>User AESGZS7KSDLXD6OXRMLICJWVE57Q</th>\n",
       "      <td>NaN</td>\n",
       "      <td>NaN</td>\n",
       "      <td>NaN</td>\n",
       "      <td>NaN</td>\n",
       "      <td>NaN</td>\n",
       "      <td>NaN</td>\n",
       "      <td>NaN</td>\n",
       "      <td>NaN</td>\n",
       "      <td>NaN</td>\n",
       "      <td>NaN</td>\n",
       "      <td>...</td>\n",
       "      <td>NaN</td>\n",
       "      <td>NaN</td>\n",
       "      <td>NaN</td>\n",
       "      <td>NaN</td>\n",
       "      <td>NaN</td>\n",
       "      <td>NaN</td>\n",
       "      <td>NaN</td>\n",
       "      <td>NaN</td>\n",
       "      <td>NaN</td>\n",
       "      <td>NaN</td>\n",
       "    </tr>\n",
       "    <tr>\n",
       "      <th>User AHKBIRVFLT4XUMU7FH36O2CDU53Q</th>\n",
       "      <td>NaN</td>\n",
       "      <td>NaN</td>\n",
       "      <td>NaN</td>\n",
       "      <td>NaN</td>\n",
       "      <td>NaN</td>\n",
       "      <td>NaN</td>\n",
       "      <td>NaN</td>\n",
       "      <td>NaN</td>\n",
       "      <td>NaN</td>\n",
       "      <td>NaN</td>\n",
       "      <td>...</td>\n",
       "      <td>NaN</td>\n",
       "      <td>NaN</td>\n",
       "      <td>NaN</td>\n",
       "      <td>NaN</td>\n",
       "      <td>NaN</td>\n",
       "      <td>NaN</td>\n",
       "      <td>NaN</td>\n",
       "      <td>NaN</td>\n",
       "      <td>NaN</td>\n",
       "      <td>NaN</td>\n",
       "    </tr>\n",
       "  </tbody>\n",
       "</table>\n",
       "<p>649151 rows × 584 columns</p>\n",
       "</div>"
      ],
      "text/plain": [
       "                                   Item B09LW2KHPM  Item B0BTDLFXSL  \\\n",
       "User AGO25X54UAIXSKHOAH4SG2VUDUNA              1.0              NaN   \n",
       "User AHGGRLIBAWVH44XAY2QHQOE7S6OQ              NaN              5.0   \n",
       "User AGOSUQAEYTC5A6YDIJ7X5ZFAOSIQ              NaN              NaN   \n",
       "User AEGEQO4R6APZMUYEYT2VGJ3BKKAQ              NaN              NaN   \n",
       "User AEDAZ44DKSCBHMY4VOCU6Z7DWM7A              NaN              NaN   \n",
       "...                                            ...              ...   \n",
       "User AGJHIOTHTLUFIWCJUSNIW35RMYRQ              NaN              NaN   \n",
       "User AE4TJGRYAKCRX7BHLJGWUUP6ZQPQ              NaN              NaN   \n",
       "User AEYUKKCRDBX4SCDNEBVYQQ2TORRA              NaN              NaN   \n",
       "User AESGZS7KSDLXD6OXRMLICJWVE57Q              NaN              NaN   \n",
       "User AHKBIRVFLT4XUMU7FH36O2CDU53Q              NaN              NaN   \n",
       "\n",
       "                                   Item B09W4W9JB5  Item B07Z6Y87XH  \\\n",
       "User AGO25X54UAIXSKHOAH4SG2VUDUNA              NaN              NaN   \n",
       "User AHGGRLIBAWVH44XAY2QHQOE7S6OQ              NaN              NaN   \n",
       "User AGOSUQAEYTC5A6YDIJ7X5ZFAOSIQ              5.0              NaN   \n",
       "User AEGEQO4R6APZMUYEYT2VGJ3BKKAQ              NaN              5.0   \n",
       "User AEDAZ44DKSCBHMY4VOCU6Z7DWM7A              NaN              NaN   \n",
       "...                                            ...              ...   \n",
       "User AGJHIOTHTLUFIWCJUSNIW35RMYRQ              NaN              NaN   \n",
       "User AE4TJGRYAKCRX7BHLJGWUUP6ZQPQ              NaN              NaN   \n",
       "User AEYUKKCRDBX4SCDNEBVYQQ2TORRA              NaN              NaN   \n",
       "User AESGZS7KSDLXD6OXRMLICJWVE57Q              NaN              NaN   \n",
       "User AHKBIRVFLT4XUMU7FH36O2CDU53Q              NaN              NaN   \n",
       "\n",
       "                                   Item B09HRDWXCK  Item B000KC009Y  \\\n",
       "User AGO25X54UAIXSKHOAH4SG2VUDUNA              NaN              NaN   \n",
       "User AHGGRLIBAWVH44XAY2QHQOE7S6OQ              NaN              NaN   \n",
       "User AGOSUQAEYTC5A6YDIJ7X5ZFAOSIQ              NaN              NaN   \n",
       "User AEGEQO4R6APZMUYEYT2VGJ3BKKAQ              NaN              NaN   \n",
       "User AEDAZ44DKSCBHMY4VOCU6Z7DWM7A              5.0              NaN   \n",
       "...                                            ...              ...   \n",
       "User AGJHIOTHTLUFIWCJUSNIW35RMYRQ              NaN              NaN   \n",
       "User AE4TJGRYAKCRX7BHLJGWUUP6ZQPQ              NaN              NaN   \n",
       "User AEYUKKCRDBX4SCDNEBVYQQ2TORRA              NaN              NaN   \n",
       "User AESGZS7KSDLXD6OXRMLICJWVE57Q              NaN              NaN   \n",
       "User AHKBIRVFLT4XUMU7FH36O2CDU53Q              NaN              NaN   \n",
       "\n",
       "                                   Item B0C6H9K5NF  Item B00INQVYZ8  \\\n",
       "User AGO25X54UAIXSKHOAH4SG2VUDUNA              NaN              NaN   \n",
       "User AHGGRLIBAWVH44XAY2QHQOE7S6OQ              NaN              NaN   \n",
       "User AGOSUQAEYTC5A6YDIJ7X5ZFAOSIQ              NaN              NaN   \n",
       "User AEGEQO4R6APZMUYEYT2VGJ3BKKAQ              NaN              NaN   \n",
       "User AEDAZ44DKSCBHMY4VOCU6Z7DWM7A              NaN              NaN   \n",
       "...                                            ...              ...   \n",
       "User AGJHIOTHTLUFIWCJUSNIW35RMYRQ              NaN              NaN   \n",
       "User AE4TJGRYAKCRX7BHLJGWUUP6ZQPQ              NaN              NaN   \n",
       "User AEYUKKCRDBX4SCDNEBVYQQ2TORRA              NaN              NaN   \n",
       "User AESGZS7KSDLXD6OXRMLICJWVE57Q              NaN              NaN   \n",
       "User AHKBIRVFLT4XUMU7FH36O2CDU53Q              NaN              NaN   \n",
       "\n",
       "                                   Item B078FHD1ZH  Item B0855B4QZR  ...  \\\n",
       "User AGO25X54UAIXSKHOAH4SG2VUDUNA              NaN              NaN  ...   \n",
       "User AHGGRLIBAWVH44XAY2QHQOE7S6OQ              NaN              NaN  ...   \n",
       "User AGOSUQAEYTC5A6YDIJ7X5ZFAOSIQ              NaN              NaN  ...   \n",
       "User AEGEQO4R6APZMUYEYT2VGJ3BKKAQ              NaN              NaN  ...   \n",
       "User AEDAZ44DKSCBHMY4VOCU6Z7DWM7A              NaN              NaN  ...   \n",
       "...                                            ...              ...  ...   \n",
       "User AGJHIOTHTLUFIWCJUSNIW35RMYRQ              NaN              NaN  ...   \n",
       "User AE4TJGRYAKCRX7BHLJGWUUP6ZQPQ              NaN              NaN  ...   \n",
       "User AEYUKKCRDBX4SCDNEBVYQQ2TORRA              NaN              NaN  ...   \n",
       "User AESGZS7KSDLXD6OXRMLICJWVE57Q              NaN              NaN  ...   \n",
       "User AHKBIRVFLT4XUMU7FH36O2CDU53Q              NaN              NaN  ...   \n",
       "\n",
       "                                   Item B0C6KP8SRQ  Item B0B829WR28  \\\n",
       "User AGO25X54UAIXSKHOAH4SG2VUDUNA              NaN              NaN   \n",
       "User AHGGRLIBAWVH44XAY2QHQOE7S6OQ              NaN              NaN   \n",
       "User AGOSUQAEYTC5A6YDIJ7X5ZFAOSIQ              NaN              NaN   \n",
       "User AEGEQO4R6APZMUYEYT2VGJ3BKKAQ              NaN              NaN   \n",
       "User AEDAZ44DKSCBHMY4VOCU6Z7DWM7A              NaN              NaN   \n",
       "...                                            ...              ...   \n",
       "User AGJHIOTHTLUFIWCJUSNIW35RMYRQ              NaN              NaN   \n",
       "User AE4TJGRYAKCRX7BHLJGWUUP6ZQPQ              NaN              NaN   \n",
       "User AEYUKKCRDBX4SCDNEBVYQQ2TORRA              NaN              NaN   \n",
       "User AESGZS7KSDLXD6OXRMLICJWVE57Q              NaN              NaN   \n",
       "User AHKBIRVFLT4XUMU7FH36O2CDU53Q              NaN              NaN   \n",
       "\n",
       "                                   Item B0C1BD44L9  Item B0864RK56W  \\\n",
       "User AGO25X54UAIXSKHOAH4SG2VUDUNA              NaN              NaN   \n",
       "User AHGGRLIBAWVH44XAY2QHQOE7S6OQ              NaN              NaN   \n",
       "User AGOSUQAEYTC5A6YDIJ7X5ZFAOSIQ              NaN              NaN   \n",
       "User AEGEQO4R6APZMUYEYT2VGJ3BKKAQ              NaN              NaN   \n",
       "User AEDAZ44DKSCBHMY4VOCU6Z7DWM7A              NaN              NaN   \n",
       "...                                            ...              ...   \n",
       "User AGJHIOTHTLUFIWCJUSNIW35RMYRQ              NaN              NaN   \n",
       "User AE4TJGRYAKCRX7BHLJGWUUP6ZQPQ              NaN              NaN   \n",
       "User AEYUKKCRDBX4SCDNEBVYQQ2TORRA              NaN              NaN   \n",
       "User AESGZS7KSDLXD6OXRMLICJWVE57Q              NaN              NaN   \n",
       "User AHKBIRVFLT4XUMU7FH36O2CDU53Q              NaN              NaN   \n",
       "\n",
       "                                   Item B07RHPQ3FW  Item B0917VV12K  \\\n",
       "User AGO25X54UAIXSKHOAH4SG2VUDUNA              NaN              NaN   \n",
       "User AHGGRLIBAWVH44XAY2QHQOE7S6OQ              NaN              NaN   \n",
       "User AGOSUQAEYTC5A6YDIJ7X5ZFAOSIQ              NaN              NaN   \n",
       "User AEGEQO4R6APZMUYEYT2VGJ3BKKAQ              NaN              NaN   \n",
       "User AEDAZ44DKSCBHMY4VOCU6Z7DWM7A              NaN              NaN   \n",
       "...                                            ...              ...   \n",
       "User AGJHIOTHTLUFIWCJUSNIW35RMYRQ              NaN              NaN   \n",
       "User AE4TJGRYAKCRX7BHLJGWUUP6ZQPQ              NaN              NaN   \n",
       "User AEYUKKCRDBX4SCDNEBVYQQ2TORRA              NaN              NaN   \n",
       "User AESGZS7KSDLXD6OXRMLICJWVE57Q              NaN              NaN   \n",
       "User AHKBIRVFLT4XUMU7FH36O2CDU53Q              NaN              NaN   \n",
       "\n",
       "                                   Item B0B4M6Z2GH  Item B00H90PFOK  \\\n",
       "User AGO25X54UAIXSKHOAH4SG2VUDUNA              NaN              NaN   \n",
       "User AHGGRLIBAWVH44XAY2QHQOE7S6OQ              NaN              NaN   \n",
       "User AGOSUQAEYTC5A6YDIJ7X5ZFAOSIQ              NaN              NaN   \n",
       "User AEGEQO4R6APZMUYEYT2VGJ3BKKAQ              NaN              NaN   \n",
       "User AEDAZ44DKSCBHMY4VOCU6Z7DWM7A              NaN              NaN   \n",
       "...                                            ...              ...   \n",
       "User AGJHIOTHTLUFIWCJUSNIW35RMYRQ              NaN              NaN   \n",
       "User AE4TJGRYAKCRX7BHLJGWUUP6ZQPQ              NaN              NaN   \n",
       "User AEYUKKCRDBX4SCDNEBVYQQ2TORRA              NaN              NaN   \n",
       "User AESGZS7KSDLXD6OXRMLICJWVE57Q              NaN              NaN   \n",
       "User AHKBIRVFLT4XUMU7FH36O2CDU53Q              NaN              NaN   \n",
       "\n",
       "                                   Item B07BM1RK7K  Item B077KGFWJ9  \n",
       "User AGO25X54UAIXSKHOAH4SG2VUDUNA              NaN              NaN  \n",
       "User AHGGRLIBAWVH44XAY2QHQOE7S6OQ              NaN              NaN  \n",
       "User AGOSUQAEYTC5A6YDIJ7X5ZFAOSIQ              NaN              NaN  \n",
       "User AEGEQO4R6APZMUYEYT2VGJ3BKKAQ              NaN              NaN  \n",
       "User AEDAZ44DKSCBHMY4VOCU6Z7DWM7A              NaN              NaN  \n",
       "...                                            ...              ...  \n",
       "User AGJHIOTHTLUFIWCJUSNIW35RMYRQ              NaN              NaN  \n",
       "User AE4TJGRYAKCRX7BHLJGWUUP6ZQPQ              NaN              NaN  \n",
       "User AEYUKKCRDBX4SCDNEBVYQQ2TORRA              NaN              NaN  \n",
       "User AESGZS7KSDLXD6OXRMLICJWVE57Q              NaN              NaN  \n",
       "User AHKBIRVFLT4XUMU7FH36O2CDU53Q              NaN              NaN  \n",
       "\n",
       "[649151 rows x 584 columns]"
      ]
     },
     "execution_count": 66,
     "metadata": {},
     "output_type": "execute_result"
    }
   ],
   "source": [
    "uir_dataset = cornac.data.Dataset.from_uir(\n",
    "    list(full_df[['user_id', 'parent_asin', 'rating']].itertuples(index=False, name=None))\n",
    ")\n",
    "R = uir_dataset.matrix.toarray()\n",
    "R_mask = (R > 0).astype(float)\n",
    "pd.DataFrame(\n",
    "  data=R,\n",
    "  index=[f\"User {uir_dataset.user_ids[u]}\" for u in np.arange(uir_dataset.num_users)],\n",
    "  columns=[f\"Item {uir_dataset.item_ids[i]}\" for i in np.arange(uir_dataset.num_items)]\n",
    ").replace(0, np.nan)"
   ]
  },
  {
   "cell_type": "markdown",
   "id": "4dcc9541-537f-4e33-a475-90a0cbe76431",
   "metadata": {},
   "source": [
    "# Helper Functions"
   ]
  },
  {
   "cell_type": "code",
   "execution_count": 67,
   "id": "8f592e1c-281f-41b8-aa7b-5564af6d6ef0",
   "metadata": {},
   "outputs": [],
   "source": [
    "def convert_df_to_cornac_format(df, model=None):\n",
    "    \"\"\"\n",
    "    Converts a Pandas DataFrame to Cornac-compatible (user, item, rating/confidence) triplets\n",
    "    based on the model type.\n",
    "\n",
    "    Parameters:\n",
    "        df (pd.DataFrame): Must contain 'user_id', 'parent_asin', and relevant columns\n",
    "        model (str): One of 'BPR', 'WMF', 'MF', or 'EASE'\n",
    "\n",
    "    Returns:\n",
    "        List of (user, item, score) triplets\n",
    "    \"\"\"\n",
    "    df = df.copy()\n",
    "\n",
    "    if model in {\"BPR\", \"EASE\"}:\n",
    "        # Binary implicit feedback (1 if purchased or helped)\n",
    "        df['interaction'] = ((df['verified_purchase_flag'] == 1) | (df['helpful_vote_clipped'] > 0)).astype(np.float32)\n",
    "        r = 'interaction'\n",
    "\n",
    "    elif model == \"WMF\":\n",
    "        # Confidence score (clipped helpful votes)\n",
    "        df['confidence'] = df['helpful_vote_clipped'].fillna(0).astype(np.float32)\n",
    "        r = 'confidence'\n",
    "\n",
    "    elif model == \"MF\":\n",
    "        # Explicit feedback model\n",
    "        if \"rating\" not in df.columns:\n",
    "            raise ValueError(\"DataFrame must contain a 'rating' column for MF.\")\n",
    "        r = \"rating\"\n",
    "\n",
    "    else:\n",
    "        raise ValueError(f\"Unsupported model type: {model}\")\n",
    "\n",
    "    return list(zip(\n",
    "        df['user_id'].astype(str).values,\n",
    "        df['parent_asin'].astype(str).values,\n",
    "        df[r].astype(np.float32).values\n",
    "    ))\n"
   ]
  },
  {
   "cell_type": "code",
   "execution_count": 68,
   "id": "8fc3c9a8-f7ff-4092-a487-a181b35aca40",
   "metadata": {},
   "outputs": [],
   "source": [
    "# --- Shared setup ---\n",
    "def run_experiment(model, model_name, full_data, rating_threshold=4.0):\n",
    "    ev = RatioSplit(\n",
    "    data=full_data,\n",
    "    test_size=0.2,\n",
    "    rating_threshold=rating_threshold,\n",
    "    exclude_unknowns=True,\n",
    "    seed=SEED,\n",
    "    verbose=VERBOSE\n",
    "    )\n",
    "\n",
    "    metrics = [Recall(k=50), FMeasure(k=50), NCRR(k=50), NDCG(k=50)]\n",
    "    exp = cornac.Experiment(eval_method=ev, models=[model], metrics=metrics, save_dir=None, verbose=False)\n",
    "\n",
    "    # UTF-8 patch to fix UnicodeEncodeError (for EASE)\n",
    "    def safe_utf8_open(*args, **kwargs):\n",
    "        if len(args) >= 2 and isinstance(args[1], str) and 'b' in args[1]:\n",
    "            # Binary mode\n",
    "            return open_backup(*args, **kwargs)\n",
    "        # Text mode – enforce UTF-8 encoding\n",
    "        kwargs.setdefault('encoding', 'utf-8')\n",
    "        return open_backup(*args, **kwargs)\n",
    "            \n",
    "    open_backup = builtins.open\n",
    "    exp.run()\n",
    "    builtins.open = safe_utf8_open  # Restore open()\n",
    "    return exp.result[0].metric_avg_results, exp.result[0]\n",
    "\n",
    "# --- MF tuning only ---\n",
    "def objective_mf(trial):\n",
    "    k = trial.suggest_int(\"k\", 10, 200)\n",
    "    learning_rate = trial.suggest_float(\"learning_rate\", 0.001, 0.05, log=True)\n",
    "    lambda_reg = trial.suggest_float(\"lambda_reg\", 0.001, 0.1, log=True)\n",
    "    max_iter = 100\n",
    "\n",
    "    model = MF(\n",
    "        k=k,\n",
    "        max_iter=max_iter,\n",
    "        learning_rate=learning_rate,\n",
    "        lambda_reg=lambda_reg,\n",
    "        use_bias=True,  # Optional: can set to False if you want unbiased MF\n",
    "        seed=SEED,\n",
    "        verbose=VERBOSE\n",
    "    )\n",
    "\n",
    "    metrics, result = run_experiment(\n",
    "        model=model,\n",
    "        model_name=\"MF\",\n",
    "        full_data=rating_data,            # assumed explicit ratings (e.g., 1–5)\n",
    "        rating_threshold=4.0\n",
    "    )\n",
    "\n",
    "    trial.set_user_attr(\"result\", result)\n",
    "    return metrics[\"F1@50\"]\n",
    "\n",
    "# --- BPR tuning only ---\n",
    "def objective_bpr(trial):\n",
    "    k = trial.suggest_int(\"k\", 100, 200)\n",
    "    lr = trial.suggest_float(\"learning_rate\", 0.001, 0.05, log=True)\n",
    "    lambda_reg = trial.suggest_float(\"lambda_reg\", 0.001, 0.1, log=True)\n",
    "    max_iter = 500\n",
    "\n",
    "    model = BPR(k=k, max_iter=max_iter, learning_rate=lr,\n",
    "                lambda_reg=lambda_reg, seed=SEED, verbose=VERBOSE)\n",
    "    metrics, result = run_experiment(model, \"BPR\", interaction_data, rating_threshold=0.5)\n",
    "\n",
    "    trial.set_user_attr(\"result\", result)\n",
    "    return metrics[\"F1@50\"]\n",
    "\n",
    "# --- WMF tuning only ---\n",
    "def objective_wmf(trial):\n",
    "    k = trial.suggest_int(\"k\", 50, 250)\n",
    "    lr = trial.suggest_float(\"learning_rate\", 0.001, 0.05, log=True)\n",
    "    lambda_u = trial.suggest_float(\"lambda_u\", 0.001, 0.1, log=True)\n",
    "    lambda_v = trial.suggest_float(\"lambda_v\", 0.001, 0.1, log=True)\n",
    "    a = trial.suggest_float(\"a\", 1.0, 10.0)\n",
    "    b = trial.suggest_float(\"b\", 0.0001, 0.01, log=True)\n",
    "    max_iter = 50\n",
    "    #max_iter = trial.suggest_int(\"max_iter\", 100, 400)\n",
    "\n",
    "    model = WMF(k=k, max_iter=max_iter, a=a, b=b, learning_rate=lr,\n",
    "                lambda_u=lambda_u, lambda_v=lambda_v, seed=SEED, verbose=VERBOSE)\n",
    "    metrics, result = run_experiment(model, \"WMF\", confidence_data, rating_threshold=0.5)\n",
    "    trial.set_user_attr(\"result\", result)\n",
    "    return metrics[\"F1@50\"]\n",
    "    \n",
    "# --- EASE tuning only ---\n",
    "def objective_ease(trial):\n",
    "    lamb = trial.suggest_float(\"lamb\", 10.0, 1000.0, log=True)\n",
    "\n",
    "    model = EASE(lamb=lamb, verbose=VERBOSE)\n",
    "    metrics, result = run_experiment(\n",
    "        model=model,\n",
    "        model_name=\"EASE\",\n",
    "        full_data=interaction_data,\n",
    "        rating_threshold=0.5\n",
    "    )\n",
    "\n",
    "    trial.set_user_attr(\"result\", result)\n",
    "    return metrics[\"F1@50\"]"
   ]
  },
  {
   "cell_type": "code",
   "execution_count": 69,
   "id": "800c467c-260f-46b0-a170-864ab7dbb664",
   "metadata": {},
   "outputs": [],
   "source": [
    "def generate_top_k_recommendations(model_class, dataset, study=None, k=10, model_path=None):\n",
    "    \"\"\"\n",
    "    Generate top-k item recommendations for a sample of users using a trained Cornac model.\n",
    "    \n",
    "    Parameters:\n",
    "        model_class: Cornac model class (e.g., BPR, WMF, MF, EASE)\n",
    "        dataset: Cornac-format dataset\n",
    "        study: Optuna study object (optional)\n",
    "        k: number of top items per user\n",
    "        model_path: optional path to load a pickled model\n",
    "\n",
    "    Returns:\n",
    "        pd.DataFrame: top-k item IDs per user\n",
    "    \"\"\"\n",
    "    # === Extract best parameters ===\n",
    "    best_params = study.best_params if study else {}\n",
    "\n",
    "    # === Load model if path provided ===\n",
    "    if model_path:\n",
    "        with open(model_path, \"rb\") as f:\n",
    "            model = pickle.load(f)\n",
    "        print(f\"Loaded model from: {model_path}\")\n",
    "    else:\n",
    "        # === Generate model name for logging/debugging ===\n",
    "        if study:\n",
    "            if model_class.__name__ == \"WMF\":\n",
    "                model_name = (\n",
    "                    f\"WMF(k={best_params['k']}, lr={best_params['learning_rate']:.4f}, \"\n",
    "                    f\"lambda_u={best_params['lambda_u']:.4f}, lambda_v={best_params['lambda_v']:.4f}, \"\n",
    "                    f\"a={best_params['a']}, b={best_params['b']:.4f}, it=50)\"\n",
    "                )\n",
    "            elif model_class.__name__ == \"BPR\":\n",
    "                model_name = (\n",
    "                    f\"BPR(k={best_params['k']}, lr={best_params['learning_rate']:.4f}, \"\n",
    "                    f\"lambda_reg={best_params['lambda_reg']:.4f}, it=500)\"\n",
    "                )\n",
    "            elif model_class.__name__ == \"EASE\":\n",
    "                model_name = f\"EASE(lamb={best_params['lamb']:.2f})\"\n",
    "            elif model_class.__name__ == \"MF\":\n",
    "                model_name = (\n",
    "                    f\"MF(k={best_params['k']}, lr={best_params['learning_rate']:.4f}, \"\n",
    "                    f\"lambda_reg={best_params['lambda_reg']:.4f}, use_bias={best_params.get('use_bias', True)})\"\n",
    "                )\n",
    "            else:\n",
    "                model_name = f\"{model_class.__name__}_tuned\"\n",
    "        else:\n",
    "            model_name = f\"{model_class.__name__}_default\"\n",
    "\n",
    "        # === Instantiate and train model ===\n",
    "        model = model_class(\n",
    "            **best_params,\n",
    "            seed=SEED,\n",
    "            verbose=VERBOSE,\n",
    "            name=model_name\n",
    "        )\n",
    "        model.fit(dataset)\n",
    "\n",
    "    # === Extract mapping from train set ===\n",
    "    train_set = model.train_set\n",
    "    id2raw_iid = {v: k for k, v in train_set.iid_map.items()}\n",
    "    id2raw_uid = {v: k for k, v in train_set.uid_map.items()}\n",
    "    user_indices = sorted(range(train_set.num_users), key=lambda x: id2raw_uid[x])\n",
    "    sampled_user_indices = random.sample(user_indices, k=100)\n",
    "\n",
    "    # === Generate top-k items per user ===\n",
    "    all_top_k = []\n",
    "    for uid in sampled_user_indices:\n",
    "        scores = np.asarray(model.score(user_idx=uid)).flatten()\n",
    "        top_iids = np.argsort(-scores)[:k]\n",
    "        raw_iids = [id2raw_iid[i] for i in top_iids]\n",
    "        all_top_k.append(raw_iids)\n",
    "\n",
    "    # === Return as DataFrame ===\n",
    "    df_topk = pd.DataFrame(all_top_k, index=[id2raw_uid[uid] for uid in sampled_user_indices])\n",
    "    df_topk.index.name = \"user_id\"\n",
    "\n",
    "    return df_topk\n"
   ]
  },
  {
   "cell_type": "code",
   "execution_count": 70,
   "id": "31d47f71-b599-45f6-9637-e5c1b8e60863",
   "metadata": {},
   "outputs": [],
   "source": [
    "def annotate_recommendations_with_category(df_topk, items_df):\n",
    "    \"\"\"\n",
    "    Converts wide-format top-k recommendation DataFrame into long format and \n",
    "    joins with item metadata (cat_2, cat_4).\n",
    "\n",
    "    Parameters:\n",
    "        df_topk (pd.DataFrame): Top-k recommendations (users as index, items as columns).\n",
    "        items_df (pd.DataFrame): Item metadata with columns ['parent_asin', 'cat_2', 'cat_4'].\n",
    "\n",
    "    Returns:\n",
    "        pd.DataFrame: Long-format DataFrame with user_id, rank (1-based), parent_asin, cat_2, cat_4.\n",
    "    \"\"\"\n",
    "    # Flatten to long format\n",
    "    df_long = df_topk.reset_index().melt(id_vars='user_id', var_name='rank', value_name='parent_asin')\n",
    "    \n",
    "    # Merge with metadata\n",
    "    df_merged = df_long.merge(items_df[['parent_asin', 'cat_2', 'cat_4']], on='parent_asin', how='left')\n",
    "    \n",
    "    # Convert rank to 1-based integer\n",
    "    df_merged['rank'] = df_merged['rank'].astype(int) + 1\n",
    "    \n",
    "    # Sort result\n",
    "    df_merged = df_merged.sort_values(by=['user_id', 'rank'])\n",
    "\n",
    "    return df_merged\n"
   ]
  },
  {
   "cell_type": "code",
   "execution_count": 71,
   "id": "d7db3ae9-7311-4ebf-b3da-68ff817348ea",
   "metadata": {},
   "outputs": [],
   "source": [
    "import pandas as pd\n",
    "\n",
    "def compute_cat2_diff_cat4_rate(interacted_df, recommendation_df):\n",
    "    \"\"\"\n",
    "    Computes the rate of recommendations that match the user's rated `cat_2`\n",
    "    but have different `cat_4`.\n",
    "\n",
    "    Parameters:\n",
    "        interacted_df (pd.DataFrame): User-item interactions with columns:\n",
    "            ['user_id', 'parent_asin', 'cat_2', 'cat_4']\n",
    "        recommendation_df (pd.DataFrame): Recommendations with:\n",
    "            ['user_id', 'parent_asin', 'cat_2', 'cat_4']\n",
    "\n",
    "    Returns:\n",
    "        overall_rate (float): Fraction of recommended items that are in the same\n",
    "                              `cat_2` but not in the same `cat_4` as the rated ones.\n",
    "        labeled_recommendations (pd.DataFrame): recommendation_df with an added\n",
    "                                                'cat_match' column.\n",
    "        user_rate (pd.Series): Per-user rate of 'same_cat2_diff_cat4' items.\n",
    "    \"\"\"\n",
    "    # Build per-user sets of rated categories\n",
    "    rated_cat2 = interacted_df.groupby('user_id')['cat_2'].apply(set)\n",
    "    rated_cat4 = interacted_df.groupby('user_id')['cat_4'].apply(set)\n",
    "\n",
    "    # Helper to assign match label\n",
    "    def label_category_match(row):\n",
    "        user = row['user_id']\n",
    "        c2 = row['cat_2']\n",
    "        c4 = row['cat_4']\n",
    "        cat2_set = rated_cat2.get(user, set())\n",
    "        cat4_set = rated_cat4.get(user, set())\n",
    "        if c4 in cat4_set:\n",
    "            return 'same_cat4'\n",
    "        elif c2 in cat2_set:\n",
    "            return 'same_cat2_diff_cat4'\n",
    "        else:\n",
    "            return 'diff_cat2'\n",
    "\n",
    "    # Apply labeling\n",
    "    recommendation_df = recommendation_df.copy()\n",
    "    recommendation_df['cat_match'] = recommendation_df.apply(label_category_match, axis=1)\n",
    "\n",
    "    # Compute overall rate\n",
    "    overall_rate = (recommendation_df['cat_match'] == 'same_cat2_diff_cat4').mean()\n",
    "\n",
    "    # Per-user rate\n",
    "    user_rate = (\n",
    "        recommendation_df.groupby('user_id')['cat_match']\n",
    "        .apply(lambda x: (x == 'same_cat2_diff_cat4').mean())\n",
    "    )\n",
    "\n",
    "    return overall_rate, recommendation_df, user_rate\n"
   ]
  },
  {
   "cell_type": "markdown",
   "id": "7035e704-548b-49f7-8301-900ed6ec99a8",
   "metadata": {},
   "source": [
    "# Create Interaction, Confidence Data ad Rating Data for Models"
   ]
  },
  {
   "cell_type": "code",
   "execution_count": 72,
   "id": "c9e4a4fd-8482-46c0-811b-00c7234d1e82",
   "metadata": {},
   "outputs": [],
   "source": [
    "interaction_data = convert_df_to_cornac_format(full_df, model=\"BPR\")\n",
    "confidence_data = convert_df_to_cornac_format(full_df, model=\"WMF\")\n",
    "rating_data = convert_df_to_cornac_format(full_df, model=\"MF\")\n"
   ]
  },
  {
   "cell_type": "code",
   "execution_count": 73,
   "id": "94a18a7d-e573-4d9d-b412-1d7ed515c90a",
   "metadata": {},
   "outputs": [],
   "source": [
    "N = 15\n",
    "now = datetime.now().strftime(\"%Y%m%d_%H%M%S\")"
   ]
  },
  {
   "cell_type": "markdown",
   "id": "b8a263c6-f525-4d1a-8aff-acab20e385f6",
   "metadata": {},
   "source": [
    "# MF"
   ]
  },
  {
   "cell_type": "code",
   "execution_count": 74,
   "id": "1e0aea2c-356d-4fc8-ad22-c1973f4fa65c",
   "metadata": {},
   "outputs": [
    {
     "name": "stderr",
     "output_type": "stream",
     "text": [
      "[I 2025-06-17 15:31:19,994] A new study created in memory with name: no-name-0ec7d80e-033c-4f6e-8318-937cba0df3f6\n",
      "C:\\Users\\pakke\\anaconda3\\envs\\p312\\Lib\\site-packages\\cornac\\data\\dataset.py:335: UserWarning: 1077 duplicated observations are removed!\n",
      "  warnings.warn(\"%d duplicated observations are removed!\" % dup_count)\n",
      "C:\\Users\\pakke\\anaconda3\\envs\\p312\\Lib\\site-packages\\cornac\\data\\dataset.py:335: UserWarning: 39 duplicated observations are removed!\n",
      "  warnings.warn(\"%d duplicated observations are removed!\" % dup_count)\n"
     ]
    },
    {
     "name": "stdout",
     "output_type": "stream",
     "text": [
      "\n",
      "TEST:\n",
      "...\n",
      "   |  F1@50 | NCRR@50 | NDCG@50 | Recall@50 | Train (s) | Test (s)\n",
      "-- + ------ + ------- + ------- + --------- + --------- + --------\n",
      "MF | 0.0040 |  0.0097 |  0.0260 |    0.0958 |   23.1322 |  14.5490\n",
      "\n"
     ]
    },
    {
     "name": "stderr",
     "output_type": "stream",
     "text": [
      "[I 2025-06-17 15:32:00,297] Trial 0 finished with value: 0.004044227116494557 and parameters: {'k': 173, 'learning_rate': 0.001647285822177527, 'lambda_reg': 0.013501841072834326}. Best is trial 0 with value: 0.004044227116494557.\n"
     ]
    },
    {
     "name": "stdout",
     "output_type": "stream",
     "text": [
      "\n",
      "TEST:\n",
      "...\n",
      "   |  F1@50 | NCRR@50 | NDCG@50 | Recall@50 | Train (s) | Test (s)\n",
      "-- + ------ + ------- + ------- + --------- + --------- + --------\n",
      "MF | 0.0044 |  0.0139 |  0.0310 |    0.1038 |   15.8270 |  13.0808\n",
      "\n"
     ]
    },
    {
     "name": "stderr",
     "output_type": "stream",
     "text": [
      "[I 2025-06-17 15:32:31,953] Trial 1 finished with value: 0.004361476230725871 and parameters: {'k': 111, 'learning_rate': 0.0016933974082352578, 'lambda_reg': 0.0012472940391233653}. Best is trial 1 with value: 0.004361476230725871.\n"
     ]
    },
    {
     "name": "stdout",
     "output_type": "stream",
     "text": [
      "\n",
      "TEST:\n",
      "...\n",
      "   |  F1@50 | NCRR@50 | NDCG@50 | Recall@50 | Train (s) | Test (s)\n",
      "-- + ------ + ------- + ------- + --------- + --------- + --------\n",
      "MF | 0.0043 |  0.0140 |  0.0309 |    0.1029 |   25.5765 |  12.0894\n",
      "\n"
     ]
    },
    {
     "name": "stderr",
     "output_type": "stream",
     "text": [
      "[I 2025-06-17 15:33:12,575] Trial 2 finished with value: 0.004340768335573334 and parameters: {'k': 199, 'learning_rate': 0.004726643788481928, 'lambda_reg': 0.006980964892924002}. Best is trial 1 with value: 0.004361476230725871.\n"
     ]
    },
    {
     "name": "stdout",
     "output_type": "stream",
     "text": [
      "\n",
      "TEST:\n",
      "...\n",
      "   |  F1@50 | NCRR@50 | NDCG@50 | Recall@50 | Train (s) | Test (s)\n",
      "-- + ------ + ------- + ------- + --------- + --------- + --------\n",
      "MF | 0.0039 |  0.0119 |  0.0272 |    0.0925 |   20.9099 |  12.8749\n",
      "\n"
     ]
    },
    {
     "name": "stderr",
     "output_type": "stream",
     "text": [
      "[I 2025-06-17 15:33:49,119] Trial 3 finished with value: 0.003899827451254143 and parameters: {'k': 164, 'learning_rate': 0.03895139830987074, 'lambda_reg': 0.07586857380840076}. Best is trial 1 with value: 0.004361476230725871.\n"
     ]
    },
    {
     "name": "stdout",
     "output_type": "stream",
     "text": [
      "\n",
      "TEST:\n",
      "...\n",
      "   |  F1@50 | NCRR@50 | NDCG@50 | Recall@50 | Train (s) | Test (s)\n",
      "-- + ------ + ------- + ------- + --------- + --------- + --------\n",
      "MF | 0.0042 |  0.0135 |  0.0301 |    0.1002 |   13.7270 |  13.2329\n",
      "\n"
     ]
    },
    {
     "name": "stderr",
     "output_type": "stream",
     "text": [
      "[I 2025-06-17 15:34:18,759] Trial 4 finished with value: 0.0042397461674030315 and parameters: {'k': 105, 'learning_rate': 0.021867279489203865, 'lambda_reg': 0.008646975983398416}. Best is trial 1 with value: 0.004361476230725871.\n"
     ]
    },
    {
     "name": "stdout",
     "output_type": "stream",
     "text": [
      "\n",
      "TEST:\n",
      "...\n",
      "   |  F1@50 | NCRR@50 | NDCG@50 | Recall@50 | Train (s) | Test (s)\n",
      "-- + ------ + ------- + ------- + --------- + --------- + --------\n",
      "MF | 0.0037 |  0.0089 |  0.0238 |    0.0884 |    4.7654 |  12.2690\n",
      "\n"
     ]
    },
    {
     "name": "stderr",
     "output_type": "stream",
     "text": [
      "[I 2025-06-17 15:34:38,716] Trial 5 finished with value: 0.0037170732121429447 and parameters: {'k': 27, 'learning_rate': 0.0010476615851847408, 'lambda_reg': 0.02982487770921361}. Best is trial 1 with value: 0.004361476230725871.\n"
     ]
    },
    {
     "name": "stdout",
     "output_type": "stream",
     "text": [
      "\n",
      "TEST:\n",
      "...\n",
      "   |  F1@50 | NCRR@50 | NDCG@50 | Recall@50 | Train (s) | Test (s)\n",
      "-- + ------ + ------- + ------- + --------- + --------- + --------\n",
      "MF | 0.0043 |  0.0160 |  0.0324 |    0.1018 |   25.9593 |  12.3585\n",
      "\n"
     ]
    },
    {
     "name": "stderr",
     "output_type": "stream",
     "text": [
      "[I 2025-06-17 15:35:19,856] Trial 6 finished with value: 0.004304606409908761 and parameters: {'k': 194, 'learning_rate': 0.0041891000414099235, 'lambda_reg': 0.0018809916376636912}. Best is trial 1 with value: 0.004361476230725871.\n"
     ]
    },
    {
     "name": "stdout",
     "output_type": "stream",
     "text": [
      "\n",
      "TEST:\n",
      "...\n",
      "   |  F1@50 | NCRR@50 | NDCG@50 | Recall@50 | Train (s) | Test (s)\n",
      "-- + ------ + ------- + ------- + --------- + --------- + --------\n",
      "MF | 0.0038 |  0.0096 |  0.0248 |    0.0900 |   18.0534 |  13.2929\n",
      "\n"
     ]
    },
    {
     "name": "stderr",
     "output_type": "stream",
     "text": [
      "[I 2025-06-17 15:35:54,073] Trial 7 finished with value: 0.0037913698749922507 and parameters: {'k': 129, 'learning_rate': 0.0035794196616162205, 'lambda_reg': 0.046099665642046345}. Best is trial 1 with value: 0.004361476230725871.\n"
     ]
    },
    {
     "name": "stdout",
     "output_type": "stream",
     "text": [
      "\n",
      "TEST:\n",
      "...\n",
      "   |  F1@50 | NCRR@50 | NDCG@50 | Recall@50 | Train (s) | Test (s)\n",
      "-- + ------ + ------- + ------- + --------- + --------- + --------\n",
      "MF | 0.0043 |  0.0141 |  0.0309 |    0.1019 |   21.4346 |  13.2196\n",
      "\n"
     ]
    },
    {
     "name": "stderr",
     "output_type": "stream",
     "text": [
      "[I 2025-06-17 15:36:31,601] Trial 8 finished with value: 0.0042963808130384975 and parameters: {'k': 152, 'learning_rate': 0.045260368732379715, 'lambda_reg': 0.004571932920637526}. Best is trial 1 with value: 0.004361476230725871.\n"
     ]
    },
    {
     "name": "stdout",
     "output_type": "stream",
     "text": [
      "\n",
      "TEST:\n",
      "...\n",
      "   |  F1@50 | NCRR@50 | NDCG@50 | Recall@50 | Train (s) | Test (s)\n",
      "-- + ------ + ------- + ------- + --------- + --------- + --------\n",
      "MF | 0.0042 |  0.0117 |  0.0282 |    0.0993 |   13.8490 |  12.7875\n",
      "\n"
     ]
    },
    {
     "name": "stderr",
     "output_type": "stream",
     "text": [
      "[I 2025-06-17 15:37:00,943] Trial 9 finished with value: 0.004188775246796132 and parameters: {'k': 99, 'learning_rate': 0.017970266962505213, 'lambda_reg': 0.04158666980994998}. Best is trial 1 with value: 0.004361476230725871.\n"
     ]
    },
    {
     "name": "stdout",
     "output_type": "stream",
     "text": [
      "\n",
      "TEST:\n",
      "...\n",
      "   |  F1@50 | NCRR@50 | NDCG@50 | Recall@50 | Train (s) | Test (s)\n",
      "-- + ------ + ------- + ------- + --------- + --------- + --------\n",
      "MF | 0.0045 |  0.0144 |  0.0321 |    0.1068 |    4.2750 |  13.0570\n",
      "\n"
     ]
    },
    {
     "name": "stderr",
     "output_type": "stream",
     "text": [
      "[I 2025-06-17 15:37:21,082] Trial 10 finished with value: 0.004523096110835379 and parameters: {'k': 24, 'learning_rate': 0.0019524669598189593, 'lambda_reg': 0.00126236289076509}. Best is trial 10 with value: 0.004523096110835379.\n"
     ]
    },
    {
     "name": "stdout",
     "output_type": "stream",
     "text": [
      "\n",
      "TEST:\n",
      "...\n",
      "   |  F1@50 | NCRR@50 | NDCG@50 | Recall@50 | Train (s) | Test (s)\n",
      "-- + ------ + ------- + ------- + --------- + --------- + --------\n",
      "MF | 0.0045 |  0.0142 |  0.0319 |    0.1067 |    6.1133 |  12.5678\n",
      "\n"
     ]
    },
    {
     "name": "stderr",
     "output_type": "stream",
     "text": [
      "[I 2025-06-17 15:37:42,531] Trial 11 finished with value: 0.004493920320044219 and parameters: {'k': 37, 'learning_rate': 0.0017177865738024754, 'lambda_reg': 0.001042555172223737}. Best is trial 10 with value: 0.004523096110835379.\n"
     ]
    },
    {
     "name": "stdout",
     "output_type": "stream",
     "text": [
      "\n",
      "TEST:\n",
      "...\n",
      "   |  F1@50 | NCRR@50 | NDCG@50 | Recall@50 | Train (s) | Test (s)\n",
      "-- + ------ + ------- + ------- + --------- + --------- + --------\n",
      "MF | 0.0045 |  0.0137 |  0.0313 |    0.1055 |    4.1290 |  13.4303\n",
      "\n"
     ]
    },
    {
     "name": "stderr",
     "output_type": "stream",
     "text": [
      "[I 2025-06-17 15:38:02,806] Trial 12 finished with value: 0.004461881158890469 and parameters: {'k': 24, 'learning_rate': 0.001968402532569036, 'lambda_reg': 0.002140832223919152}. Best is trial 10 with value: 0.004523096110835379.\n"
     ]
    },
    {
     "name": "stdout",
     "output_type": "stream",
     "text": [
      "\n",
      "TEST:\n",
      "...\n",
      "   |  F1@50 | NCRR@50 | NDCG@50 | Recall@50 | Train (s) | Test (s)\n",
      "-- + ------ + ------- + ------- + --------- + --------- + --------\n",
      "MF | 0.0044 |  0.0139 |  0.0311 |    0.1038 |    8.7934 |  12.5311\n",
      "\n"
     ]
    },
    {
     "name": "stderr",
     "output_type": "stream",
     "text": [
      "[I 2025-06-17 15:38:27,024] Trial 13 finished with value: 0.004398593533663094 and parameters: {'k': 61, 'learning_rate': 0.009004191058220576, 'lambda_reg': 0.001092017497788204}. Best is trial 10 with value: 0.004523096110835379.\n"
     ]
    },
    {
     "name": "stdout",
     "output_type": "stream",
     "text": [
      "\n",
      "TEST:\n",
      "...\n",
      "   |  F1@50 | NCRR@50 | NDCG@50 | Recall@50 | Train (s) | Test (s)\n",
      "-- + ------ + ------- + ------- + --------- + --------- + --------\n",
      "MF | 0.0044 |  0.0129 |  0.0305 |    0.1046 |    8.2649 |  13.0671\n",
      "\n"
     ]
    },
    {
     "name": "stderr",
     "output_type": "stream",
     "text": [
      "[I 2025-06-17 15:38:50,965] Trial 14 finished with value: 0.004411061704743654 and parameters: {'k': 58, 'learning_rate': 0.0026106584184539244, 'lambda_reg': 0.003220079461378271}. Best is trial 10 with value: 0.004523096110835379.\n"
     ]
    },
    {
     "name": "stdout",
     "output_type": "stream",
     "text": [
      "⚠️ Warning: No train_set found in best_model.\n",
      "✅ Best MF model saved to mf_model_with_trainset.pkl\n"
     ]
    }
   ],
   "source": [
    "# Run MF optimization\n",
    "study_mf = optuna.create_study(direction='maximize')\n",
    "study_mf.optimize(objective_mf, n_trials=N)\n",
    "\n",
    "# Save best model\n",
    "best_trial = study_mf.best_trial\n",
    "if \"result\" in best_trial.user_attrs:\n",
    "    best_model = best_trial.user_attrs[\"result\"]\n",
    "\n",
    "    # Ensure train_set is included\n",
    "    if not hasattr(best_model, \"train_set\"):\n",
    "        print(\"Warning: No train_set found in best_model.\")\n",
    "    else:\n",
    "        best_model.train_set = best_model.train_set  # explicitly attach\n",
    "\n",
    "    with open(\"mf_model_with_trainset.pkl\", \"wb\") as f:\n",
    "        pickle.dump(best_model, f)\n",
    "\n",
    "    print(\"Best MF model saved to mf_model_with_trainset.pkl\")\n",
    "\n",
    "# Collect all trial results\n",
    "mf_rows = []\n",
    "for trial in study_mf.trials:\n",
    "    if trial.value is None:\n",
    "        continue\n",
    "    trial_data = {\n",
    "        \"Trial\": trial.number,\n",
    "        \"F1@50\": trial.value,\n",
    "        \"Model\": \"MF\",\n",
    "        **trial.params\n",
    "    }\n",
    "\n",
    "    # Add additional metrics from trial's result (if present)\n",
    "    if \"result\" in trial.user_attrs:\n",
    "        for metric, value in trial.user_attrs[\"result\"].metric_avg_results.items():\n",
    "            trial_data[metric] = value\n",
    "\n",
    "    mf_rows.append(trial_data)\n",
    "\n",
    "# Convert to DataFrame and export\n",
    "mf_results_df = pd.DataFrame(mf_rows)\n"
   ]
  },
  {
   "cell_type": "markdown",
   "id": "440be589-3ffe-4821-a918-0c48c47968e7",
   "metadata": {},
   "source": [
    "## Generate Top K Recommendations for Sampled 100 Users"
   ]
  },
  {
   "cell_type": "code",
   "execution_count": 75,
   "id": "cd293779-9a15-41a8-bfa9-10169ba0be95",
   "metadata": {},
   "outputs": [],
   "source": [
    "mf_topk_df = generate_top_k_recommendations(MF, uir_dataset, study_mf, k=10)"
   ]
  },
  {
   "cell_type": "markdown",
   "id": "6605cab6-e63e-4b8e-898e-77c59204ea8f",
   "metadata": {},
   "source": [
    "## Final Recommendations"
   ]
  },
  {
   "cell_type": "code",
   "execution_count": 76,
   "id": "bebc6301-f946-4342-8636-233a2c36affa",
   "metadata": {},
   "outputs": [],
   "source": [
    "mf_recommendation_df = annotate_recommendations_with_category(mf_topk_df, items_df)"
   ]
  },
  {
   "cell_type": "code",
   "execution_count": 77,
   "id": "04d46c95-0291-419c-91fe-5fbb2f714d2c",
   "metadata": {},
   "outputs": [
    {
     "data": {
      "text/html": [
       "<div>\n",
       "<style scoped>\n",
       "    .dataframe tbody tr th:only-of-type {\n",
       "        vertical-align: middle;\n",
       "    }\n",
       "\n",
       "    .dataframe tbody tr th {\n",
       "        vertical-align: top;\n",
       "    }\n",
       "\n",
       "    .dataframe thead th {\n",
       "        text-align: right;\n",
       "    }\n",
       "</style>\n",
       "<table border=\"1\" class=\"dataframe\">\n",
       "  <thead>\n",
       "    <tr style=\"text-align: right;\">\n",
       "      <th></th>\n",
       "      <th>user_id</th>\n",
       "      <th>rank</th>\n",
       "      <th>parent_asin</th>\n",
       "      <th>cat_2</th>\n",
       "      <th>cat_4</th>\n",
       "    </tr>\n",
       "  </thead>\n",
       "  <tbody>\n",
       "    <tr>\n",
       "      <th>61</th>\n",
       "      <td>AE2A77MDQE52XTHZ44MFODEJ22GQ</td>\n",
       "      <td>1</td>\n",
       "      <td>B00OUGNUO8</td>\n",
       "      <td>cardio training</td>\n",
       "      <td>rowers</td>\n",
       "    </tr>\n",
       "    <tr>\n",
       "      <th>161</th>\n",
       "      <td>AE2A77MDQE52XTHZ44MFODEJ22GQ</td>\n",
       "      <td>2</td>\n",
       "      <td>B0C6KLM5HM</td>\n",
       "      <td>camping &amp; hiking</td>\n",
       "      <td>lanterns</td>\n",
       "    </tr>\n",
       "    <tr>\n",
       "      <th>261</th>\n",
       "      <td>AE2A77MDQE52XTHZ44MFODEJ22GQ</td>\n",
       "      <td>3</td>\n",
       "      <td>B00F9F6OVK</td>\n",
       "      <td>camping &amp; hiking</td>\n",
       "      <td>cots &amp; hammocks</td>\n",
       "    </tr>\n",
       "    <tr>\n",
       "      <th>361</th>\n",
       "      <td>AE2A77MDQE52XTHZ44MFODEJ22GQ</td>\n",
       "      <td>4</td>\n",
       "      <td>B0BXHLWCR5</td>\n",
       "      <td>camping &amp; hiking</td>\n",
       "      <td>hand &amp; foot warmers</td>\n",
       "    </tr>\n",
       "    <tr>\n",
       "      <th>461</th>\n",
       "      <td>AE2A77MDQE52XTHZ44MFODEJ22GQ</td>\n",
       "      <td>5</td>\n",
       "      <td>B09DX9KS81</td>\n",
       "      <td>camping &amp; hiking</td>\n",
       "      <td>trekking poles</td>\n",
       "    </tr>\n",
       "  </tbody>\n",
       "</table>\n",
       "</div>"
      ],
      "text/plain": [
       "                          user_id  rank parent_asin             cat_2  \\\n",
       "61   AE2A77MDQE52XTHZ44MFODEJ22GQ     1  B00OUGNUO8   cardio training   \n",
       "161  AE2A77MDQE52XTHZ44MFODEJ22GQ     2  B0C6KLM5HM  camping & hiking   \n",
       "261  AE2A77MDQE52XTHZ44MFODEJ22GQ     3  B00F9F6OVK  camping & hiking   \n",
       "361  AE2A77MDQE52XTHZ44MFODEJ22GQ     4  B0BXHLWCR5  camping & hiking   \n",
       "461  AE2A77MDQE52XTHZ44MFODEJ22GQ     5  B09DX9KS81  camping & hiking   \n",
       "\n",
       "                   cat_4  \n",
       "61                rowers  \n",
       "161             lanterns  \n",
       "261      cots & hammocks  \n",
       "361  hand & foot warmers  \n",
       "461       trekking poles  "
      ]
     },
     "execution_count": 77,
     "metadata": {},
     "output_type": "execute_result"
    }
   ],
   "source": [
    "mf_recommendation_df.head()"
   ]
  },
  {
   "cell_type": "code",
   "execution_count": 78,
   "id": "1e201e39-9629-4b6f-b502-eadfc36cd5dc",
   "metadata": {},
   "outputs": [
    {
     "name": "stdout",
     "output_type": "stream",
     "text": [
      "Overall Same Main Cat but Diff Sub-cat Rate (MF): 39.90%\n"
     ]
    }
   ],
   "source": [
    "# Compute intra-category diversity rate for MF\n",
    "mf_overall_rate, mf_labeled_recs, mf_user_rates = compute_cat2_diff_cat4_rate(interacted_df, mf_recommendation_df)\n",
    "\n",
    "# Print overall result\n",
    "print(f\"Overall Same Main Cat but Diff Sub-cat Rate (MF): {mf_overall_rate:.2%}\")\n"
   ]
  },
  {
   "cell_type": "code",
   "execution_count": 79,
   "id": "da036094-7c2d-4592-bd1a-a9957d886a62",
   "metadata": {},
   "outputs": [
    {
     "data": {
      "text/html": [
       "<div>\n",
       "<style scoped>\n",
       "    .dataframe tbody tr th:only-of-type {\n",
       "        vertical-align: middle;\n",
       "    }\n",
       "\n",
       "    .dataframe tbody tr th {\n",
       "        vertical-align: top;\n",
       "    }\n",
       "\n",
       "    .dataframe thead th {\n",
       "        text-align: right;\n",
       "    }\n",
       "</style>\n",
       "<table border=\"1\" class=\"dataframe\">\n",
       "  <thead>\n",
       "    <tr style=\"text-align: right;\">\n",
       "      <th></th>\n",
       "      <th>user_id</th>\n",
       "      <th>rank</th>\n",
       "      <th>parent_asin</th>\n",
       "      <th>cat_2</th>\n",
       "      <th>cat_4</th>\n",
       "      <th>cat_match</th>\n",
       "    </tr>\n",
       "  </thead>\n",
       "  <tbody>\n",
       "    <tr>\n",
       "      <th>61</th>\n",
       "      <td>AE2A77MDQE52XTHZ44MFODEJ22GQ</td>\n",
       "      <td>1</td>\n",
       "      <td>B00OUGNUO8</td>\n",
       "      <td>cardio training</td>\n",
       "      <td>rowers</td>\n",
       "      <td>diff_cat2</td>\n",
       "    </tr>\n",
       "    <tr>\n",
       "      <th>161</th>\n",
       "      <td>AE2A77MDQE52XTHZ44MFODEJ22GQ</td>\n",
       "      <td>2</td>\n",
       "      <td>B0C6KLM5HM</td>\n",
       "      <td>camping &amp; hiking</td>\n",
       "      <td>lanterns</td>\n",
       "      <td>same_cat2_diff_cat4</td>\n",
       "    </tr>\n",
       "    <tr>\n",
       "      <th>261</th>\n",
       "      <td>AE2A77MDQE52XTHZ44MFODEJ22GQ</td>\n",
       "      <td>3</td>\n",
       "      <td>B00F9F6OVK</td>\n",
       "      <td>camping &amp; hiking</td>\n",
       "      <td>cots &amp; hammocks</td>\n",
       "      <td>same_cat2_diff_cat4</td>\n",
       "    </tr>\n",
       "    <tr>\n",
       "      <th>361</th>\n",
       "      <td>AE2A77MDQE52XTHZ44MFODEJ22GQ</td>\n",
       "      <td>4</td>\n",
       "      <td>B0BXHLWCR5</td>\n",
       "      <td>camping &amp; hiking</td>\n",
       "      <td>hand &amp; foot warmers</td>\n",
       "      <td>same_cat2_diff_cat4</td>\n",
       "    </tr>\n",
       "    <tr>\n",
       "      <th>461</th>\n",
       "      <td>AE2A77MDQE52XTHZ44MFODEJ22GQ</td>\n",
       "      <td>5</td>\n",
       "      <td>B09DX9KS81</td>\n",
       "      <td>camping &amp; hiking</td>\n",
       "      <td>trekking poles</td>\n",
       "      <td>same_cat2_diff_cat4</td>\n",
       "    </tr>\n",
       "  </tbody>\n",
       "</table>\n",
       "</div>"
      ],
      "text/plain": [
       "                          user_id  rank parent_asin             cat_2  \\\n",
       "61   AE2A77MDQE52XTHZ44MFODEJ22GQ     1  B00OUGNUO8   cardio training   \n",
       "161  AE2A77MDQE52XTHZ44MFODEJ22GQ     2  B0C6KLM5HM  camping & hiking   \n",
       "261  AE2A77MDQE52XTHZ44MFODEJ22GQ     3  B00F9F6OVK  camping & hiking   \n",
       "361  AE2A77MDQE52XTHZ44MFODEJ22GQ     4  B0BXHLWCR5  camping & hiking   \n",
       "461  AE2A77MDQE52XTHZ44MFODEJ22GQ     5  B09DX9KS81  camping & hiking   \n",
       "\n",
       "                   cat_4            cat_match  \n",
       "61                rowers            diff_cat2  \n",
       "161             lanterns  same_cat2_diff_cat4  \n",
       "261      cots & hammocks  same_cat2_diff_cat4  \n",
       "361  hand & foot warmers  same_cat2_diff_cat4  \n",
       "461       trekking poles  same_cat2_diff_cat4  "
      ]
     },
     "execution_count": 79,
     "metadata": {},
     "output_type": "execute_result"
    }
   ],
   "source": [
    "mf_labeled_recs.head()"
   ]
  },
  {
   "cell_type": "markdown",
   "id": "b73d67ae-6b5c-4e4e-a154-f9fb548a3648",
   "metadata": {},
   "source": [
    "# BPR"
   ]
  },
  {
   "cell_type": "code",
   "execution_count": 80,
   "id": "b57c5b7d-4de1-403c-8578-3e2d1f86ebe1",
   "metadata": {},
   "outputs": [
    {
     "name": "stderr",
     "output_type": "stream",
     "text": [
      "[I 2025-06-17 15:39:17,283] A new study created in memory with name: no-name-097c7692-ecf4-4761-9494-5bb7510230a8\n",
      "C:\\Users\\pakke\\anaconda3\\envs\\p312\\Lib\\site-packages\\cornac\\data\\dataset.py:335: UserWarning: 1077 duplicated observations are removed!\n",
      "  warnings.warn(\"%d duplicated observations are removed!\" % dup_count)\n",
      "C:\\Users\\pakke\\anaconda3\\envs\\p312\\Lib\\site-packages\\cornac\\data\\dataset.py:335: UserWarning: 39 duplicated observations are removed!\n",
      "  warnings.warn(\"%d duplicated observations are removed!\" % dup_count)\n"
     ]
    },
    {
     "name": "stdout",
     "output_type": "stream",
     "text": [
      "\n",
      "TEST:\n",
      "...\n",
      "    |  F1@50 | NCRR@50 | NDCG@50 | Recall@50 | Train (s) | Test (s)\n",
      "--- + ------ + ------- + ------- + --------- + --------- + --------\n",
      "BPR | 0.0135 |  0.0681 |  0.1172 |    0.3164 |  224.2016 |  14.2527\n",
      "\n"
     ]
    },
    {
     "name": "stderr",
     "output_type": "stream",
     "text": [
      "[I 2025-06-17 15:43:18,578] Trial 0 finished with value: 0.013523205965142908 and parameters: {'k': 118, 'learning_rate': 0.00899531767436473, 'lambda_reg': 0.0029465075027393962}. Best is trial 0 with value: 0.013523205965142908.\n"
     ]
    },
    {
     "name": "stdout",
     "output_type": "stream",
     "text": [
      "\n",
      "TEST:\n",
      "...\n",
      "    |  F1@50 | NCRR@50 | NDCG@50 | Recall@50 | Train (s) | Test (s)\n",
      "--- + ------ + ------- + ------- + --------- + --------- + --------\n",
      "BPR | 0.0138 |  0.0682 |  0.1182 |    0.3241 |  239.8168 |  15.0205\n",
      "\n"
     ]
    },
    {
     "name": "stderr",
     "output_type": "stream",
     "text": [
      "[I 2025-06-17 15:47:36,499] Trial 1 finished with value: 0.01382784454038158 and parameters: {'k': 136, 'learning_rate': 0.007023429530792671, 'lambda_reg': 0.0037403296089246188}. Best is trial 1 with value: 0.01382784454038158.\n"
     ]
    },
    {
     "name": "stdout",
     "output_type": "stream",
     "text": [
      "\n",
      "TEST:\n",
      "...\n",
      "    |  F1@50 | NCRR@50 | NDCG@50 | Recall@50 | Train (s) | Test (s)\n",
      "--- + ------ + ------- + ------- + --------- + --------- + --------\n",
      "BPR | 0.0106 |  0.0361 |  0.0778 |    0.2498 |  234.3400 |  14.6704\n",
      "\n"
     ]
    },
    {
     "name": "stderr",
     "output_type": "stream",
     "text": [
      "[I 2025-06-17 15:51:48,528] Trial 2 finished with value: 0.010583893201283773 and parameters: {'k': 133, 'learning_rate': 0.004938965868959811, 'lambda_reg': 0.06678961294404487}. Best is trial 1 with value: 0.01382784454038158.\n"
     ]
    },
    {
     "name": "stdout",
     "output_type": "stream",
     "text": [
      "\n",
      "TEST:\n",
      "...\n",
      "    |  F1@50 | NCRR@50 | NDCG@50 | Recall@50 | Train (s) | Test (s)\n",
      "--- + ------ + ------- + ------- + --------- + --------- + --------\n",
      "BPR | 0.0105 |  0.0358 |  0.0772 |    0.2477 |  226.2635 |  14.3367\n",
      "\n"
     ]
    },
    {
     "name": "stderr",
     "output_type": "stream",
     "text": [
      "[I 2025-06-17 15:55:52,202] Trial 3 finished with value: 0.010496872577961424 and parameters: {'k': 125, 'learning_rate': 0.0016936875335844107, 'lambda_reg': 0.024522970803250922}. Best is trial 1 with value: 0.01382784454038158.\n"
     ]
    },
    {
     "name": "stdout",
     "output_type": "stream",
     "text": [
      "\n",
      "TEST:\n",
      "...\n",
      "    |  F1@50 | NCRR@50 | NDCG@50 | Recall@50 | Train (s) | Test (s)\n",
      "--- + ------ + ------- + ------- + --------- + --------- + --------\n",
      "BPR | 0.0126 |  0.0493 |  0.0976 |    0.2947 |  270.5133 |  14.1052\n",
      "\n"
     ]
    },
    {
     "name": "stderr",
     "output_type": "stream",
     "text": [
      "[I 2025-06-17 16:00:40,016] Trial 4 finished with value: 0.012570834582453111 and parameters: {'k': 167, 'learning_rate': 0.003366953739499134, 'lambda_reg': 0.010769528954776125}. Best is trial 1 with value: 0.01382784454038158.\n"
     ]
    },
    {
     "name": "stdout",
     "output_type": "stream",
     "text": [
      "\n",
      "TEST:\n",
      "...\n",
      "    |  F1@50 | NCRR@50 | NDCG@50 | Recall@50 | Train (s) | Test (s)\n",
      "--- + ------ + ------- + ------- + --------- + --------- + --------\n",
      "BPR | 0.0121 |  0.0411 |  0.0883 |    0.2835 |  279.3321 |  14.5530\n",
      "\n"
     ]
    },
    {
     "name": "stderr",
     "output_type": "stream",
     "text": [
      "[I 2025-06-17 16:05:36,731] Trial 5 finished with value: 0.012092047859602434 and parameters: {'k': 195, 'learning_rate': 0.010925338644141754, 'lambda_reg': 0.06695429920942593}. Best is trial 1 with value: 0.01382784454038158.\n"
     ]
    },
    {
     "name": "stdout",
     "output_type": "stream",
     "text": [
      "\n",
      "TEST:\n",
      "...\n",
      "    |  F1@50 | NCRR@50 | NDCG@50 | Recall@50 | Train (s) | Test (s)\n",
      "--- + ------ + ------- + ------- + --------- + --------- + --------\n",
      "BPR | 0.0103 |  0.0354 |  0.0763 |    0.2441 |  274.8401 |  14.0729\n",
      "\n"
     ]
    },
    {
     "name": "stderr",
     "output_type": "stream",
     "text": [
      "[I 2025-06-17 16:10:28,533] Trial 6 finished with value: 0.010338370085738196 and parameters: {'k': 182, 'learning_rate': 0.007112751739847619, 'lambda_reg': 0.08748561236494252}. Best is trial 1 with value: 0.01382784454038158.\n"
     ]
    },
    {
     "name": "stdout",
     "output_type": "stream",
     "text": [
      "\n",
      "TEST:\n",
      "...\n",
      "    |  F1@50 | NCRR@50 | NDCG@50 | Recall@50 | Train (s) | Test (s)\n",
      "--- + ------ + ------- + ------- + --------- + --------- + --------\n",
      "BPR | 0.0116 |  0.0377 |  0.0833 |    0.2721 |  262.4602 |  14.2354\n",
      "\n"
     ]
    },
    {
     "name": "stderr",
     "output_type": "stream",
     "text": [
      "[I 2025-06-17 16:15:08,067] Trial 7 finished with value: 0.011609545020612578 and parameters: {'k': 164, 'learning_rate': 0.0035579731751207867, 'lambda_reg': 0.023126544455423437}. Best is trial 1 with value: 0.01382784454038158.\n"
     ]
    },
    {
     "name": "stdout",
     "output_type": "stream",
     "text": [
      "\n",
      "TEST:\n",
      "...\n",
      "    |  F1@50 | NCRR@50 | NDCG@50 | Recall@50 | Train (s) | Test (s)\n",
      "--- + ------ + ------- + ------- + --------- + --------- + --------\n",
      "BPR | 0.0162 |  0.0840 |  0.1423 |    0.3772 |  199.7722 |  14.8561\n",
      "\n"
     ]
    },
    {
     "name": "stderr",
     "output_type": "stream",
     "text": [
      "[I 2025-06-17 16:18:45,800] Trial 8 finished with value: 0.01616302070917802 and parameters: {'k': 102, 'learning_rate': 0.029114879234582614, 'lambda_reg': 0.045775255618143475}. Best is trial 8 with value: 0.01616302070917802.\n"
     ]
    },
    {
     "name": "stdout",
     "output_type": "stream",
     "text": [
      "\n",
      "TEST:\n",
      "...\n",
      "    |  F1@50 | NCRR@50 | NDCG@50 | Recall@50 | Train (s) | Test (s)\n",
      "--- + ------ + ------- + ------- + --------- + --------- + --------\n",
      "BPR | 0.0130 |  0.0543 |  0.1036 |    0.3045 |  220.5885 |  15.7906\n",
      "\n"
     ]
    },
    {
     "name": "stderr",
     "output_type": "stream",
     "text": [
      "[I 2025-06-17 16:22:45,015] Trial 9 finished with value: 0.01300700128097392 and parameters: {'k': 130, 'learning_rate': 0.006151981306304769, 'lambda_reg': 0.023260315557108724}. Best is trial 8 with value: 0.01616302070917802.\n"
     ]
    },
    {
     "name": "stdout",
     "output_type": "stream",
     "text": [
      "\n",
      "TEST:\n",
      "...\n",
      "    |  F1@50 | NCRR@50 | NDCG@50 | Recall@50 | Train (s) | Test (s)\n",
      "--- + ------ + ------- + ------- + --------- + --------- + --------\n",
      "BPR | 0.0147 |  0.0894 |  0.1403 |    0.3438 |  196.0516 |  15.5451\n",
      "\n"
     ]
    },
    {
     "name": "stderr",
     "output_type": "stream",
     "text": [
      "[I 2025-06-17 16:26:19,744] Trial 10 finished with value: 0.01470938926984212 and parameters: {'k': 102, 'learning_rate': 0.04359312256920214, 'lambda_reg': 0.008921154802025493}. Best is trial 8 with value: 0.01616302070917802.\n"
     ]
    },
    {
     "name": "stdout",
     "output_type": "stream",
     "text": [
      "\n",
      "TEST:\n",
      "...\n",
      "    |  F1@50 | NCRR@50 | NDCG@50 | Recall@50 | Train (s) | Test (s)\n",
      "--- + ------ + ------- + ------- + --------- + --------- + --------\n",
      "BPR | 0.0144 |  0.0901 |  0.1396 |    0.3374 |  196.2254 |  14.9953\n",
      "\n"
     ]
    },
    {
     "name": "stderr",
     "output_type": "stream",
     "text": [
      "[I 2025-06-17 16:29:54,018] Trial 11 finished with value: 0.014422655212499715 and parameters: {'k': 103, 'learning_rate': 0.04793865739453471, 'lambda_reg': 0.006926571814681638}. Best is trial 8 with value: 0.01616302070917802.\n"
     ]
    },
    {
     "name": "stdout",
     "output_type": "stream",
     "text": [
      "\n",
      "TEST:\n",
      "...\n",
      "    |  F1@50 | NCRR@50 | NDCG@50 | Recall@50 | Train (s) | Test (s)\n",
      "--- + ------ + ------- + ------- + --------- + --------- + --------\n",
      "BPR | 0.0129 |  0.0780 |  0.1224 |    0.3015 |  200.0601 |  15.2896\n",
      "\n"
     ]
    },
    {
     "name": "stderr",
     "output_type": "stream",
     "text": [
      "[I 2025-06-17 16:33:32,318] Trial 12 finished with value: 0.012860895096434795 and parameters: {'k': 103, 'learning_rate': 0.040925316889806405, 'lambda_reg': 0.0013235259613234884}. Best is trial 8 with value: 0.01616302070917802.\n"
     ]
    },
    {
     "name": "stdout",
     "output_type": "stream",
     "text": [
      "\n",
      "TEST:\n",
      "...\n",
      "    |  F1@50 | NCRR@50 | NDCG@50 | Recall@50 | Train (s) | Test (s)\n",
      "--- + ------ + ------- + ------- + --------- + --------- + --------\n",
      "BPR | 0.0153 |  0.0837 |  0.1385 |    0.3576 |  203.1178 |  15.2283\n",
      "\n"
     ]
    },
    {
     "name": "stderr",
     "output_type": "stream",
     "text": [
      "[I 2025-06-17 16:37:13,650] Trial 13 finished with value: 0.015301315161062838 and parameters: {'k': 112, 'learning_rate': 0.02508838176711581, 'lambda_reg': 0.010162863595451665}. Best is trial 8 with value: 0.01616302070917802.\n"
     ]
    },
    {
     "name": "stdout",
     "output_type": "stream",
     "text": [
      "\n",
      "TEST:\n",
      "...\n",
      "    |  F1@50 | NCRR@50 | NDCG@50 | Recall@50 | Train (s) | Test (s)\n",
      "--- + ------ + ------- + ------- + --------- + --------- + --------\n",
      "BPR | 0.0159 |  0.0778 |  0.1351 |    0.3712 |  238.2895 |  15.8176\n",
      "\n"
     ]
    },
    {
     "name": "stderr",
     "output_type": "stream",
     "text": [
      "[I 2025-06-17 16:41:30,714] Trial 14 finished with value: 0.015877251327500633 and parameters: {'k': 150, 'learning_rate': 0.019928857661908547, 'lambda_reg': 0.04329907231567242}. Best is trial 8 with value: 0.01616302070917802.\n"
     ]
    },
    {
     "name": "stdout",
     "output_type": "stream",
     "text": [
      "⚠️ Warning: No train_set found in best_model.\n",
      "✅ Best BPR model saved to bpr_model_with_trainset.pkl\n"
     ]
    }
   ],
   "source": [
    "# Run BPR optimization\n",
    "study_bpr = optuna.create_study(direction='maximize')\n",
    "study_bpr.optimize(objective_bpr, n_trials=N)\n",
    "\n",
    "# Save best model\n",
    "best_trial = study_bpr.best_trial\n",
    "if \"result\" in best_trial.user_attrs:\n",
    "    best_model = best_trial.user_attrs[\"result\"]\n",
    "\n",
    "    # Ensure train_set is included\n",
    "    if not hasattr(best_model, \"train_set\"):\n",
    "        print(\"Warning: No train_set found in best_model.\")\n",
    "    else:\n",
    "        best_model.train_set = best_model.train_set  # explicitly attach\n",
    "\n",
    "    with open(\"bpr_model_with_trainset.pkl\", \"wb\") as f:\n",
    "        pickle.dump(best_model, f)\n",
    "\n",
    "    print(\"Best BPR model saved to bpr_model_with_trainset.pkl\")\n",
    "\n",
    "# Collect all trial results\n",
    "bpr_rows = []\n",
    "for trial in study_bpr.trials:\n",
    "    if trial.value is None:\n",
    "        continue\n",
    "    trial_data = {\n",
    "        \"Trial\": trial.number,\n",
    "        \"F1@50\": trial.value,\n",
    "        \"Model\": \"BPR\",\n",
    "        **trial.params\n",
    "    }\n",
    "\n",
    "    # Add other evaluation metrics from user_attrs[\"result\"]\n",
    "    if \"result\" in trial.user_attrs:\n",
    "        for metric, value in trial.user_attrs[\"result\"].metric_avg_results.items():\n",
    "            trial_data[metric] = value\n",
    "\n",
    "    bpr_rows.append(trial_data)\n",
    "\n",
    "# Convert to DataFrame and export\n",
    "bpr_results_df = pd.DataFrame(bpr_rows)\n"
   ]
  },
  {
   "cell_type": "markdown",
   "id": "229509bc-11be-4359-a875-378e4d8ea3b5",
   "metadata": {},
   "source": [
    "## Generate Top K Recommendations for Sampled 100 Users"
   ]
  },
  {
   "cell_type": "code",
   "execution_count": 81,
   "id": "b4d86861-be31-4063-803c-3b19f9dffbe6",
   "metadata": {},
   "outputs": [],
   "source": [
    "bpr_topk_df = generate_top_k_recommendations(BPR, uir_dataset, study_bpr, k=10)"
   ]
  },
  {
   "cell_type": "code",
   "execution_count": 82,
   "id": "3264b36f-e0b6-4017-bc17-69ea95f4b8e5",
   "metadata": {},
   "outputs": [
    {
     "data": {
      "text/html": [
       "<div>\n",
       "<style scoped>\n",
       "    .dataframe tbody tr th:only-of-type {\n",
       "        vertical-align: middle;\n",
       "    }\n",
       "\n",
       "    .dataframe tbody tr th {\n",
       "        vertical-align: top;\n",
       "    }\n",
       "\n",
       "    .dataframe thead th {\n",
       "        text-align: right;\n",
       "    }\n",
       "</style>\n",
       "<table border=\"1\" class=\"dataframe\">\n",
       "  <thead>\n",
       "    <tr style=\"text-align: right;\">\n",
       "      <th></th>\n",
       "      <th>0</th>\n",
       "      <th>1</th>\n",
       "      <th>2</th>\n",
       "      <th>3</th>\n",
       "      <th>4</th>\n",
       "      <th>5</th>\n",
       "      <th>6</th>\n",
       "      <th>7</th>\n",
       "      <th>8</th>\n",
       "      <th>9</th>\n",
       "    </tr>\n",
       "    <tr>\n",
       "      <th>user_id</th>\n",
       "      <th></th>\n",
       "      <th></th>\n",
       "      <th></th>\n",
       "      <th></th>\n",
       "      <th></th>\n",
       "      <th></th>\n",
       "      <th></th>\n",
       "      <th></th>\n",
       "      <th></th>\n",
       "      <th></th>\n",
       "    </tr>\n",
       "  </thead>\n",
       "  <tbody>\n",
       "    <tr>\n",
       "      <th>AEIJZRS6QVT3FAIWPA2M7Q2JP2FQ</th>\n",
       "      <td>B00NWXLQD2</td>\n",
       "      <td>B09LW2KHPM</td>\n",
       "      <td>B07BQRWTDJ</td>\n",
       "      <td>B08GM3QY5N</td>\n",
       "      <td>B01L6RE7Z4</td>\n",
       "      <td>B07TDPP7LQ</td>\n",
       "      <td>B09MJKJYLQ</td>\n",
       "      <td>B00NPLSZF8</td>\n",
       "      <td>B094DXJZPN</td>\n",
       "      <td>B01A4W8AUK</td>\n",
       "    </tr>\n",
       "    <tr>\n",
       "      <th>AEGYNGPW2BJNI6MKMKXBQCBCPPMQ</th>\n",
       "      <td>B00NWXLQD2</td>\n",
       "      <td>B09LW2KHPM</td>\n",
       "      <td>B07BQRWTDJ</td>\n",
       "      <td>B08GM3QY5N</td>\n",
       "      <td>B01L6RE7Z4</td>\n",
       "      <td>B07TDPP7LQ</td>\n",
       "      <td>B09MJKJYLQ</td>\n",
       "      <td>B00NPLSZF8</td>\n",
       "      <td>B094DXJZPN</td>\n",
       "      <td>B0BX5QFWQN</td>\n",
       "    </tr>\n",
       "    <tr>\n",
       "      <th>AGEKBKA2Z63J7U3URXIPCFNZQOGQ</th>\n",
       "      <td>B00NWXLQD2</td>\n",
       "      <td>B09LW2KHPM</td>\n",
       "      <td>B07BQRWTDJ</td>\n",
       "      <td>B08GM3QY5N</td>\n",
       "      <td>B01L6RE7Z4</td>\n",
       "      <td>B07TDPP7LQ</td>\n",
       "      <td>B09MJKJYLQ</td>\n",
       "      <td>B094DXJZPN</td>\n",
       "      <td>B00NPLSZF8</td>\n",
       "      <td>B01A4W8AUK</td>\n",
       "    </tr>\n",
       "    <tr>\n",
       "      <th>AHOLILOCGPA6WG6HQAP2WCCAJ65Q</th>\n",
       "      <td>B00NWXLQD2</td>\n",
       "      <td>B07BQRWTDJ</td>\n",
       "      <td>B09LW2KHPM</td>\n",
       "      <td>B08GM3QY5N</td>\n",
       "      <td>B07TDPP7LQ</td>\n",
       "      <td>B01L6RE7Z4</td>\n",
       "      <td>B09MJKJYLQ</td>\n",
       "      <td>B094DXJZPN</td>\n",
       "      <td>B00NPLSZF8</td>\n",
       "      <td>B0BWFK1MKG</td>\n",
       "    </tr>\n",
       "    <tr>\n",
       "      <th>AHGKQUHH5YPIJFD6D2CRV55N4JBA</th>\n",
       "      <td>B00NWXLQD2</td>\n",
       "      <td>B09LW2KHPM</td>\n",
       "      <td>B07BQRWTDJ</td>\n",
       "      <td>B08GM3QY5N</td>\n",
       "      <td>B01L6RE7Z4</td>\n",
       "      <td>B07TDPP7LQ</td>\n",
       "      <td>B09MJKJYLQ</td>\n",
       "      <td>B094DXJZPN</td>\n",
       "      <td>B00NPLSZF8</td>\n",
       "      <td>B01A4W8AUK</td>\n",
       "    </tr>\n",
       "  </tbody>\n",
       "</table>\n",
       "</div>"
      ],
      "text/plain": [
       "                                       0           1           2           3  \\\n",
       "user_id                                                                        \n",
       "AEIJZRS6QVT3FAIWPA2M7Q2JP2FQ  B00NWXLQD2  B09LW2KHPM  B07BQRWTDJ  B08GM3QY5N   \n",
       "AEGYNGPW2BJNI6MKMKXBQCBCPPMQ  B00NWXLQD2  B09LW2KHPM  B07BQRWTDJ  B08GM3QY5N   \n",
       "AGEKBKA2Z63J7U3URXIPCFNZQOGQ  B00NWXLQD2  B09LW2KHPM  B07BQRWTDJ  B08GM3QY5N   \n",
       "AHOLILOCGPA6WG6HQAP2WCCAJ65Q  B00NWXLQD2  B07BQRWTDJ  B09LW2KHPM  B08GM3QY5N   \n",
       "AHGKQUHH5YPIJFD6D2CRV55N4JBA  B00NWXLQD2  B09LW2KHPM  B07BQRWTDJ  B08GM3QY5N   \n",
       "\n",
       "                                       4           5           6           7  \\\n",
       "user_id                                                                        \n",
       "AEIJZRS6QVT3FAIWPA2M7Q2JP2FQ  B01L6RE7Z4  B07TDPP7LQ  B09MJKJYLQ  B00NPLSZF8   \n",
       "AEGYNGPW2BJNI6MKMKXBQCBCPPMQ  B01L6RE7Z4  B07TDPP7LQ  B09MJKJYLQ  B00NPLSZF8   \n",
       "AGEKBKA2Z63J7U3URXIPCFNZQOGQ  B01L6RE7Z4  B07TDPP7LQ  B09MJKJYLQ  B094DXJZPN   \n",
       "AHOLILOCGPA6WG6HQAP2WCCAJ65Q  B07TDPP7LQ  B01L6RE7Z4  B09MJKJYLQ  B094DXJZPN   \n",
       "AHGKQUHH5YPIJFD6D2CRV55N4JBA  B01L6RE7Z4  B07TDPP7LQ  B09MJKJYLQ  B094DXJZPN   \n",
       "\n",
       "                                       8           9  \n",
       "user_id                                               \n",
       "AEIJZRS6QVT3FAIWPA2M7Q2JP2FQ  B094DXJZPN  B01A4W8AUK  \n",
       "AEGYNGPW2BJNI6MKMKXBQCBCPPMQ  B094DXJZPN  B0BX5QFWQN  \n",
       "AGEKBKA2Z63J7U3URXIPCFNZQOGQ  B00NPLSZF8  B01A4W8AUK  \n",
       "AHOLILOCGPA6WG6HQAP2WCCAJ65Q  B00NPLSZF8  B0BWFK1MKG  \n",
       "AHGKQUHH5YPIJFD6D2CRV55N4JBA  B00NPLSZF8  B01A4W8AUK  "
      ]
     },
     "execution_count": 82,
     "metadata": {},
     "output_type": "execute_result"
    }
   ],
   "source": [
    "bpr_topk_df.head()"
   ]
  },
  {
   "cell_type": "markdown",
   "id": "aa6ea8d7-804f-4f05-8880-b074ba99c2af",
   "metadata": {},
   "source": [
    "## Final Recommendations"
   ]
  },
  {
   "cell_type": "code",
   "execution_count": 83,
   "id": "0b5c5c4f-bc6a-4761-a1d8-9564603f0c31",
   "metadata": {},
   "outputs": [],
   "source": [
    "bpr_recommendation_df = annotate_recommendations_with_category(bpr_topk_df, items_df)"
   ]
  },
  {
   "cell_type": "code",
   "execution_count": 84,
   "id": "f2efa072-3051-42fc-8535-b7dfbab73881",
   "metadata": {},
   "outputs": [
    {
     "data": {
      "text/html": [
       "<div>\n",
       "<style scoped>\n",
       "    .dataframe tbody tr th:only-of-type {\n",
       "        vertical-align: middle;\n",
       "    }\n",
       "\n",
       "    .dataframe tbody tr th {\n",
       "        vertical-align: top;\n",
       "    }\n",
       "\n",
       "    .dataframe thead th {\n",
       "        text-align: right;\n",
       "    }\n",
       "</style>\n",
       "<table border=\"1\" class=\"dataframe\">\n",
       "  <thead>\n",
       "    <tr style=\"text-align: right;\">\n",
       "      <th></th>\n",
       "      <th>user_id</th>\n",
       "      <th>rank</th>\n",
       "      <th>parent_asin</th>\n",
       "      <th>cat_2</th>\n",
       "      <th>cat_4</th>\n",
       "    </tr>\n",
       "  </thead>\n",
       "  <tbody>\n",
       "    <tr>\n",
       "      <th>94</th>\n",
       "      <td>AE6EVFS43Y7S7AJAQUEDVG5MRM5A</td>\n",
       "      <td>1</td>\n",
       "      <td>B00NWXLQD2</td>\n",
       "      <td>fitness technology</td>\n",
       "      <td>activity &amp; fitness trackers</td>\n",
       "    </tr>\n",
       "    <tr>\n",
       "      <th>194</th>\n",
       "      <td>AE6EVFS43Y7S7AJAQUEDVG5MRM5A</td>\n",
       "      <td>2</td>\n",
       "      <td>B09LW2KHPM</td>\n",
       "      <td>camping &amp; hiking</td>\n",
       "      <td>lanterns</td>\n",
       "    </tr>\n",
       "    <tr>\n",
       "      <th>294</th>\n",
       "      <td>AE6EVFS43Y7S7AJAQUEDVG5MRM5A</td>\n",
       "      <td>3</td>\n",
       "      <td>B07BQRWTDJ</td>\n",
       "      <td>camping &amp; hiking</td>\n",
       "      <td>air mattresses</td>\n",
       "    </tr>\n",
       "    <tr>\n",
       "      <th>394</th>\n",
       "      <td>AE6EVFS43Y7S7AJAQUEDVG5MRM5A</td>\n",
       "      <td>4</td>\n",
       "      <td>B08GM3QY5N</td>\n",
       "      <td>fitness technology</td>\n",
       "      <td>activity &amp; fitness trackers</td>\n",
       "    </tr>\n",
       "    <tr>\n",
       "      <th>494</th>\n",
       "      <td>AE6EVFS43Y7S7AJAQUEDVG5MRM5A</td>\n",
       "      <td>5</td>\n",
       "      <td>B01L6RE7Z4</td>\n",
       "      <td>fitness technology</td>\n",
       "      <td>activity &amp; fitness trackers</td>\n",
       "    </tr>\n",
       "  </tbody>\n",
       "</table>\n",
       "</div>"
      ],
      "text/plain": [
       "                          user_id  rank parent_asin               cat_2  \\\n",
       "94   AE6EVFS43Y7S7AJAQUEDVG5MRM5A     1  B00NWXLQD2  fitness technology   \n",
       "194  AE6EVFS43Y7S7AJAQUEDVG5MRM5A     2  B09LW2KHPM    camping & hiking   \n",
       "294  AE6EVFS43Y7S7AJAQUEDVG5MRM5A     3  B07BQRWTDJ    camping & hiking   \n",
       "394  AE6EVFS43Y7S7AJAQUEDVG5MRM5A     4  B08GM3QY5N  fitness technology   \n",
       "494  AE6EVFS43Y7S7AJAQUEDVG5MRM5A     5  B01L6RE7Z4  fitness technology   \n",
       "\n",
       "                           cat_4  \n",
       "94   activity & fitness trackers  \n",
       "194                     lanterns  \n",
       "294               air mattresses  \n",
       "394  activity & fitness trackers  \n",
       "494  activity & fitness trackers  "
      ]
     },
     "execution_count": 84,
     "metadata": {},
     "output_type": "execute_result"
    }
   ],
   "source": [
    "bpr_recommendation_df.head()"
   ]
  },
  {
   "cell_type": "code",
   "execution_count": 85,
   "id": "d35cbc07-9fdc-4c95-bb81-eeabe75f8995",
   "metadata": {},
   "outputs": [
    {
     "name": "stdout",
     "output_type": "stream",
     "text": [
      "Overall Same Main Cat but Diff Sub-cat Rate: 24.90%\n"
     ]
    }
   ],
   "source": [
    "bpr_overall_rate, bpr_labeled_recs, bpr_user_rates = compute_cat2_diff_cat4_rate(interacted_df, bpr_recommendation_df)\n",
    "\n",
    "print(f\"Overall Same Main Cat but Diff Sub-cat Rate: {bpr_overall_rate:.2%}\")\n"
   ]
  },
  {
   "cell_type": "code",
   "execution_count": 86,
   "id": "dadaf820-de91-426f-961b-8b4495ff6683",
   "metadata": {},
   "outputs": [
    {
     "data": {
      "text/html": [
       "<div>\n",
       "<style scoped>\n",
       "    .dataframe tbody tr th:only-of-type {\n",
       "        vertical-align: middle;\n",
       "    }\n",
       "\n",
       "    .dataframe tbody tr th {\n",
       "        vertical-align: top;\n",
       "    }\n",
       "\n",
       "    .dataframe thead th {\n",
       "        text-align: right;\n",
       "    }\n",
       "</style>\n",
       "<table border=\"1\" class=\"dataframe\">\n",
       "  <thead>\n",
       "    <tr style=\"text-align: right;\">\n",
       "      <th></th>\n",
       "      <th>user_id</th>\n",
       "      <th>rank</th>\n",
       "      <th>parent_asin</th>\n",
       "      <th>cat_2</th>\n",
       "      <th>cat_4</th>\n",
       "      <th>cat_match</th>\n",
       "    </tr>\n",
       "  </thead>\n",
       "  <tbody>\n",
       "    <tr>\n",
       "      <th>94</th>\n",
       "      <td>AE6EVFS43Y7S7AJAQUEDVG5MRM5A</td>\n",
       "      <td>1</td>\n",
       "      <td>B00NWXLQD2</td>\n",
       "      <td>fitness technology</td>\n",
       "      <td>activity &amp; fitness trackers</td>\n",
       "      <td>diff_cat2</td>\n",
       "    </tr>\n",
       "    <tr>\n",
       "      <th>194</th>\n",
       "      <td>AE6EVFS43Y7S7AJAQUEDVG5MRM5A</td>\n",
       "      <td>2</td>\n",
       "      <td>B09LW2KHPM</td>\n",
       "      <td>camping &amp; hiking</td>\n",
       "      <td>lanterns</td>\n",
       "      <td>diff_cat2</td>\n",
       "    </tr>\n",
       "    <tr>\n",
       "      <th>294</th>\n",
       "      <td>AE6EVFS43Y7S7AJAQUEDVG5MRM5A</td>\n",
       "      <td>3</td>\n",
       "      <td>B07BQRWTDJ</td>\n",
       "      <td>camping &amp; hiking</td>\n",
       "      <td>air mattresses</td>\n",
       "      <td>diff_cat2</td>\n",
       "    </tr>\n",
       "    <tr>\n",
       "      <th>394</th>\n",
       "      <td>AE6EVFS43Y7S7AJAQUEDVG5MRM5A</td>\n",
       "      <td>4</td>\n",
       "      <td>B08GM3QY5N</td>\n",
       "      <td>fitness technology</td>\n",
       "      <td>activity &amp; fitness trackers</td>\n",
       "      <td>diff_cat2</td>\n",
       "    </tr>\n",
       "    <tr>\n",
       "      <th>494</th>\n",
       "      <td>AE6EVFS43Y7S7AJAQUEDVG5MRM5A</td>\n",
       "      <td>5</td>\n",
       "      <td>B01L6RE7Z4</td>\n",
       "      <td>fitness technology</td>\n",
       "      <td>activity &amp; fitness trackers</td>\n",
       "      <td>diff_cat2</td>\n",
       "    </tr>\n",
       "  </tbody>\n",
       "</table>\n",
       "</div>"
      ],
      "text/plain": [
       "                          user_id  rank parent_asin               cat_2  \\\n",
       "94   AE6EVFS43Y7S7AJAQUEDVG5MRM5A     1  B00NWXLQD2  fitness technology   \n",
       "194  AE6EVFS43Y7S7AJAQUEDVG5MRM5A     2  B09LW2KHPM    camping & hiking   \n",
       "294  AE6EVFS43Y7S7AJAQUEDVG5MRM5A     3  B07BQRWTDJ    camping & hiking   \n",
       "394  AE6EVFS43Y7S7AJAQUEDVG5MRM5A     4  B08GM3QY5N  fitness technology   \n",
       "494  AE6EVFS43Y7S7AJAQUEDVG5MRM5A     5  B01L6RE7Z4  fitness technology   \n",
       "\n",
       "                           cat_4  cat_match  \n",
       "94   activity & fitness trackers  diff_cat2  \n",
       "194                     lanterns  diff_cat2  \n",
       "294               air mattresses  diff_cat2  \n",
       "394  activity & fitness trackers  diff_cat2  \n",
       "494  activity & fitness trackers  diff_cat2  "
      ]
     },
     "execution_count": 86,
     "metadata": {},
     "output_type": "execute_result"
    }
   ],
   "source": [
    "bpr_labeled_recs.head()"
   ]
  },
  {
   "cell_type": "markdown",
   "id": "1b0833f3-3194-46f2-bace-cce69221a048",
   "metadata": {},
   "source": [
    "# EASE"
   ]
  },
  {
   "cell_type": "code",
   "execution_count": 87,
   "id": "11cb8fa6-748b-4685-90c0-999727b5fc52",
   "metadata": {},
   "outputs": [
    {
     "name": "stderr",
     "output_type": "stream",
     "text": [
      "[I 2025-06-17 16:42:48,974] A new study created in memory with name: no-name-a63226c1-ad30-4312-965c-d5b00810b5a5\n",
      "C:\\Users\\pakke\\anaconda3\\envs\\p312\\Lib\\site-packages\\cornac\\data\\dataset.py:335: UserWarning: 1077 duplicated observations are removed!\n",
      "  warnings.warn(\"%d duplicated observations are removed!\" % dup_count)\n",
      "C:\\Users\\pakke\\anaconda3\\envs\\p312\\Lib\\site-packages\\cornac\\data\\dataset.py:335: UserWarning: 39 duplicated observations are removed!\n",
      "  warnings.warn(\"%d duplicated observations are removed!\" % dup_count)\n"
     ]
    },
    {
     "name": "stdout",
     "output_type": "stream",
     "text": [
      "\n",
      "TEST:\n",
      "...\n",
      "      |  F1@50 | NCRR@50 | NDCG@50 | Recall@50 | Train (s) | Test (s)\n",
      "----- + ------ + ------- + ------- + --------- + --------- + --------\n",
      "EASEᴿ | 0.0156 |  0.1002 |  0.1535 |    0.3623 |    0.1929 |  10.1315\n",
      "\n"
     ]
    },
    {
     "name": "stderr",
     "output_type": "stream",
     "text": [
      "[I 2025-06-17 16:43:02,159] Trial 0 finished with value: 0.015625824527826553 and parameters: {'lamb': 22.951515098941858}. Best is trial 0 with value: 0.015625824527826553.\n"
     ]
    },
    {
     "name": "stdout",
     "output_type": "stream",
     "text": [
      "\n",
      "TEST:\n",
      "...\n",
      "      |  F1@50 | NCRR@50 | NDCG@50 | Recall@50 | Train (s) | Test (s)\n",
      "----- + ------ + ------- + ------- + --------- + --------- + --------\n",
      "EASEᴿ | 0.0157 |  0.1004 |  0.1539 |    0.3634 |    0.2203 |  10.1583\n",
      "\n"
     ]
    },
    {
     "name": "stderr",
     "output_type": "stream",
     "text": [
      "[I 2025-06-17 16:43:15,434] Trial 1 finished with value: 0.015673648705050686 and parameters: {'lamb': 92.10369389341948}. Best is trial 1 with value: 0.015673648705050686.\n"
     ]
    },
    {
     "name": "stdout",
     "output_type": "stream",
     "text": [
      "\n",
      "TEST:\n",
      "...\n",
      "      |  F1@50 | NCRR@50 | NDCG@50 | Recall@50 | Train (s) | Test (s)\n",
      "----- + ------ + ------- + ------- + --------- + --------- + --------\n",
      "EASEᴿ | 0.0157 |  0.1006 |  0.1542 |    0.3644 |    0.1917 |   9.8613\n",
      "\n"
     ]
    },
    {
     "name": "stderr",
     "output_type": "stream",
     "text": [
      "[I 2025-06-17 16:43:28,262] Trial 2 finished with value: 0.01571517748834906 and parameters: {'lamb': 200.74985862421696}. Best is trial 2 with value: 0.01571517748834906.\n"
     ]
    },
    {
     "name": "stdout",
     "output_type": "stream",
     "text": [
      "\n",
      "TEST:\n",
      "...\n",
      "      |  F1@50 | NCRR@50 | NDCG@50 | Recall@50 | Train (s) | Test (s)\n",
      "----- + ------ + ------- + ------- + --------- + --------- + --------\n",
      "EASEᴿ | 0.0156 |  0.1002 |  0.1535 |    0.3622 |    0.3174 |   9.7619\n",
      "\n"
     ]
    },
    {
     "name": "stderr",
     "output_type": "stream",
     "text": [
      "[I 2025-06-17 16:43:41,278] Trial 3 finished with value: 0.015620791688917368 and parameters: {'lamb': 20.39587726905618}. Best is trial 2 with value: 0.01571517748834906.\n"
     ]
    },
    {
     "name": "stdout",
     "output_type": "stream",
     "text": [
      "\n",
      "TEST:\n",
      "...\n",
      "      |  F1@50 | NCRR@50 | NDCG@50 | Recall@50 | Train (s) | Test (s)\n",
      "----- + ------ + ------- + ------- + --------- + --------- + --------\n",
      "EASEᴿ | 0.0158 |  0.1006 |  0.1547 |    0.3670 |    0.2958 |   9.5861\n",
      "\n"
     ]
    },
    {
     "name": "stderr",
     "output_type": "stream",
     "text": [
      "[I 2025-06-17 16:43:54,099] Trial 4 finished with value: 0.015825979153495113 and parameters: {'lamb': 549.9281989196165}. Best is trial 4 with value: 0.015825979153495113.\n"
     ]
    },
    {
     "name": "stdout",
     "output_type": "stream",
     "text": [
      "\n",
      "TEST:\n",
      "...\n",
      "      |  F1@50 | NCRR@50 | NDCG@50 | Recall@50 | Train (s) | Test (s)\n",
      "----- + ------ + ------- + ------- + --------- + --------- + --------\n",
      "EASEᴿ | 0.0158 |  0.1006 |  0.1547 |    0.3670 |    0.3356 |   9.9438\n",
      "\n"
     ]
    },
    {
     "name": "stderr",
     "output_type": "stream",
     "text": [
      "[I 2025-06-17 16:44:07,268] Trial 5 finished with value: 0.015825979153495113 and parameters: {'lamb': 553.986350964823}. Best is trial 4 with value: 0.015825979153495113.\n"
     ]
    },
    {
     "name": "stdout",
     "output_type": "stream",
     "text": [
      "\n",
      "TEST:\n",
      "...\n",
      "      |  F1@50 | NCRR@50 | NDCG@50 | Recall@50 | Train (s) | Test (s)\n",
      "----- + ------ + ------- + ------- + --------- + --------- + --------\n",
      "EASEᴿ | 0.0156 |  0.1002 |  0.1536 |    0.3626 |    0.2730 |   9.6610\n",
      "\n"
     ]
    },
    {
     "name": "stderr",
     "output_type": "stream",
     "text": [
      "[I 2025-06-17 16:44:20,238] Trial 6 finished with value: 0.015635961361349534 and parameters: {'lamb': 37.56176342158711}. Best is trial 4 with value: 0.015825979153495113.\n"
     ]
    },
    {
     "name": "stdout",
     "output_type": "stream",
     "text": [
      "\n",
      "TEST:\n",
      "...\n",
      "      |  F1@50 | NCRR@50 | NDCG@50 | Recall@50 | Train (s) | Test (s)\n",
      "----- + ------ + ------- + ------- + --------- + --------- + --------\n",
      "EASEᴿ | 0.0158 |  0.1006 |  0.1547 |    0.3669 |    0.3228 |  10.0287\n",
      "\n"
     ]
    },
    {
     "name": "stderr",
     "output_type": "stream",
     "text": [
      "[I 2025-06-17 16:44:33,566] Trial 7 finished with value: 0.015822161976158194 and parameters: {'lamb': 538.7648603409503}. Best is trial 4 with value: 0.015825979153495113.\n"
     ]
    },
    {
     "name": "stdout",
     "output_type": "stream",
     "text": [
      "\n",
      "TEST:\n",
      "...\n",
      "      |  F1@50 | NCRR@50 | NDCG@50 | Recall@50 | Train (s) | Test (s)\n",
      "----- + ------ + ------- + ------- + --------- + --------- + --------\n",
      "EASEᴿ | 0.0156 |  0.1002 |  0.1535 |    0.3621 |    0.3148 |   9.3266\n",
      "\n"
     ]
    },
    {
     "name": "stderr",
     "output_type": "stream",
     "text": [
      "[I 2025-06-17 16:44:46,185] Trial 8 finished with value: 0.015616952801583886 and parameters: {'lamb': 11.130738221338301}. Best is trial 4 with value: 0.015825979153495113.\n"
     ]
    },
    {
     "name": "stdout",
     "output_type": "stream",
     "text": [
      "\n",
      "TEST:\n",
      "...\n",
      "      |  F1@50 | NCRR@50 | NDCG@50 | Recall@50 | Train (s) | Test (s)\n",
      "----- + ------ + ------- + ------- + --------- + --------- + --------\n",
      "EASEᴿ | 0.0158 |  0.1005 |  0.1544 |    0.3655 |    0.3023 |   9.2463\n",
      "\n"
     ]
    },
    {
     "name": "stderr",
     "output_type": "stream",
     "text": [
      "[I 2025-06-17 16:44:58,634] Trial 9 finished with value: 0.015766677398010184 and parameters: {'lamb': 333.84915117311357}. Best is trial 4 with value: 0.015825979153495113.\n"
     ]
    },
    {
     "name": "stdout",
     "output_type": "stream",
     "text": [
      "\n",
      "TEST:\n",
      "...\n",
      "      |  F1@50 | NCRR@50 | NDCG@50 | Recall@50 | Train (s) | Test (s)\n",
      "----- + ------ + ------- + ------- + --------- + --------- + --------\n",
      "EASEᴿ | 0.0159 |  0.1006 |  0.1549 |    0.3679 |    0.2971 |   9.4008\n",
      "\n"
     ]
    },
    {
     "name": "stderr",
     "output_type": "stream",
     "text": [
      "[I 2025-06-17 16:45:11,242] Trial 10 finished with value: 0.015861309948706926 and parameters: {'lamb': 956.5687192480821}. Best is trial 10 with value: 0.015861309948706926.\n"
     ]
    },
    {
     "name": "stdout",
     "output_type": "stream",
     "text": [
      "\n",
      "TEST:\n",
      "...\n",
      "      |  F1@50 | NCRR@50 | NDCG@50 | Recall@50 | Train (s) | Test (s)\n",
      "----- + ------ + ------- + ------- + --------- + --------- + --------\n",
      "EASEᴿ | 0.0158 |  0.1007 |  0.1548 |    0.3674 |    0.3079 |   9.1404\n",
      "\n"
     ]
    },
    {
     "name": "stderr",
     "output_type": "stream",
     "text": [
      "[I 2025-06-17 16:45:23,586] Trial 11 finished with value: 0.015843584685502836 and parameters: {'lamb': 784.7342549915913}. Best is trial 10 with value: 0.015861309948706926.\n"
     ]
    },
    {
     "name": "stdout",
     "output_type": "stream",
     "text": [
      "\n",
      "TEST:\n",
      "...\n",
      "      |  F1@50 | NCRR@50 | NDCG@50 | Recall@50 | Train (s) | Test (s)\n",
      "----- + ------ + ------- + ------- + --------- + --------- + --------\n",
      "EASEᴿ | 0.0158 |  0.1007 |  0.1549 |    0.3675 |    0.3050 |   9.4527\n",
      "\n"
     ]
    },
    {
     "name": "stderr",
     "output_type": "stream",
     "text": [
      "[I 2025-06-17 16:45:36,308] Trial 12 finished with value: 0.015847450489302646 and parameters: {'lamb': 824.1886574430558}. Best is trial 10 with value: 0.015861309948706926.\n"
     ]
    },
    {
     "name": "stdout",
     "output_type": "stream",
     "text": [
      "\n",
      "TEST:\n",
      "...\n",
      "      |  F1@50 | NCRR@50 | NDCG@50 | Recall@50 | Train (s) | Test (s)\n",
      "----- + ------ + ------- + ------- + --------- + --------- + --------\n",
      "EASEᴿ | 0.0157 |  0.1005 |  0.1541 |    0.3642 |    0.3174 |   9.7061\n",
      "\n"
     ]
    },
    {
     "name": "stderr",
     "output_type": "stream",
     "text": [
      "[I 2025-06-17 16:45:49,238] Trial 13 finished with value: 0.015711264893047222 and parameters: {'lamb': 165.421017481762}. Best is trial 10 with value: 0.015861309948706926.\n"
     ]
    },
    {
     "name": "stdout",
     "output_type": "stream",
     "text": [
      "\n",
      "TEST:\n",
      "...\n",
      "      |  F1@50 | NCRR@50 | NDCG@50 | Recall@50 | Train (s) | Test (s)\n",
      "----- + ------ + ------- + ------- + --------- + --------- + --------\n",
      "EASEᴿ | 0.0159 |  0.1006 |  0.1549 |    0.3679 |    0.2471 |   9.3915\n",
      "\n"
     ]
    },
    {
     "name": "stderr",
     "output_type": "stream",
     "text": [
      "[I 2025-06-17 16:46:01,823] Trial 14 finished with value: 0.015861309948706926 and parameters: {'lamb': 958.1583539587474}. Best is trial 10 with value: 0.015861309948706926.\n"
     ]
    }
   ],
   "source": [
    "# Run EASE optimization\n",
    "study_ease = optuna.create_study(direction='maximize')\n",
    "study_ease.optimize(objective_ease, n_trials=N)\n",
    "\n",
    "# Save best model\n",
    "best_trial = study_ease.best_trial\n",
    "\n",
    "if \"model\" in best_trial.user_attrs:\n",
    "    best_model = best_trial.user_attrs[\"result\"]\n",
    "    \n",
    "    # Ensure train_set is included\n",
    "    if not hasattr(best_model, \"train_set\"):\n",
    "        print(\"Warning: No train_set found in best_model.\")\n",
    "    else:\n",
    "        best_model.train_set = best_model.train_set  # explicitly attach\n",
    "\n",
    "    with open(\"ease_model_with_trainset.pkl\", \"wb\") as f:\n",
    "        pickle.dump(best_model, f)\n",
    "\n",
    "    print(\"Best EASE model saved to ease_model_with_trainset.pkl\")\n",
    "\n",
    "# Collect all trial results\n",
    "ease_rows = []\n",
    "for trial in study_ease.trials:\n",
    "    if trial.value is None:\n",
    "        continue\n",
    "    trial_data = {\n",
    "        \"Trial\": trial.number,\n",
    "        \"F1@50\": trial.value,\n",
    "        \"Model\": \"EASE\",\n",
    "        **trial.params\n",
    "    }\n",
    "\n",
    "    # Add other evaluation metrics from user_attrs[\"result\"]\n",
    "    if \"result\" in trial.user_attrs:\n",
    "        for metric, value in trial.user_attrs[\"result\"].metric_avg_results.items():\n",
    "            trial_data[metric] = value\n",
    "\n",
    "    ease_rows.append(trial_data)\n",
    "\n",
    "# Convert to DataFrame and export\n",
    "ease_results_df = pd.DataFrame(ease_rows)\n"
   ]
  },
  {
   "cell_type": "markdown",
   "id": "a749adeb-24e3-4632-9d2b-b980cbcaae3b",
   "metadata": {},
   "source": [
    "## Generate Top K Recommendations for Sampled 100 Users"
   ]
  },
  {
   "cell_type": "code",
   "execution_count": 88,
   "id": "d333d1ac-fd18-4aca-9999-6db592e2fa16",
   "metadata": {},
   "outputs": [],
   "source": [
    "ease_topk_df = generate_top_k_recommendations(EASE, uir_dataset, study_ease, k=10)"
   ]
  },
  {
   "cell_type": "markdown",
   "id": "71424c96-b66b-4244-a9cc-0c770b2c01da",
   "metadata": {},
   "source": [
    "## Final Recommendations"
   ]
  },
  {
   "cell_type": "code",
   "execution_count": 89,
   "id": "74995d1c-8d9f-4d90-923c-04694a970ba8",
   "metadata": {},
   "outputs": [],
   "source": [
    "ease_recommendation_df = annotate_recommendations_with_category(ease_topk_df, items_df)"
   ]
  },
  {
   "cell_type": "code",
   "execution_count": 90,
   "id": "886cd2c2-d495-43b2-ac76-1a1fd9347d7b",
   "metadata": {},
   "outputs": [
    {
     "data": {
      "text/html": [
       "<div>\n",
       "<style scoped>\n",
       "    .dataframe tbody tr th:only-of-type {\n",
       "        vertical-align: middle;\n",
       "    }\n",
       "\n",
       "    .dataframe tbody tr th {\n",
       "        vertical-align: top;\n",
       "    }\n",
       "\n",
       "    .dataframe thead th {\n",
       "        text-align: right;\n",
       "    }\n",
       "</style>\n",
       "<table border=\"1\" class=\"dataframe\">\n",
       "  <thead>\n",
       "    <tr style=\"text-align: right;\">\n",
       "      <th></th>\n",
       "      <th>user_id</th>\n",
       "      <th>rank</th>\n",
       "      <th>parent_asin</th>\n",
       "      <th>cat_2</th>\n",
       "      <th>cat_4</th>\n",
       "    </tr>\n",
       "  </thead>\n",
       "  <tbody>\n",
       "    <tr>\n",
       "      <th>19</th>\n",
       "      <td>AE2GERC7YV5EUFQVP3V6QIYNMVVA</td>\n",
       "      <td>1</td>\n",
       "      <td>B00NWXLQD2</td>\n",
       "      <td>fitness technology</td>\n",
       "      <td>activity &amp; fitness trackers</td>\n",
       "    </tr>\n",
       "    <tr>\n",
       "      <th>119</th>\n",
       "      <td>AE2GERC7YV5EUFQVP3V6QIYNMVVA</td>\n",
       "      <td>2</td>\n",
       "      <td>B0BWNS939J</td>\n",
       "      <td>cycling</td>\n",
       "      <td>bike locks</td>\n",
       "    </tr>\n",
       "    <tr>\n",
       "      <th>219</th>\n",
       "      <td>AE2GERC7YV5EUFQVP3V6QIYNMVVA</td>\n",
       "      <td>3</td>\n",
       "      <td>B0BV3NKWB1</td>\n",
       "      <td>cycling</td>\n",
       "      <td>adult helmets</td>\n",
       "    </tr>\n",
       "    <tr>\n",
       "      <th>319</th>\n",
       "      <td>AE2GERC7YV5EUFQVP3V6QIYNMVVA</td>\n",
       "      <td>4</td>\n",
       "      <td>B00XN4FWD0</td>\n",
       "      <td>fitness technology</td>\n",
       "      <td>activity &amp; fitness trackers</td>\n",
       "    </tr>\n",
       "    <tr>\n",
       "      <th>419</th>\n",
       "      <td>AE2GERC7YV5EUFQVP3V6QIYNMVVA</td>\n",
       "      <td>5</td>\n",
       "      <td>B00D3WV3VC</td>\n",
       "      <td>cycling</td>\n",
       "      <td>seat packs</td>\n",
       "    </tr>\n",
       "  </tbody>\n",
       "</table>\n",
       "</div>"
      ],
      "text/plain": [
       "                          user_id  rank parent_asin               cat_2  \\\n",
       "19   AE2GERC7YV5EUFQVP3V6QIYNMVVA     1  B00NWXLQD2  fitness technology   \n",
       "119  AE2GERC7YV5EUFQVP3V6QIYNMVVA     2  B0BWNS939J             cycling   \n",
       "219  AE2GERC7YV5EUFQVP3V6QIYNMVVA     3  B0BV3NKWB1             cycling   \n",
       "319  AE2GERC7YV5EUFQVP3V6QIYNMVVA     4  B00XN4FWD0  fitness technology   \n",
       "419  AE2GERC7YV5EUFQVP3V6QIYNMVVA     5  B00D3WV3VC             cycling   \n",
       "\n",
       "                           cat_4  \n",
       "19   activity & fitness trackers  \n",
       "119                   bike locks  \n",
       "219                adult helmets  \n",
       "319  activity & fitness trackers  \n",
       "419                   seat packs  "
      ]
     },
     "execution_count": 90,
     "metadata": {},
     "output_type": "execute_result"
    }
   ],
   "source": [
    "ease_recommendation_df.head()"
   ]
  },
  {
   "cell_type": "code",
   "execution_count": 91,
   "id": "22a6579a-2928-4938-8705-2d7df2138d7d",
   "metadata": {},
   "outputs": [
    {
     "name": "stdout",
     "output_type": "stream",
     "text": [
      "Overall Same Main Cat but Diff Sub-cat Rate: 57.70%\n"
     ]
    }
   ],
   "source": [
    "ease_overall_rate, ease_labeled_recs, ease_user_rates = compute_cat2_diff_cat4_rate(interacted_df, ease_recommendation_df)\n",
    "\n",
    "print(f\"Overall Same Main Cat but Diff Sub-cat Rate: {ease_overall_rate:.2%}\")"
   ]
  },
  {
   "cell_type": "code",
   "execution_count": 92,
   "id": "c4ed6372-0e70-4602-a5b4-4a155792155c",
   "metadata": {},
   "outputs": [
    {
     "data": {
      "text/html": [
       "<div>\n",
       "<style scoped>\n",
       "    .dataframe tbody tr th:only-of-type {\n",
       "        vertical-align: middle;\n",
       "    }\n",
       "\n",
       "    .dataframe tbody tr th {\n",
       "        vertical-align: top;\n",
       "    }\n",
       "\n",
       "    .dataframe thead th {\n",
       "        text-align: right;\n",
       "    }\n",
       "</style>\n",
       "<table border=\"1\" class=\"dataframe\">\n",
       "  <thead>\n",
       "    <tr style=\"text-align: right;\">\n",
       "      <th></th>\n",
       "      <th>user_id</th>\n",
       "      <th>rank</th>\n",
       "      <th>parent_asin</th>\n",
       "      <th>cat_2</th>\n",
       "      <th>cat_4</th>\n",
       "      <th>cat_match</th>\n",
       "    </tr>\n",
       "  </thead>\n",
       "  <tbody>\n",
       "    <tr>\n",
       "      <th>19</th>\n",
       "      <td>AE2GERC7YV5EUFQVP3V6QIYNMVVA</td>\n",
       "      <td>1</td>\n",
       "      <td>B00NWXLQD2</td>\n",
       "      <td>fitness technology</td>\n",
       "      <td>activity &amp; fitness trackers</td>\n",
       "      <td>same_cat4</td>\n",
       "    </tr>\n",
       "    <tr>\n",
       "      <th>119</th>\n",
       "      <td>AE2GERC7YV5EUFQVP3V6QIYNMVVA</td>\n",
       "      <td>2</td>\n",
       "      <td>B0BWNS939J</td>\n",
       "      <td>cycling</td>\n",
       "      <td>bike locks</td>\n",
       "      <td>same_cat2_diff_cat4</td>\n",
       "    </tr>\n",
       "    <tr>\n",
       "      <th>219</th>\n",
       "      <td>AE2GERC7YV5EUFQVP3V6QIYNMVVA</td>\n",
       "      <td>3</td>\n",
       "      <td>B0BV3NKWB1</td>\n",
       "      <td>cycling</td>\n",
       "      <td>adult helmets</td>\n",
       "      <td>same_cat2_diff_cat4</td>\n",
       "    </tr>\n",
       "    <tr>\n",
       "      <th>319</th>\n",
       "      <td>AE2GERC7YV5EUFQVP3V6QIYNMVVA</td>\n",
       "      <td>4</td>\n",
       "      <td>B00XN4FWD0</td>\n",
       "      <td>fitness technology</td>\n",
       "      <td>activity &amp; fitness trackers</td>\n",
       "      <td>same_cat4</td>\n",
       "    </tr>\n",
       "    <tr>\n",
       "      <th>419</th>\n",
       "      <td>AE2GERC7YV5EUFQVP3V6QIYNMVVA</td>\n",
       "      <td>5</td>\n",
       "      <td>B00D3WV3VC</td>\n",
       "      <td>cycling</td>\n",
       "      <td>seat packs</td>\n",
       "      <td>same_cat2_diff_cat4</td>\n",
       "    </tr>\n",
       "  </tbody>\n",
       "</table>\n",
       "</div>"
      ],
      "text/plain": [
       "                          user_id  rank parent_asin               cat_2  \\\n",
       "19   AE2GERC7YV5EUFQVP3V6QIYNMVVA     1  B00NWXLQD2  fitness technology   \n",
       "119  AE2GERC7YV5EUFQVP3V6QIYNMVVA     2  B0BWNS939J             cycling   \n",
       "219  AE2GERC7YV5EUFQVP3V6QIYNMVVA     3  B0BV3NKWB1             cycling   \n",
       "319  AE2GERC7YV5EUFQVP3V6QIYNMVVA     4  B00XN4FWD0  fitness technology   \n",
       "419  AE2GERC7YV5EUFQVP3V6QIYNMVVA     5  B00D3WV3VC             cycling   \n",
       "\n",
       "                           cat_4            cat_match  \n",
       "19   activity & fitness trackers            same_cat4  \n",
       "119                   bike locks  same_cat2_diff_cat4  \n",
       "219                adult helmets  same_cat2_diff_cat4  \n",
       "319  activity & fitness trackers            same_cat4  \n",
       "419                   seat packs  same_cat2_diff_cat4  "
      ]
     },
     "execution_count": 92,
     "metadata": {},
     "output_type": "execute_result"
    }
   ],
   "source": [
    "ease_labeled_recs.head()"
   ]
  },
  {
   "cell_type": "markdown",
   "id": "fa6d8f69-5d21-45a0-a073-a706a386c8f7",
   "metadata": {},
   "source": [
    "# WMF"
   ]
  },
  {
   "cell_type": "code",
   "execution_count": 93,
   "id": "96771220-8244-435f-af97-8270d6a9aca8",
   "metadata": {},
   "outputs": [
    {
     "name": "stderr",
     "output_type": "stream",
     "text": [
      "[I 2025-06-17 16:46:26,264] A new study created in memory with name: no-name-f4537e55-26e5-4666-b9bf-7058c444aaa2\n",
      "C:\\Users\\pakke\\anaconda3\\envs\\p312\\Lib\\site-packages\\cornac\\data\\dataset.py:335: UserWarning: 1077 duplicated observations are removed!\n",
      "  warnings.warn(\"%d duplicated observations are removed!\" % dup_count)\n",
      "C:\\Users\\pakke\\anaconda3\\envs\\p312\\Lib\\site-packages\\cornac\\data\\dataset.py:335: UserWarning: 39 duplicated observations are removed!\n",
      "  warnings.warn(\"%d duplicated observations are removed!\" % dup_count)\n"
     ]
    },
    {
     "name": "stdout",
     "output_type": "stream",
     "text": [
      "\n",
      "TEST:\n",
      "...\n",
      "    |  F1@50 | NCRR@50 | NDCG@50 | Recall@50 | Train (s) | Test (s)\n",
      "--- + ------ + ------- + ------- + --------- + --------- + --------\n",
      "WMF | 0.0042 |  0.0168 |  0.0332 |    0.1039 |  274.9771 |   2.2747\n",
      "\n"
     ]
    },
    {
     "name": "stderr",
     "output_type": "stream",
     "text": [
      "[I 2025-06-17 16:51:05,959] Trial 0 finished with value: 0.004216741687260546 and parameters: {'k': 127, 'learning_rate': 0.030420546244727436, 'lambda_u': 0.0028591633584606623, 'lambda_v': 0.0028350798588762972, 'a': 1.8365488856620549, 'b': 0.0001386540650125511}. Best is trial 0 with value: 0.004216741687260546.\n"
     ]
    },
    {
     "name": "stdout",
     "output_type": "stream",
     "text": [
      "\n",
      "TEST:\n",
      "...\n",
      "    |  F1@50 | NCRR@50 | NDCG@50 | Recall@50 | Train (s) | Test (s)\n",
      "--- + ------ + ------- + ------- + --------- + --------- + --------\n",
      "WMF | 0.0036 |  0.0147 |  0.0282 |    0.0879 |  280.1766 |   2.3825\n",
      "\n"
     ]
    },
    {
     "name": "stderr",
     "output_type": "stream",
     "text": [
      "[I 2025-06-17 16:55:51,079] Trial 1 finished with value: 0.0035502956927068938 and parameters: {'k': 122, 'learning_rate': 0.0026737575669022826, 'lambda_u': 0.001755821764297093, 'lambda_v': 0.0038155235331076985, 'a': 2.9086337704633394, 'b': 0.00014446963731089009}. Best is trial 0 with value: 0.004216741687260546.\n"
     ]
    },
    {
     "name": "stdout",
     "output_type": "stream",
     "text": [
      "\n",
      "TEST:\n",
      "...\n",
      "    |  F1@50 | NCRR@50 | NDCG@50 | Recall@50 | Train (s) | Test (s)\n",
      "--- + ------ + ------- + ------- + --------- + --------- + --------\n",
      "WMF | 0.0041 |  0.0162 |  0.0318 |    0.0993 |  292.1662 |   2.9439\n",
      "\n"
     ]
    },
    {
     "name": "stderr",
     "output_type": "stream",
     "text": [
      "[I 2025-06-17 17:00:48,814] Trial 2 finished with value: 0.00407144229286293 and parameters: {'k': 157, 'learning_rate': 0.04473757493539192, 'lambda_u': 0.011597038855145759, 'lambda_v': 0.0018955344752453025, 'a': 4.240343295744255, 'b': 0.00023224947481637688}. Best is trial 0 with value: 0.004216741687260546.\n"
     ]
    },
    {
     "name": "stdout",
     "output_type": "stream",
     "text": [
      "\n",
      "TEST:\n",
      "...\n",
      "    |  F1@50 | NCRR@50 | NDCG@50 | Recall@50 | Train (s) | Test (s)\n",
      "--- + ------ + ------- + ------- + --------- + --------- + --------\n",
      "WMF | 0.0039 |  0.0171 |  0.0317 |    0.0951 |  336.4131 |   2.3693\n",
      "\n"
     ]
    },
    {
     "name": "stderr",
     "output_type": "stream",
     "text": [
      "[I 2025-06-17 17:06:30,299] Trial 3 finished with value: 0.0038796095555945643 and parameters: {'k': 245, 'learning_rate': 0.008353084028987445, 'lambda_u': 0.010218535555256689, 'lambda_v': 0.0012313439347444032, 'a': 3.1430763143500338, 'b': 0.0040494232466431026}. Best is trial 0 with value: 0.004216741687260546.\n"
     ]
    },
    {
     "name": "stdout",
     "output_type": "stream",
     "text": [
      "\n",
      "TEST:\n",
      "...\n",
      "    |  F1@50 | NCRR@50 | NDCG@50 | Recall@50 | Train (s) | Test (s)\n",
      "--- + ------ + ------- + ------- + --------- + --------- + --------\n",
      "WMF | 0.0038 |  0.0159 |  0.0305 |    0.0945 |  290.5424 |   2.5750\n",
      "\n"
     ]
    },
    {
     "name": "stderr",
     "output_type": "stream",
     "text": [
      "[I 2025-06-17 17:11:26,196] Trial 4 finished with value: 0.0037991264943956302 and parameters: {'k': 168, 'learning_rate': 0.008932568057728485, 'lambda_u': 0.015665983067919415, 'lambda_v': 0.012307993932540262, 'a': 9.569609283707212, 'b': 0.00018247999919476232}. Best is trial 0 with value: 0.004216741687260546.\n"
     ]
    },
    {
     "name": "stdout",
     "output_type": "stream",
     "text": [
      "\n",
      "TEST:\n",
      "...\n",
      "    |  F1@50 | NCRR@50 | NDCG@50 | Recall@50 | Train (s) | Test (s)\n",
      "--- + ------ + ------- + ------- + --------- + --------- + --------\n",
      "WMF | 0.0034 |  0.0155 |  0.0282 |    0.0839 |  266.4585 |   2.4016\n",
      "\n"
     ]
    },
    {
     "name": "stderr",
     "output_type": "stream",
     "text": [
      "[I 2025-06-17 17:15:57,690] Trial 5 finished with value: 0.00341163794098033 and parameters: {'k': 106, 'learning_rate': 0.009673638703993393, 'lambda_u': 0.0014195773635223721, 'lambda_v': 0.017225539389358595, 'a': 4.594143095851173, 'b': 0.005126497437169848}. Best is trial 0 with value: 0.004216741687260546.\n"
     ]
    },
    {
     "name": "stdout",
     "output_type": "stream",
     "text": [
      "\n",
      "TEST:\n",
      "...\n",
      "    |  F1@50 | NCRR@50 | NDCG@50 | Recall@50 | Train (s) | Test (s)\n",
      "--- + ------ + ------- + ------- + --------- + --------- + --------\n",
      "WMF | 0.0040 |  0.0153 |  0.0307 |    0.0976 |  306.4848 |   2.3388\n",
      "\n"
     ]
    },
    {
     "name": "stderr",
     "output_type": "stream",
     "text": [
      "[I 2025-06-17 17:21:09,214] Trial 6 finished with value: 0.0039578178451652275 and parameters: {'k': 182, 'learning_rate': 0.031194497125590262, 'lambda_u': 0.010534890970293562, 'lambda_v': 0.002251858515769263, 'a': 4.389158917051006, 'b': 0.0006209264841146556}. Best is trial 0 with value: 0.004216741687260546.\n"
     ]
    },
    {
     "name": "stdout",
     "output_type": "stream",
     "text": [
      "\n",
      "TEST:\n",
      "...\n",
      "    |  F1@50 | NCRR@50 | NDCG@50 | Recall@50 | Train (s) | Test (s)\n",
      "--- + ------ + ------- + ------- + --------- + --------- + --------\n",
      "WMF | 0.0039 |  0.0171 |  0.0319 |    0.0962 |  324.9966 |   2.3463\n",
      "\n"
     ]
    },
    {
     "name": "stderr",
     "output_type": "stream",
     "text": [
      "[I 2025-06-17 17:26:39,273] Trial 7 finished with value: 0.003897405820616133 and parameters: {'k': 218, 'learning_rate': 0.0013742860181871703, 'lambda_u': 0.01435592811301626, 'lambda_v': 0.002666693277104473, 'a': 1.1464612966586518, 'b': 0.0033914369041522672}. Best is trial 0 with value: 0.004216741687260546.\n"
     ]
    },
    {
     "name": "stdout",
     "output_type": "stream",
     "text": [
      "\n",
      "TEST:\n",
      "...\n",
      "    |  F1@50 | NCRR@50 | NDCG@50 | Recall@50 | Train (s) | Test (s)\n",
      "--- + ------ + ------- + ------- + --------- + --------- + --------\n",
      "WMF | 0.0042 |  0.0169 |  0.0333 |    0.1047 |  326.2323 |   2.2473\n",
      "\n"
     ]
    },
    {
     "name": "stderr",
     "output_type": "stream",
     "text": [
      "[I 2025-06-17 17:32:10,563] Trial 8 finished with value: 0.004234135607262679 and parameters: {'k': 231, 'learning_rate': 0.00656542520571712, 'lambda_u': 0.0019184831518461714, 'lambda_v': 0.0012945046637132182, 'a': 6.808106501131004, 'b': 0.0011103647481485986}. Best is trial 8 with value: 0.004234135607262679.\n"
     ]
    },
    {
     "name": "stdout",
     "output_type": "stream",
     "text": [
      "\n",
      "TEST:\n",
      "...\n",
      "    |  F1@50 | NCRR@50 | NDCG@50 | Recall@50 | Train (s) | Test (s)\n",
      "--- + ------ + ------- + ------- + --------- + --------- + --------\n",
      "WMF | 0.0034 |  0.0149 |  0.0275 |    0.0827 |  324.3953 |   2.2801\n",
      "\n"
     ]
    },
    {
     "name": "stderr",
     "output_type": "stream",
     "text": [
      "[I 2025-06-17 17:37:40,119] Trial 9 finished with value: 0.0033676724246230277 and parameters: {'k': 227, 'learning_rate': 0.0010775858901323472, 'lambda_u': 0.001131059710905145, 'lambda_v': 0.002097896327846148, 'a': 4.114527484791752, 'b': 0.00017478843749409889}. Best is trial 8 with value: 0.004234135607262679.\n",
      "[I 2025-06-17 17:41:40,001] Trial 10 finished with value: 0.0040498650116435825 and parameters: {'k': 52, 'learning_rate': 0.003931685449620987, 'lambda_u': 0.07721231611029288, 'lambda_v': 0.07003818213320238, 'a': 7.118712252108229, 'b': 0.0012488005353856184}. Best is trial 8 with value: 0.004234135607262679.\n"
     ]
    },
    {
     "name": "stdout",
     "output_type": "stream",
     "text": [
      "\n",
      "TEST:\n",
      "...\n",
      "    |  F1@50 | NCRR@50 | NDCG@50 | Recall@50 | Train (s) | Test (s)\n",
      "--- + ------ + ------- + ------- + --------- + --------- + --------\n",
      "WMF | 0.0040 |  0.0166 |  0.0318 |    0.0989 |  234.6503 |   2.3641\n",
      "\n",
      "\n",
      "TEST:\n",
      "...\n",
      "    |  F1@50 | NCRR@50 | NDCG@50 | Recall@50 | Train (s) | Test (s)\n",
      "--- + ------ + ------- + ------- + --------- + --------- + --------\n",
      "WMF | 0.0041 |  0.0172 |  0.0328 |    0.1010 |  269.7662 |   2.1185\n",
      "\n"
     ]
    },
    {
     "name": "stderr",
     "output_type": "stream",
     "text": [
      "[I 2025-06-17 17:46:14,681] Trial 11 finished with value: 0.004074390686488347 and parameters: {'k': 122, 'learning_rate': 0.0233528136329914, 'lambda_u': 0.0035830511528407677, 'lambda_v': 0.0057217960788284745, 'a': 7.0767914980016835, 'b': 0.0010951138374604905}. Best is trial 8 with value: 0.004234135607262679.\n"
     ]
    },
    {
     "name": "stdout",
     "output_type": "stream",
     "text": [
      "\n",
      "TEST:\n",
      "...\n",
      "    |  F1@50 | NCRR@50 | NDCG@50 | Recall@50 | Train (s) | Test (s)\n",
      "--- + ------ + ------- + ------- + --------- + --------- + --------\n",
      "WMF | 0.0038 |  0.0158 |  0.0304 |    0.0939 |  249.2946 |   2.2141\n",
      "\n"
     ]
    },
    {
     "name": "stderr",
     "output_type": "stream",
     "text": [
      "[I 2025-06-17 17:50:28,824] Trial 12 finished with value: 0.0038299203827089436 and parameters: {'k': 73, 'learning_rate': 0.01648167501814339, 'lambda_u': 0.00387803176366388, 'lambda_v': 0.0010358297463740126, 'a': 7.197663354134233, 'b': 0.0005210483990947413}. Best is trial 8 with value: 0.004234135607262679.\n"
     ]
    },
    {
     "name": "stdout",
     "output_type": "stream",
     "text": [
      "\n",
      "TEST:\n",
      "...\n",
      "    |  F1@50 | NCRR@50 | NDCG@50 | Recall@50 | Train (s) | Test (s)\n",
      "--- + ------ + ------- + ------- + --------- + --------- + --------\n",
      "WMF | 0.0037 |  0.0162 |  0.0300 |    0.0905 |  304.5537 |   2.4236\n",
      "\n"
     ]
    },
    {
     "name": "stderr",
     "output_type": "stream",
     "text": [
      "[I 2025-06-17 17:55:38,506] Trial 13 finished with value: 0.00367620331722717 and parameters: {'k': 193, 'learning_rate': 0.004253108553177949, 'lambda_u': 0.003659494642206389, 'lambda_v': 0.006339079595387851, 'a': 1.2041381195400458, 'b': 0.0020063213821160867}. Best is trial 8 with value: 0.004234135607262679.\n",
      "[I 2025-06-17 18:00:17,001] Trial 14 finished with value: 0.004267390289865307 and parameters: {'k': 129, 'learning_rate': 0.015689588960107588, 'lambda_u': 0.002729666137630883, 'lambda_v': 0.025294795863952124, 'a': 6.1099052897297526, 'b': 0.00041273599644772545}. Best is trial 14 with value: 0.004267390289865307.\n"
     ]
    },
    {
     "name": "stdout",
     "output_type": "stream",
     "text": [
      "\n",
      "TEST:\n",
      "...\n",
      "    |  F1@50 | NCRR@50 | NDCG@50 | Recall@50 | Train (s) | Test (s)\n",
      "--- + ------ + ------- + ------- + --------- + --------- + --------\n",
      "WMF | 0.0043 |  0.0178 |  0.0342 |    0.1058 |  273.5652 |   2.3159\n",
      "\n",
      "⚠️ Warning: No train_set found in best_model.\n",
      "✅ Best WMF model saved to wmf_model_with_trainset.pkl\n"
     ]
    }
   ],
   "source": [
    "# Run WMF optimization\n",
    "study_wmf = optuna.create_study(direction='maximize')\n",
    "study_wmf.optimize(objective_wmf, n_trials=N)\n",
    "\n",
    "# Save best model\n",
    "best_trial = study_wmf.best_trial\n",
    "\n",
    "if \"result\" in best_trial.user_attrs:\n",
    "    best_model = best_trial.user_attrs[\"result\"]\n",
    "\n",
    "    # Ensure train_set is included\n",
    "    if not hasattr(best_model, \"train_set\"):\n",
    "        print(\"Warning: No train_set found in best_model.\")\n",
    "    else:\n",
    "        best_model.train_set = best_model.train_set  # explicitly attach\n",
    "\n",
    "    with open(\"wmf_model_with_trainset.pkl\", \"wb\") as f:\n",
    "        pickle.dump(best_model, f)\n",
    "\n",
    "    print(\"Best WMF model saved to wmf_model_with_trainset.pkl\")\n",
    "\n",
    "# Collect all trial results\n",
    "wmf_rows = []\n",
    "for trial in study_wmf.trials:\n",
    "    if trial.value is None:\n",
    "        continue\n",
    "    trial_data = {\n",
    "        \"Trial\": trial.number,\n",
    "        \"F1@50\": trial.value,\n",
    "        \"Model\": \"WMF\",\n",
    "        **trial.params\n",
    "    }\n",
    "\n",
    "    # Add other evaluation metrics from user_attrs[\"result\"]\n",
    "    if \"result\" in trial.user_attrs:\n",
    "        for metric, value in trial.user_attrs[\"result\"].metric_avg_results.items():\n",
    "            trial_data[metric] = value\n",
    "\n",
    "    wmf_rows.append(trial_data)\n",
    "\n",
    "# Convert to DataFrame\n",
    "wmf_results_df = pd.DataFrame(wmf_rows)\n"
   ]
  },
  {
   "cell_type": "markdown",
   "id": "f9423894-c04a-4382-9db0-3881c7bf004e",
   "metadata": {},
   "source": [
    "## Generate Top K Recommendations for Sampled 100 Users"
   ]
  },
  {
   "cell_type": "code",
   "execution_count": 94,
   "id": "ec87f89d-bec8-4278-8fdc-0666b2ef6bac",
   "metadata": {},
   "outputs": [],
   "source": [
    "wmf_topk_df = generate_top_k_recommendations(WMF, uir_dataset, study_wmf, k=10)"
   ]
  },
  {
   "cell_type": "code",
   "execution_count": 95,
   "id": "136bf429-d095-46d6-941b-772bc14aff2e",
   "metadata": {},
   "outputs": [],
   "source": [
    "wmf_recommendation_df = annotate_recommendations_with_category(wmf_topk_df, items_df)"
   ]
  },
  {
   "cell_type": "code",
   "execution_count": 96,
   "id": "d363a073-6482-4bff-b90d-9cf9af83bf31",
   "metadata": {},
   "outputs": [
    {
     "data": {
      "text/html": [
       "<div>\n",
       "<style scoped>\n",
       "    .dataframe tbody tr th:only-of-type {\n",
       "        vertical-align: middle;\n",
       "    }\n",
       "\n",
       "    .dataframe tbody tr th {\n",
       "        vertical-align: top;\n",
       "    }\n",
       "\n",
       "    .dataframe thead th {\n",
       "        text-align: right;\n",
       "    }\n",
       "</style>\n",
       "<table border=\"1\" class=\"dataframe\">\n",
       "  <thead>\n",
       "    <tr style=\"text-align: right;\">\n",
       "      <th></th>\n",
       "      <th>user_id</th>\n",
       "      <th>rank</th>\n",
       "      <th>parent_asin</th>\n",
       "      <th>cat_2</th>\n",
       "      <th>cat_4</th>\n",
       "    </tr>\n",
       "  </thead>\n",
       "  <tbody>\n",
       "    <tr>\n",
       "      <th>23</th>\n",
       "      <td>AE2JQJ7EY3GJINWP4MILVAP7WURQ</td>\n",
       "      <td>1</td>\n",
       "      <td>B07F7Z9M3Y</td>\n",
       "      <td>cycling</td>\n",
       "      <td>seats &amp; saddles</td>\n",
       "    </tr>\n",
       "    <tr>\n",
       "      <th>123</th>\n",
       "      <td>AE2JQJ7EY3GJINWP4MILVAP7WURQ</td>\n",
       "      <td>2</td>\n",
       "      <td>B08PQ6XVH7</td>\n",
       "      <td>cycling</td>\n",
       "      <td>bike mirrors</td>\n",
       "    </tr>\n",
       "    <tr>\n",
       "      <th>223</th>\n",
       "      <td>AE2JQJ7EY3GJINWP4MILVAP7WURQ</td>\n",
       "      <td>3</td>\n",
       "      <td>B07MGXZXSD</td>\n",
       "      <td>camping &amp; hiking</td>\n",
       "      <td>lanterns</td>\n",
       "    </tr>\n",
       "    <tr>\n",
       "      <th>323</th>\n",
       "      <td>AE2JQJ7EY3GJINWP4MILVAP7WURQ</td>\n",
       "      <td>4</td>\n",
       "      <td>B0B15PNV5V</td>\n",
       "      <td>camping &amp; hiking</td>\n",
       "      <td>stove accessories</td>\n",
       "    </tr>\n",
       "    <tr>\n",
       "      <th>423</th>\n",
       "      <td>AE2JQJ7EY3GJINWP4MILVAP7WURQ</td>\n",
       "      <td>5</td>\n",
       "      <td>B07HNLBZ4Y</td>\n",
       "      <td>strength training equipment</td>\n",
       "      <td>olympic weight benches</td>\n",
       "    </tr>\n",
       "  </tbody>\n",
       "</table>\n",
       "</div>"
      ],
      "text/plain": [
       "                          user_id  rank parent_asin  \\\n",
       "23   AE2JQJ7EY3GJINWP4MILVAP7WURQ     1  B07F7Z9M3Y   \n",
       "123  AE2JQJ7EY3GJINWP4MILVAP7WURQ     2  B08PQ6XVH7   \n",
       "223  AE2JQJ7EY3GJINWP4MILVAP7WURQ     3  B07MGXZXSD   \n",
       "323  AE2JQJ7EY3GJINWP4MILVAP7WURQ     4  B0B15PNV5V   \n",
       "423  AE2JQJ7EY3GJINWP4MILVAP7WURQ     5  B07HNLBZ4Y   \n",
       "\n",
       "                           cat_2                   cat_4  \n",
       "23                       cycling         seats & saddles  \n",
       "123                      cycling            bike mirrors  \n",
       "223             camping & hiking                lanterns  \n",
       "323             camping & hiking       stove accessories  \n",
       "423  strength training equipment  olympic weight benches  "
      ]
     },
     "execution_count": 96,
     "metadata": {},
     "output_type": "execute_result"
    }
   ],
   "source": [
    "wmf_recommendation_df.head()"
   ]
  },
  {
   "cell_type": "markdown",
   "id": "0c33ae59-f3ed-4021-8b38-a7e94fbccd57",
   "metadata": {},
   "source": [
    "## Final Recommendations"
   ]
  },
  {
   "cell_type": "code",
   "execution_count": 97,
   "id": "d6a9b786-c849-47b5-ac72-629c46392d4f",
   "metadata": {},
   "outputs": [
    {
     "name": "stdout",
     "output_type": "stream",
     "text": [
      "Overall Same Main Cat but Diff Sub-cat Rate (WMF): 32.70%\n"
     ]
    }
   ],
   "source": [
    "wmf_overall_rate, wmf_labeled_recs, wmf_user_rates = compute_cat2_diff_cat4_rate(interacted_df, wmf_recommendation_df)\n",
    "\n",
    "print(f\"Overall Same Main Cat but Diff Sub-cat Rate (WMF): {wmf_overall_rate:.2%}\")\n"
   ]
  },
  {
   "cell_type": "code",
   "execution_count": 98,
   "id": "f08b9054-1675-4133-886f-7c66097dee92",
   "metadata": {},
   "outputs": [
    {
     "data": {
      "text/html": [
       "<div>\n",
       "<style scoped>\n",
       "    .dataframe tbody tr th:only-of-type {\n",
       "        vertical-align: middle;\n",
       "    }\n",
       "\n",
       "    .dataframe tbody tr th {\n",
       "        vertical-align: top;\n",
       "    }\n",
       "\n",
       "    .dataframe thead th {\n",
       "        text-align: right;\n",
       "    }\n",
       "</style>\n",
       "<table border=\"1\" class=\"dataframe\">\n",
       "  <thead>\n",
       "    <tr style=\"text-align: right;\">\n",
       "      <th></th>\n",
       "      <th>user_id</th>\n",
       "      <th>rank</th>\n",
       "      <th>parent_asin</th>\n",
       "      <th>cat_2</th>\n",
       "      <th>cat_4</th>\n",
       "      <th>cat_match</th>\n",
       "    </tr>\n",
       "  </thead>\n",
       "  <tbody>\n",
       "    <tr>\n",
       "      <th>23</th>\n",
       "      <td>AE2JQJ7EY3GJINWP4MILVAP7WURQ</td>\n",
       "      <td>1</td>\n",
       "      <td>B07F7Z9M3Y</td>\n",
       "      <td>cycling</td>\n",
       "      <td>seats &amp; saddles</td>\n",
       "      <td>same_cat4</td>\n",
       "    </tr>\n",
       "    <tr>\n",
       "      <th>123</th>\n",
       "      <td>AE2JQJ7EY3GJINWP4MILVAP7WURQ</td>\n",
       "      <td>2</td>\n",
       "      <td>B08PQ6XVH7</td>\n",
       "      <td>cycling</td>\n",
       "      <td>bike mirrors</td>\n",
       "      <td>same_cat2_diff_cat4</td>\n",
       "    </tr>\n",
       "    <tr>\n",
       "      <th>223</th>\n",
       "      <td>AE2JQJ7EY3GJINWP4MILVAP7WURQ</td>\n",
       "      <td>3</td>\n",
       "      <td>B07MGXZXSD</td>\n",
       "      <td>camping &amp; hiking</td>\n",
       "      <td>lanterns</td>\n",
       "      <td>diff_cat2</td>\n",
       "    </tr>\n",
       "    <tr>\n",
       "      <th>323</th>\n",
       "      <td>AE2JQJ7EY3GJINWP4MILVAP7WURQ</td>\n",
       "      <td>4</td>\n",
       "      <td>B0B15PNV5V</td>\n",
       "      <td>camping &amp; hiking</td>\n",
       "      <td>stove accessories</td>\n",
       "      <td>diff_cat2</td>\n",
       "    </tr>\n",
       "    <tr>\n",
       "      <th>423</th>\n",
       "      <td>AE2JQJ7EY3GJINWP4MILVAP7WURQ</td>\n",
       "      <td>5</td>\n",
       "      <td>B07HNLBZ4Y</td>\n",
       "      <td>strength training equipment</td>\n",
       "      <td>olympic weight benches</td>\n",
       "      <td>diff_cat2</td>\n",
       "    </tr>\n",
       "  </tbody>\n",
       "</table>\n",
       "</div>"
      ],
      "text/plain": [
       "                          user_id  rank parent_asin  \\\n",
       "23   AE2JQJ7EY3GJINWP4MILVAP7WURQ     1  B07F7Z9M3Y   \n",
       "123  AE2JQJ7EY3GJINWP4MILVAP7WURQ     2  B08PQ6XVH7   \n",
       "223  AE2JQJ7EY3GJINWP4MILVAP7WURQ     3  B07MGXZXSD   \n",
       "323  AE2JQJ7EY3GJINWP4MILVAP7WURQ     4  B0B15PNV5V   \n",
       "423  AE2JQJ7EY3GJINWP4MILVAP7WURQ     5  B07HNLBZ4Y   \n",
       "\n",
       "                           cat_2                   cat_4            cat_match  \n",
       "23                       cycling         seats & saddles            same_cat4  \n",
       "123                      cycling            bike mirrors  same_cat2_diff_cat4  \n",
       "223             camping & hiking                lanterns            diff_cat2  \n",
       "323             camping & hiking       stove accessories            diff_cat2  \n",
       "423  strength training equipment  olympic weight benches            diff_cat2  "
      ]
     },
     "execution_count": 98,
     "metadata": {},
     "output_type": "execute_result"
    }
   ],
   "source": [
    "wmf_labeled_recs.head()"
   ]
  },
  {
   "cell_type": "markdown",
   "id": "0df804aa-ba48-4fc8-ae6d-e428fbea716c",
   "metadata": {},
   "source": [
    "# Summary"
   ]
  },
  {
   "cell_type": "code",
   "execution_count": 99,
   "id": "19857029-9274-4141-82dd-2932111f54cc",
   "metadata": {},
   "outputs": [
    {
     "name": "stdout",
     "output_type": "stream",
     "text": [
      "\n",
      " Intra-category Diversity Summary (Same Cat-2, Different Cat-4):\n",
      "Model Same Cat-2, Diff Cat-4 Rate\n",
      " EASE                      57.70%\n",
      "  BPR                      24.90%\n",
      "  WMF                      32.70%\n",
      "   MF                      39.90%\n"
     ]
    }
   ],
   "source": [
    "import pandas as pd\n",
    "\n",
    "# Your existing summary dictionary\n",
    "summary = {\n",
    "    \"EASE\": ease_overall_rate,\n",
    "    \"BPR\": bpr_overall_rate,\n",
    "    \"WMF\": wmf_overall_rate,\n",
    "    \"MF\": mf_overall_rate,\n",
    "}\n",
    "\n",
    "# Convert to DataFrame\n",
    "summary_df = pd.DataFrame([\n",
    "    {\"Model\": model, \"Same Cat-2, Diff Cat-4 Rate\": f\"{rate:.2%}\"}\n",
    "    for model, rate in summary.items()\n",
    "])\n",
    "\n",
    "# Display using print\n",
    "print(\"\\n Intra-category Diversity Summary (Same Cat-2, Different Cat-4):\")\n",
    "print(summary_df.to_string(index=False))\n"
   ]
  },
  {
   "cell_type": "code",
   "execution_count": 2,
   "id": "d1024792-c380-444a-9b44-5964ee18664e",
   "metadata": {},
   "outputs": [
    {
     "data": {
      "image/png": "[encoded data removed]",
      "text/plain": [
       "<Figure size 800x400 with 1 Axes>"
      ]
     },
     "metadata": {},
     "output_type": "display_data"
    }
   ],
   "source": [
    "import numpy as np\n",
    "import matplotlib.pyplot as plt\n",
    "\n",
    "# Model names and metric values\n",
    "models = ['WMF', 'EASEʳ', 'BPR', 'MF']\n",
    "f1     = [0.0040, 0.0159, 0.0162, 0.0045]\n",
    "ndcg   = [0.0307, 0.1549, 0.1423, 0.0321]\n",
    "recall = [0.0976, 0.3679, 0.3772, 0.1068]\n",
    "ncrr   = [0.0153, 0.1006, 0.0840, 0.0144]  # NCRR@50 for each model\n",
    "\n",
    "x = np.arange(len(models))\n",
    "width = 0.2\n",
    "\n",
    "fig, ax = plt.subplots(figsize=(8, 4))\n",
    "\n",
    "# Plot grouped bars\n",
    "bars_f1    = ax.bar(x - 1.5*width, f1,   width, label='F1@10',   color='#1f77b4')\n",
    "bars_ndcg  = ax.bar(x - 0.5*width, ndcg, width, label='NDCG@10', color='#ff7f0e')\n",
    "bars_recall= ax.bar(x + 0.5*width, recall,width, label='Recall@10', color='#2ca02c')\n",
    "bars_ncrr  = ax.bar(x + 1.5*width, ncrr,  width, label='NCRR@10', color='#d62728')\n",
    "\n",
    "# Labels and format\n",
    "ax.set_xticks(x)\n",
    "ax.set_xticklabels(models)\n",
    "ax.set_ylabel('Score')\n",
    "ax.set_title('Performance Comparison of Recommender Models')\n",
    "ax.legend()\n",
    "\n",
    "# Add value labels\n",
    "for bars in [bars_f1, bars_ndcg, bars_recall, bars_ncrr]:\n",
    "    ax.bar_label(bars, fmt='%.3f', padding=2, fontsize=8)\n",
    "\n",
    "plt.ylim(0, max(recall + ncrr) + 0.05)\n",
    "plt.tight_layout()\n",
    "plt.show()\n"
   ]
  },
  {
   "cell_type": "code",
   "execution_count": 105,
   "id": "0c381b1c-6074-42c8-87f9-fc385c902dce",
   "metadata": {},
   "outputs": [
    {
     "data": {
      "image/png": "[encoded data removed]",
      "text/plain": [
       "<Figure size 800x500 with 1 Axes>"
      ]
     },
     "metadata": {},
     "output_type": "display_data"
    }
   ],
   "source": [
    "import numpy as np\n",
    "import matplotlib.pyplot as plt\n",
    "\n",
    "models = ['EASE', 'BPR', 'WMF', 'MF']\n",
    "diversity = [0.5770, 0.2490, 0.3270, 0.3990]  # proportions\n",
    "\n",
    "# Convert to percentages\n",
    "div_pct = [d * 100 for d in diversity]\n",
    "\n",
    "fig, ax = plt.subplots(figsize=(8, 5))\n",
    "bars = ax.bar(models, div_pct, color='#1f77b4')\n",
    "\n",
    "ax.set_ylim(0, max(div_pct) + 10)\n",
    "ax.set_ylabel('Same Main Cat but Different Sub Cat (%)')\n",
    "ax.set_title('Intra‑Category Diversity Across Models')\n",
    "\n",
    "# Add value annotation on each bar\n",
    "for bar in bars:\n",
    "    height = bar.get_height()\n",
    "    ax.annotate(f'{height:.1f}%', xy=(bar.get_x() + bar.get_width() / 2, height),\n",
    "                xytext=(0, 3), textcoords='offset points',\n",
    "                ha='center', va='bottom', fontsize=10)\n",
    "\n",
    "plt.tight_layout()\n",
    "plt.show()\n"
   ]
  },
  {
   "cell_type": "code",
   "execution_count": null,
   "id": "a50f551f-7ef5-453a-816a-f6e99eabc486",
   "metadata": {},
   "outputs": [],
   "source": []
  }
 ],
 "metadata": {
  "kernelspec": {
   "display_name": "Python 3 (ipykernel)",
   "language": "python",
   "name": "python3"
  },
  "language_info": {
   "codemirror_mode": {
    "name": "ipython",
    "version": 3
   },
   "file_extension": ".py",
   "mimetype": "text/x-python",
   "name": "python",
   "nbconvert_exporter": "python",
   "pygments_lexer": "ipython3",
   "version": "3.12.7"
  }
 },
 "nbformat": 4,
 "nbformat_minor": 5
}
