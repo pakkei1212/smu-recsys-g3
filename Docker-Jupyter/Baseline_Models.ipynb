{
 "cells": [
  {
   "cell_type": "markdown",
   "id": "c33f80d8-d1a2-4f98-bfa9-6252f374e9fa",
   "metadata": {},
   "source": [
    "https://amazon-reviews-2023.github.io/"
   ]
  },
  {
   "cell_type": "code",
   "execution_count": 1,
   "id": "0bc27c3b-8820-4ef6-8074-e25fee81255e",
   "metadata": {},
   "outputs": [
    {
     "name": "stderr",
     "output_type": "stream",
     "text": [
      "/usr/local/lib/python3.12/site-packages/tqdm/auto.py:21: TqdmWarning: IProgress not found. Please update jupyter and ipywidgets. See https://ipywidgets.readthedocs.io/en/stable/user_install.html\n",
      "  from .autonotebook import tqdm as notebook_tqdm\n"
     ]
    },
    {
     "name": "stdout",
     "output_type": "stream",
     "text": [
      "System version: 3.12.11 (main, Aug 12 2025, 22:46:48) [GCC 14.2.0]\n",
      "Cornac version: 2.3.3\n"
     ]
    }
   ],
   "source": [
    "import os\n",
    "import sys\n",
    "import itertools\n",
    "\n",
    "import scipy.sparse as sp\n",
    "import numpy as np\n",
    "import pandas as pd\n",
    "\n",
    "import cornac\n",
    "from cornac.eval_methods import RatioSplit, BaseMethod, StratifiedSplit\n",
    "from cornac.metrics import FMeasure, RMSE, NCRR, NDCG, Precision, Recall\n",
    "from cornac.models import BaselineOnly, MF, NMF, BPR, WMF, EASE\n",
    "\n",
    "import optuna\n",
    "\n",
    "from datetime import datetime\n",
    "import random\n",
    "\n",
    "import matplotlib.pyplot as plt\n",
    "import pickle\n",
    "import builtins\n",
    "\n",
    "print(f\"System version: {sys.version}\")\n",
    "print(f\"Cornac version: {cornac.__version__}\")\n",
    "\n",
    "SEED = 42\n",
    "VERBOSE = False\n",
    "TOP_X = 50"
   ]
  },
  {
   "cell_type": "code",
   "execution_count": 3,
   "id": "d7b05c7d-5fd8-405c-b228-e9999cfa1f3c",
   "metadata": {},
   "outputs": [],
   "source": [
    "raw_data = pd.read_parquet('data/5_category_final_table_(767,684 rows).parquet')"
   ]
  },
  {
   "cell_type": "code",
   "execution_count": 4,
   "id": "5da1409e-966c-47f2-aa60-42a940e155e2",
   "metadata": {},
   "outputs": [],
   "source": [
    "full_df = raw_data.copy()"
   ]
  },
  {
   "cell_type": "code",
   "execution_count": 5,
   "id": "3ca50107-107a-44b1-a7fd-0c7833dbf81d",
   "metadata": {},
   "outputs": [
    {
     "name": "stdout",
     "output_type": "stream",
     "text": [
      "584\n"
     ]
    }
   ],
   "source": [
    "print(len(full_df['parent_asin'].unique()))"
   ]
  },
  {
   "cell_type": "markdown",
   "id": "d1c93852-2569-4e11-a2a4-6c4712c6b9f1",
   "metadata": {},
   "source": [
    "# Data Analysis"
   ]
  },
  {
   "cell_type": "code",
   "execution_count": 6,
   "id": "63f5460b-20f6-4edf-81e5-87bd5c04a946",
   "metadata": {},
   "outputs": [
    {
     "name": "stdout",
     "output_type": "stream",
     "text": [
      "<class 'pandas.core.frame.DataFrame'>\n",
      "RangeIndex: 767684 entries, 0 to 767683\n",
      "Data columns (total 21 columns):\n",
      " #   Column                  Non-Null Count   Dtype              \n",
      "---  ------                  --------------   -----              \n",
      " 0   rating                  767684 non-null  int32              \n",
      " 1   title_review            767623 non-null  object             \n",
      " 2   text                    767277 non-null  object             \n",
      " 3   parent_asin             767684 non-null  object             \n",
      " 4   user_id                 767684 non-null  object             \n",
      " 5   helpful_vote            767684 non-null  int64              \n",
      " 6   title_meta              767684 non-null  object             \n",
      " 7   price                   675350 non-null  float64            \n",
      " 8   store                   760314 non-null  object             \n",
      " 9   features_clean          767684 non-null  object             \n",
      " 10  description_clean       767684 non-null  object             \n",
      " 11  timestamp_utc           767684 non-null  datetime64[ns, UTC]\n",
      " 12  category_depth          767684 non-null  int64              \n",
      " 13  verified_purchase_flag  767684 non-null  int64              \n",
      " 14  cat_1                   767684 non-null  object             \n",
      " 15  cat_2                   767684 non-null  object             \n",
      " 16  cat_3                   767684 non-null  object             \n",
      " 17  cat_4                   767684 non-null  object             \n",
      " 18  price_log               675350 non-null  float64            \n",
      " 19  helpful_vote_clipped    767684 non-null  int64              \n",
      " 20  avg_rating_parent       767684 non-null  float64            \n",
      "dtypes: datetime64[ns, UTC](1), float64(3), int32(1), int64(4), object(12)\n",
      "memory usage: 120.1+ MB\n"
     ]
    }
   ],
   "source": [
    "full_df.info()"
   ]
  },
  {
   "cell_type": "code",
   "execution_count": 7,
   "id": "8692c13e-dfaa-4024-9931-a87dc4fdeaf5",
   "metadata": {},
   "outputs": [
    {
     "data": {
      "text/html": [
       "<div>\n",
       "<style scoped>\n",
       "    .dataframe tbody tr th:only-of-type {\n",
       "        vertical-align: middle;\n",
       "    }\n",
       "\n",
       "    .dataframe tbody tr th {\n",
       "        vertical-align: top;\n",
       "    }\n",
       "\n",
       "    .dataframe thead th {\n",
       "        text-align: right;\n",
       "    }\n",
       "</style>\n",
       "<table border=\"1\" class=\"dataframe\">\n",
       "  <thead>\n",
       "    <tr style=\"text-align: right;\">\n",
       "      <th></th>\n",
       "      <th>rating</th>\n",
       "      <th>title_review</th>\n",
       "      <th>text</th>\n",
       "      <th>parent_asin</th>\n",
       "      <th>user_id</th>\n",
       "      <th>helpful_vote</th>\n",
       "      <th>title_meta</th>\n",
       "      <th>price</th>\n",
       "      <th>store</th>\n",
       "      <th>features_clean</th>\n",
       "      <th>...</th>\n",
       "      <th>timestamp_utc</th>\n",
       "      <th>category_depth</th>\n",
       "      <th>verified_purchase_flag</th>\n",
       "      <th>cat_1</th>\n",
       "      <th>cat_2</th>\n",
       "      <th>cat_3</th>\n",
       "      <th>cat_4</th>\n",
       "      <th>price_log</th>\n",
       "      <th>helpful_vote_clipped</th>\n",
       "      <th>avg_rating_parent</th>\n",
       "    </tr>\n",
       "  </thead>\n",
       "  <tbody>\n",
       "    <tr>\n",
       "      <th>0</th>\n",
       "      <td>1</td>\n",
       "      <td>only 1 worked correctly</td>\n",
       "      <td>i ordered this set right before my camping tri...</td>\n",
       "      <td>B09LW2KHPM</td>\n",
       "      <td>AGO25X54UAIXSKHOAH4SG2VUDUNA</td>\n",
       "      <td>1</td>\n",
       "      <td>vont led camping lantern, led lanterns, suitab...</td>\n",
       "      <td>14.38</td>\n",
       "      <td>vont</td>\n",
       "      <td>bright &amp; lasting - equipped with 30 crazy brig...</td>\n",
       "      <td>...</td>\n",
       "      <td>2020-11-11 07:10:55.679000+00:00</td>\n",
       "      <td>6</td>\n",
       "      <td>1</td>\n",
       "      <td>outdoor recreation</td>\n",
       "      <td>camping &amp; hiking</td>\n",
       "      <td>lights &amp; lanterns</td>\n",
       "      <td>lanterns</td>\n",
       "      <td>2.733068</td>\n",
       "      <td>1</td>\n",
       "      <td>4.7</td>\n",
       "    </tr>\n",
       "    <tr>\n",
       "      <th>1</th>\n",
       "      <td>5</td>\n",
       "      <td>lightweight and quiet</td>\n",
       "      <td>this bike is nice and simple. easy to build an...</td>\n",
       "      <td>B0BTDLFXSL</td>\n",
       "      <td>AHGGRLIBAWVH44XAY2QHQOE7S6OQ</td>\n",
       "      <td>0</td>\n",
       "      <td>ativafit exercise bike foldable fitness indoor...</td>\n",
       "      <td>139.99</td>\n",
       "      <td>ativafit</td>\n",
       "      <td>digital monitor shows your data - monitor your...</td>\n",
       "      <td>...</td>\n",
       "      <td>2020-05-17 22:40:46.636000+00:00</td>\n",
       "      <td>4</td>\n",
       "      <td>1</td>\n",
       "      <td>exercise &amp; fitness</td>\n",
       "      <td>cardio training</td>\n",
       "      <td>exercise bikes</td>\n",
       "      <td>exercise bikes</td>\n",
       "      <td>4.948689</td>\n",
       "      <td>0</td>\n",
       "      <td>4.3</td>\n",
       "    </tr>\n",
       "    <tr>\n",
       "      <th>2</th>\n",
       "      <td>5</td>\n",
       "      <td>great little tent</td>\n",
       "      <td>i love the  alps tent. it is light, super easy...</td>\n",
       "      <td>B09W4W9JB5</td>\n",
       "      <td>AGOSUQAEYTC5A6YDIJ7X5ZFAOSIQ</td>\n",
       "      <td>0</td>\n",
       "      <td>alps mountaineering lynx 1-person backpacking ...</td>\n",
       "      <td>109.99</td>\n",
       "      <td>alps mountaineering</td>\n",
       "      <td>100% polyester imported great backpacking tent</td>\n",
       "      <td>...</td>\n",
       "      <td>2019-09-01 01:46:16.061000+00:00</td>\n",
       "      <td>5</td>\n",
       "      <td>0</td>\n",
       "      <td>outdoor recreation</td>\n",
       "      <td>camping &amp; hiking</td>\n",
       "      <td>tents &amp; shelters</td>\n",
       "      <td>tents</td>\n",
       "      <td>4.709440</td>\n",
       "      <td>0</td>\n",
       "      <td>4.7</td>\n",
       "    </tr>\n",
       "    <tr>\n",
       "      <th>3</th>\n",
       "      <td>5</td>\n",
       "      <td>very cute</td>\n",
       "      <td>bought this for my son’s birthday, super cute ...</td>\n",
       "      <td>B07Z6Y87XH</td>\n",
       "      <td>AEGEQO4R6APZMUYEYT2VGJ3BKKAQ</td>\n",
       "      <td>0</td>\n",
       "      <td>raskullz mohawk toddler 3+ and child 5+ helmets</td>\n",
       "      <td>35.49</td>\n",
       "      <td>raskullz</td>\n",
       "      <td>design - kids love the red bendable 3d rubber ...</td>\n",
       "      <td>...</td>\n",
       "      <td>2020-11-16 19:07:19.645000+00:00</td>\n",
       "      <td>5</td>\n",
       "      <td>1</td>\n",
       "      <td>sports</td>\n",
       "      <td>cycling</td>\n",
       "      <td>kids' bikes &amp; accessories</td>\n",
       "      <td>kids' helmets</td>\n",
       "      <td>3.597038</td>\n",
       "      <td>0</td>\n",
       "      <td>4.7</td>\n",
       "    </tr>\n",
       "    <tr>\n",
       "      <th>4</th>\n",
       "      <td>5</td>\n",
       "      <td>my pooches love it!</td>\n",
       "      <td>we purchased this two person tent for our dogs...</td>\n",
       "      <td>B09HRDWXCK</td>\n",
       "      <td>AEDAZ44DKSCBHMY4VOCU6Z7DWM7A</td>\n",
       "      <td>3</td>\n",
       "      <td>2-person camping tent – includes rain fly and ...</td>\n",
       "      <td>45.94</td>\n",
       "      <td>wakeman</td>\n",
       "      <td>100% polyester imported 2 person tent – this l...</td>\n",
       "      <td>...</td>\n",
       "      <td>2016-02-24 17:58:45+00:00</td>\n",
       "      <td>5</td>\n",
       "      <td>1</td>\n",
       "      <td>outdoor recreation</td>\n",
       "      <td>camping &amp; hiking</td>\n",
       "      <td>tents &amp; shelters</td>\n",
       "      <td>tents</td>\n",
       "      <td>3.848870</td>\n",
       "      <td>3</td>\n",
       "      <td>3.6</td>\n",
       "    </tr>\n",
       "  </tbody>\n",
       "</table>\n",
       "<p>5 rows × 21 columns</p>\n",
       "</div>"
      ],
      "text/plain": [
       "   rating             title_review  \\\n",
       "0       1  only 1 worked correctly   \n",
       "1       5    lightweight and quiet   \n",
       "2       5        great little tent   \n",
       "3       5                very cute   \n",
       "4       5      my pooches love it!   \n",
       "\n",
       "                                                text parent_asin  \\\n",
       "0  i ordered this set right before my camping tri...  B09LW2KHPM   \n",
       "1  this bike is nice and simple. easy to build an...  B0BTDLFXSL   \n",
       "2  i love the  alps tent. it is light, super easy...  B09W4W9JB5   \n",
       "3  bought this for my son’s birthday, super cute ...  B07Z6Y87XH   \n",
       "4  we purchased this two person tent for our dogs...  B09HRDWXCK   \n",
       "\n",
       "                        user_id  helpful_vote  \\\n",
       "0  AGO25X54UAIXSKHOAH4SG2VUDUNA             1   \n",
       "1  AHGGRLIBAWVH44XAY2QHQOE7S6OQ             0   \n",
       "2  AGOSUQAEYTC5A6YDIJ7X5ZFAOSIQ             0   \n",
       "3  AEGEQO4R6APZMUYEYT2VGJ3BKKAQ             0   \n",
       "4  AEDAZ44DKSCBHMY4VOCU6Z7DWM7A             3   \n",
       "\n",
       "                                          title_meta   price  \\\n",
       "0  vont led camping lantern, led lanterns, suitab...   14.38   \n",
       "1  ativafit exercise bike foldable fitness indoor...  139.99   \n",
       "2  alps mountaineering lynx 1-person backpacking ...  109.99   \n",
       "3    raskullz mohawk toddler 3+ and child 5+ helmets   35.49   \n",
       "4  2-person camping tent – includes rain fly and ...   45.94   \n",
       "\n",
       "                 store                                     features_clean  \\\n",
       "0                 vont  bright & lasting - equipped with 30 crazy brig...   \n",
       "1             ativafit  digital monitor shows your data - monitor your...   \n",
       "2  alps mountaineering     100% polyester imported great backpacking tent   \n",
       "3             raskullz  design - kids love the red bendable 3d rubber ...   \n",
       "4              wakeman  100% polyester imported 2 person tent – this l...   \n",
       "\n",
       "   ...                    timestamp_utc category_depth  \\\n",
       "0  ... 2020-11-11 07:10:55.679000+00:00              6   \n",
       "1  ... 2020-05-17 22:40:46.636000+00:00              4   \n",
       "2  ... 2019-09-01 01:46:16.061000+00:00              5   \n",
       "3  ... 2020-11-16 19:07:19.645000+00:00              5   \n",
       "4  ...        2016-02-24 17:58:45+00:00              5   \n",
       "\n",
       "   verified_purchase_flag               cat_1             cat_2  \\\n",
       "0                       1  outdoor recreation  camping & hiking   \n",
       "1                       1  exercise & fitness   cardio training   \n",
       "2                       0  outdoor recreation  camping & hiking   \n",
       "3                       1              sports           cycling   \n",
       "4                       1  outdoor recreation  camping & hiking   \n",
       "\n",
       "                       cat_3           cat_4 price_log  helpful_vote_clipped  \\\n",
       "0          lights & lanterns        lanterns  2.733068                     1   \n",
       "1             exercise bikes  exercise bikes  4.948689                     0   \n",
       "2           tents & shelters           tents  4.709440                     0   \n",
       "3  kids' bikes & accessories   kids' helmets  3.597038                     0   \n",
       "4           tents & shelters           tents  3.848870                     3   \n",
       "\n",
       "   avg_rating_parent  \n",
       "0                4.7  \n",
       "1                4.3  \n",
       "2                4.7  \n",
       "3                4.7  \n",
       "4                3.6  \n",
       "\n",
       "[5 rows x 21 columns]"
      ]
     },
     "execution_count": 7,
     "metadata": {},
     "output_type": "execute_result"
    }
   ],
   "source": [
    "full_df.head()"
   ]
  },
  {
   "cell_type": "code",
   "execution_count": 8,
   "id": "b0861b04-b202-4654-b7f8-6f3352624312",
   "metadata": {},
   "outputs": [
    {
     "name": "stdout",
     "output_type": "stream",
     "text": [
      "Count of unique user id in train: 649151\n",
      "Count of unique item id in train: 584\n"
     ]
    }
   ],
   "source": [
    "print(f\"Count of unique user id in train: {len(full_df['user_id'].unique())}\")\n",
    "print(f\"Count of unique item id in train: {len(full_df['parent_asin'].unique())}\")"
   ]
  },
  {
   "cell_type": "code",
   "execution_count": 9,
   "id": "3cbf559c-e182-449e-811b-2e1c23998123",
   "metadata": {},
   "outputs": [
    {
     "data": {
      "text/html": [
       "<div>\n",
       "<style scoped>\n",
       "    .dataframe tbody tr th:only-of-type {\n",
       "        vertical-align: middle;\n",
       "    }\n",
       "\n",
       "    .dataframe tbody tr th {\n",
       "        vertical-align: top;\n",
       "    }\n",
       "\n",
       "    .dataframe thead th {\n",
       "        text-align: right;\n",
       "    }\n",
       "</style>\n",
       "<table border=\"1\" class=\"dataframe\">\n",
       "  <thead>\n",
       "    <tr style=\"text-align: right;\">\n",
       "      <th>verified_purchase_flag</th>\n",
       "      <th>0</th>\n",
       "      <th>1</th>\n",
       "    </tr>\n",
       "    <tr>\n",
       "      <th>rating</th>\n",
       "      <th></th>\n",
       "      <th></th>\n",
       "    </tr>\n",
       "  </thead>\n",
       "  <tbody>\n",
       "    <tr>\n",
       "      <th>1</th>\n",
       "      <td>5748</td>\n",
       "      <td>50862</td>\n",
       "    </tr>\n",
       "    <tr>\n",
       "      <th>2</th>\n",
       "      <td>3097</td>\n",
       "      <td>29952</td>\n",
       "    </tr>\n",
       "    <tr>\n",
       "      <th>3</th>\n",
       "      <td>3376</td>\n",
       "      <td>45165</td>\n",
       "    </tr>\n",
       "    <tr>\n",
       "      <th>4</th>\n",
       "      <td>6175</td>\n",
       "      <td>94818</td>\n",
       "    </tr>\n",
       "    <tr>\n",
       "      <th>5</th>\n",
       "      <td>27083</td>\n",
       "      <td>501408</td>\n",
       "    </tr>\n",
       "  </tbody>\n",
       "</table>\n",
       "</div>"
      ],
      "text/plain": [
       "verified_purchase_flag      0       1\n",
       "rating                               \n",
       "1                        5748   50862\n",
       "2                        3097   29952\n",
       "3                        3376   45165\n",
       "4                        6175   94818\n",
       "5                       27083  501408"
      ]
     },
     "execution_count": 9,
     "metadata": {},
     "output_type": "execute_result"
    }
   ],
   "source": [
    "pd.crosstab(full_df['rating'], full_df['verified_purchase_flag'])"
   ]
  },
  {
   "cell_type": "code",
   "execution_count": 10,
   "id": "92c2751c-72b6-46bb-bb8b-2575cd466b54",
   "metadata": {},
   "outputs": [
    {
     "data": {
      "text/html": [
       "<div>\n",
       "<style scoped>\n",
       "    .dataframe tbody tr th:only-of-type {\n",
       "        vertical-align: middle;\n",
       "    }\n",
       "\n",
       "    .dataframe tbody tr th {\n",
       "        vertical-align: top;\n",
       "    }\n",
       "\n",
       "    .dataframe thead th {\n",
       "        text-align: right;\n",
       "    }\n",
       "</style>\n",
       "<table border=\"1\" class=\"dataframe\">\n",
       "  <thead>\n",
       "    <tr style=\"text-align: right;\">\n",
       "      <th>helpful_vote_clipped</th>\n",
       "      <th>0</th>\n",
       "      <th>1</th>\n",
       "      <th>2</th>\n",
       "      <th>3</th>\n",
       "      <th>4</th>\n",
       "      <th>5</th>\n",
       "    </tr>\n",
       "    <tr>\n",
       "      <th>rating</th>\n",
       "      <th></th>\n",
       "      <th></th>\n",
       "      <th></th>\n",
       "      <th></th>\n",
       "      <th></th>\n",
       "      <th></th>\n",
       "    </tr>\n",
       "  </thead>\n",
       "  <tbody>\n",
       "    <tr>\n",
       "      <th>1</th>\n",
       "      <td>30523</td>\n",
       "      <td>11730</td>\n",
       "      <td>4751</td>\n",
       "      <td>2402</td>\n",
       "      <td>1480</td>\n",
       "      <td>5724</td>\n",
       "    </tr>\n",
       "    <tr>\n",
       "      <th>2</th>\n",
       "      <td>23067</td>\n",
       "      <td>5813</td>\n",
       "      <td>1682</td>\n",
       "      <td>732</td>\n",
       "      <td>440</td>\n",
       "      <td>1315</td>\n",
       "    </tr>\n",
       "    <tr>\n",
       "      <th>3</th>\n",
       "      <td>35453</td>\n",
       "      <td>7370</td>\n",
       "      <td>2197</td>\n",
       "      <td>1025</td>\n",
       "      <td>568</td>\n",
       "      <td>1928</td>\n",
       "    </tr>\n",
       "    <tr>\n",
       "      <th>4</th>\n",
       "      <td>79757</td>\n",
       "      <td>11895</td>\n",
       "      <td>3417</td>\n",
       "      <td>1504</td>\n",
       "      <td>886</td>\n",
       "      <td>3534</td>\n",
       "    </tr>\n",
       "    <tr>\n",
       "      <th>5</th>\n",
       "      <td>449449</td>\n",
       "      <td>47833</td>\n",
       "      <td>11926</td>\n",
       "      <td>4990</td>\n",
       "      <td>2493</td>\n",
       "      <td>11800</td>\n",
       "    </tr>\n",
       "  </tbody>\n",
       "</table>\n",
       "</div>"
      ],
      "text/plain": [
       "helpful_vote_clipped       0      1      2     3     4      5\n",
       "rating                                                       \n",
       "1                      30523  11730   4751  2402  1480   5724\n",
       "2                      23067   5813   1682   732   440   1315\n",
       "3                      35453   7370   2197  1025   568   1928\n",
       "4                      79757  11895   3417  1504   886   3534\n",
       "5                     449449  47833  11926  4990  2493  11800"
      ]
     },
     "execution_count": 10,
     "metadata": {},
     "output_type": "execute_result"
    }
   ],
   "source": [
    "pd.crosstab(full_df['rating'], full_df['helpful_vote_clipped'])"
   ]
  },
  {
   "cell_type": "code",
   "execution_count": 11,
   "id": "e4cbb6e9-1a55-4ef4-9695-8f258630e74f",
   "metadata": {},
   "outputs": [
    {
     "name": "stdout",
     "output_type": "stream",
     "text": [
      "Threshold >= 5.0: 462064 users with at least 1 relevant item\n",
      "Threshold >= 4.0: 540231 users with at least 1 relevant item\n",
      "Threshold >= 3.0: 577261 users with at least 1 relevant item\n",
      "Threshold >= 2.0: 603297 users with at least 1 relevant item\n",
      "Threshold >= 1.0: 649151 users with at least 1 relevant item\n"
     ]
    }
   ],
   "source": [
    "for t in [5.0, 4.0, 3.0, 2.0, 1.0]:\n",
    "    pos_users = full_df[full_df['rating'] >= t]['user_id'].nunique()\n",
    "    print(f\"Threshold >= {t}: {pos_users} users with at least 1 relevant item\")"
   ]
  },
  {
   "cell_type": "code",
   "execution_count": 12,
   "id": "92f0117d-0277-4266-a059-d479f644c241",
   "metadata": {},
   "outputs": [
    {
     "name": "stdout",
     "output_type": "stream",
     "text": [
      "Sparsity: 0.9980 (99.80%)\n"
     ]
    }
   ],
   "source": [
    "# Number of non-zero entries (observed interactions)\n",
    "num_interactions = len(full_df['rating'])\n",
    "\n",
    "# Total possible entries\n",
    "total_entries = len(full_df['user_id'].unique()) * len(full_df['parent_asin'].unique())\n",
    "\n",
    "# Sparsity\n",
    "sparsity = 1 - (num_interactions / total_entries)\n",
    "\n",
    "print(f\"Sparsity: {sparsity:.4f} ({sparsity*100:.2f}%)\")"
   ]
  },
  {
   "cell_type": "markdown",
   "id": "cef2f001-c190-443f-b5c3-04f3aea82d8d",
   "metadata": {},
   "source": [
    "# Create Item Dataset"
   ]
  },
  {
   "cell_type": "code",
   "execution_count": 13,
   "id": "f8da7ac0-4bae-455c-a914-57a6147c0efb",
   "metadata": {},
   "outputs": [
    {
     "data": {
      "text/html": [
       "<div>\n",
       "<style scoped>\n",
       "    .dataframe tbody tr th:only-of-type {\n",
       "        vertical-align: middle;\n",
       "    }\n",
       "\n",
       "    .dataframe tbody tr th {\n",
       "        vertical-align: top;\n",
       "    }\n",
       "\n",
       "    .dataframe thead th {\n",
       "        text-align: right;\n",
       "    }\n",
       "</style>\n",
       "<table border=\"1\" class=\"dataframe\">\n",
       "  <thead>\n",
       "    <tr style=\"text-align: right;\">\n",
       "      <th></th>\n",
       "      <th>parent_asin</th>\n",
       "      <th>cat_2</th>\n",
       "      <th>cat_4</th>\n",
       "    </tr>\n",
       "  </thead>\n",
       "  <tbody>\n",
       "    <tr>\n",
       "      <th>0</th>\n",
       "      <td>B09LW2KHPM</td>\n",
       "      <td>camping &amp; hiking</td>\n",
       "      <td>lanterns</td>\n",
       "    </tr>\n",
       "    <tr>\n",
       "      <th>1</th>\n",
       "      <td>B0BTDLFXSL</td>\n",
       "      <td>cardio training</td>\n",
       "      <td>exercise bikes</td>\n",
       "    </tr>\n",
       "    <tr>\n",
       "      <th>2</th>\n",
       "      <td>B09W4W9JB5</td>\n",
       "      <td>camping &amp; hiking</td>\n",
       "      <td>tents</td>\n",
       "    </tr>\n",
       "    <tr>\n",
       "      <th>3</th>\n",
       "      <td>B07Z6Y87XH</td>\n",
       "      <td>cycling</td>\n",
       "      <td>kids' helmets</td>\n",
       "    </tr>\n",
       "    <tr>\n",
       "      <th>4</th>\n",
       "      <td>B09HRDWXCK</td>\n",
       "      <td>camping &amp; hiking</td>\n",
       "      <td>tents</td>\n",
       "    </tr>\n",
       "  </tbody>\n",
       "</table>\n",
       "</div>"
      ],
      "text/plain": [
       "  parent_asin             cat_2           cat_4\n",
       "0  B09LW2KHPM  camping & hiking        lanterns\n",
       "1  B0BTDLFXSL   cardio training  exercise bikes\n",
       "2  B09W4W9JB5  camping & hiking           tents\n",
       "3  B07Z6Y87XH           cycling   kids' helmets\n",
       "4  B09HRDWXCK  camping & hiking           tents"
      ]
     },
     "execution_count": 13,
     "metadata": {},
     "output_type": "execute_result"
    }
   ],
   "source": [
    "# Restore a Item dateset\n",
    "items_df = full_df[['parent_asin', 'cat_2', 'cat_4']].drop_duplicates().reset_index(drop=True)\n",
    "items_df.head()"
   ]
  },
  {
   "cell_type": "markdown",
   "id": "821d3904-c331-482b-8422-65adb8a611c5",
   "metadata": {},
   "source": [
    "# Create Interacted Dataset"
   ]
  },
  {
   "cell_type": "code",
   "execution_count": 14,
   "id": "0b5bb40c-8b3e-4552-82c6-dfa101c56116",
   "metadata": {},
   "outputs": [
    {
     "data": {
      "text/html": [
       "<div>\n",
       "<style scoped>\n",
       "    .dataframe tbody tr th:only-of-type {\n",
       "        vertical-align: middle;\n",
       "    }\n",
       "\n",
       "    .dataframe tbody tr th {\n",
       "        vertical-align: top;\n",
       "    }\n",
       "\n",
       "    .dataframe thead th {\n",
       "        text-align: right;\n",
       "    }\n",
       "</style>\n",
       "<table border=\"1\" class=\"dataframe\">\n",
       "  <thead>\n",
       "    <tr style=\"text-align: right;\">\n",
       "      <th></th>\n",
       "      <th>user_id</th>\n",
       "      <th>parent_asin</th>\n",
       "      <th>cat_2</th>\n",
       "      <th>cat_4</th>\n",
       "    </tr>\n",
       "  </thead>\n",
       "  <tbody>\n",
       "    <tr>\n",
       "      <th>0</th>\n",
       "      <td>AGO25X54UAIXSKHOAH4SG2VUDUNA</td>\n",
       "      <td>B09LW2KHPM</td>\n",
       "      <td>camping &amp; hiking</td>\n",
       "      <td>lanterns</td>\n",
       "    </tr>\n",
       "    <tr>\n",
       "      <th>1</th>\n",
       "      <td>AHGGRLIBAWVH44XAY2QHQOE7S6OQ</td>\n",
       "      <td>B0BTDLFXSL</td>\n",
       "      <td>cardio training</td>\n",
       "      <td>exercise bikes</td>\n",
       "    </tr>\n",
       "    <tr>\n",
       "      <th>2</th>\n",
       "      <td>AGOSUQAEYTC5A6YDIJ7X5ZFAOSIQ</td>\n",
       "      <td>B09W4W9JB5</td>\n",
       "      <td>camping &amp; hiking</td>\n",
       "      <td>tents</td>\n",
       "    </tr>\n",
       "    <tr>\n",
       "      <th>3</th>\n",
       "      <td>AEGEQO4R6APZMUYEYT2VGJ3BKKAQ</td>\n",
       "      <td>B07Z6Y87XH</td>\n",
       "      <td>cycling</td>\n",
       "      <td>kids' helmets</td>\n",
       "    </tr>\n",
       "    <tr>\n",
       "      <th>4</th>\n",
       "      <td>AEDAZ44DKSCBHMY4VOCU6Z7DWM7A</td>\n",
       "      <td>B09HRDWXCK</td>\n",
       "      <td>camping &amp; hiking</td>\n",
       "      <td>tents</td>\n",
       "    </tr>\n",
       "  </tbody>\n",
       "</table>\n",
       "</div>"
      ],
      "text/plain": [
       "                        user_id parent_asin             cat_2           cat_4\n",
       "0  AGO25X54UAIXSKHOAH4SG2VUDUNA  B09LW2KHPM  camping & hiking        lanterns\n",
       "1  AHGGRLIBAWVH44XAY2QHQOE7S6OQ  B0BTDLFXSL   cardio training  exercise bikes\n",
       "2  AGOSUQAEYTC5A6YDIJ7X5ZFAOSIQ  B09W4W9JB5  camping & hiking           tents\n",
       "3  AEGEQO4R6APZMUYEYT2VGJ3BKKAQ  B07Z6Y87XH           cycling   kids' helmets\n",
       "4  AEDAZ44DKSCBHMY4VOCU6Z7DWM7A  B09HRDWXCK  camping & hiking           tents"
      ]
     },
     "execution_count": 14,
     "metadata": {},
     "output_type": "execute_result"
    }
   ],
   "source": [
    "# Create a Interacted Dataset\n",
    "interacted_df = full_df[['user_id', 'parent_asin','cat_2', 'cat_4']]\n",
    "interacted_df.head()"
   ]
  },
  {
   "cell_type": "markdown",
   "id": "affa25d5-7075-486f-ae1d-e389fe100810",
   "metadata": {},
   "source": [
    "# Create UIR Dataset"
   ]
  },
  {
   "cell_type": "code",
   "execution_count": 15,
   "id": "860d72dc-bc01-4a97-b2a8-fa7479933f76",
   "metadata": {},
   "outputs": [
    {
     "name": "stderr",
     "output_type": "stream",
     "text": [
      "/usr/local/lib/python3.12/site-packages/cornac/data/dataset.py:335: UserWarning: 1698 duplicated observations are removed!\n",
      "  warnings.warn(\"%d duplicated observations are removed!\" % dup_count)\n"
     ]
    },
    {
     "data": {
      "text/html": [
       "<div>\n",
       "<style scoped>\n",
       "    .dataframe tbody tr th:only-of-type {\n",
       "        vertical-align: middle;\n",
       "    }\n",
       "\n",
       "    .dataframe tbody tr th {\n",
       "        vertical-align: top;\n",
       "    }\n",
       "\n",
       "    .dataframe thead th {\n",
       "        text-align: right;\n",
       "    }\n",
       "</style>\n",
       "<table border=\"1\" class=\"dataframe\">\n",
       "  <thead>\n",
       "    <tr style=\"text-align: right;\">\n",
       "      <th></th>\n",
       "      <th>Item B09LW2KHPM</th>\n",
       "      <th>Item B0BTDLFXSL</th>\n",
       "      <th>Item B09W4W9JB5</th>\n",
       "      <th>Item B07Z6Y87XH</th>\n",
       "      <th>Item B09HRDWXCK</th>\n",
       "      <th>Item B000KC009Y</th>\n",
       "      <th>Item B0C6H9K5NF</th>\n",
       "      <th>Item B00INQVYZ8</th>\n",
       "      <th>Item B078FHD1ZH</th>\n",
       "      <th>Item B0855B4QZR</th>\n",
       "      <th>...</th>\n",
       "      <th>Item B0C6KP8SRQ</th>\n",
       "      <th>Item B0B829WR28</th>\n",
       "      <th>Item B0C1BD44L9</th>\n",
       "      <th>Item B0864RK56W</th>\n",
       "      <th>Item B07RHPQ3FW</th>\n",
       "      <th>Item B0917VV12K</th>\n",
       "      <th>Item B0B4M6Z2GH</th>\n",
       "      <th>Item B00H90PFOK</th>\n",
       "      <th>Item B07BM1RK7K</th>\n",
       "      <th>Item B077KGFWJ9</th>\n",
       "    </tr>\n",
       "  </thead>\n",
       "  <tbody>\n",
       "    <tr>\n",
       "      <th>User AGO25X54UAIXSKHOAH4SG2VUDUNA</th>\n",
       "      <td>1.0</td>\n",
       "      <td>NaN</td>\n",
       "      <td>NaN</td>\n",
       "      <td>NaN</td>\n",
       "      <td>NaN</td>\n",
       "      <td>NaN</td>\n",
       "      <td>NaN</td>\n",
       "      <td>NaN</td>\n",
       "      <td>NaN</td>\n",
       "      <td>NaN</td>\n",
       "      <td>...</td>\n",
       "      <td>NaN</td>\n",
       "      <td>NaN</td>\n",
       "      <td>NaN</td>\n",
       "      <td>NaN</td>\n",
       "      <td>NaN</td>\n",
       "      <td>NaN</td>\n",
       "      <td>NaN</td>\n",
       "      <td>NaN</td>\n",
       "      <td>NaN</td>\n",
       "      <td>NaN</td>\n",
       "    </tr>\n",
       "    <tr>\n",
       "      <th>User AHGGRLIBAWVH44XAY2QHQOE7S6OQ</th>\n",
       "      <td>NaN</td>\n",
       "      <td>5.0</td>\n",
       "      <td>NaN</td>\n",
       "      <td>NaN</td>\n",
       "      <td>NaN</td>\n",
       "      <td>NaN</td>\n",
       "      <td>NaN</td>\n",
       "      <td>NaN</td>\n",
       "      <td>NaN</td>\n",
       "      <td>NaN</td>\n",
       "      <td>...</td>\n",
       "      <td>NaN</td>\n",
       "      <td>NaN</td>\n",
       "      <td>NaN</td>\n",
       "      <td>NaN</td>\n",
       "      <td>NaN</td>\n",
       "      <td>NaN</td>\n",
       "      <td>NaN</td>\n",
       "      <td>NaN</td>\n",
       "      <td>NaN</td>\n",
       "      <td>NaN</td>\n",
       "    </tr>\n",
       "    <tr>\n",
       "      <th>User AGOSUQAEYTC5A6YDIJ7X5ZFAOSIQ</th>\n",
       "      <td>NaN</td>\n",
       "      <td>NaN</td>\n",
       "      <td>5.0</td>\n",
       "      <td>NaN</td>\n",
       "      <td>NaN</td>\n",
       "      <td>NaN</td>\n",
       "      <td>NaN</td>\n",
       "      <td>NaN</td>\n",
       "      <td>NaN</td>\n",
       "      <td>NaN</td>\n",
       "      <td>...</td>\n",
       "      <td>NaN</td>\n",
       "      <td>NaN</td>\n",
       "      <td>NaN</td>\n",
       "      <td>NaN</td>\n",
       "      <td>NaN</td>\n",
       "      <td>NaN</td>\n",
       "      <td>NaN</td>\n",
       "      <td>NaN</td>\n",
       "      <td>NaN</td>\n",
       "      <td>NaN</td>\n",
       "    </tr>\n",
       "    <tr>\n",
       "      <th>User AEGEQO4R6APZMUYEYT2VGJ3BKKAQ</th>\n",
       "      <td>NaN</td>\n",
       "      <td>NaN</td>\n",
       "      <td>NaN</td>\n",
       "      <td>5.0</td>\n",
       "      <td>NaN</td>\n",
       "      <td>NaN</td>\n",
       "      <td>NaN</td>\n",
       "      <td>NaN</td>\n",
       "      <td>NaN</td>\n",
       "      <td>NaN</td>\n",
       "      <td>...</td>\n",
       "      <td>NaN</td>\n",
       "      <td>NaN</td>\n",
       "      <td>NaN</td>\n",
       "      <td>NaN</td>\n",
       "      <td>NaN</td>\n",
       "      <td>NaN</td>\n",
       "      <td>NaN</td>\n",
       "      <td>NaN</td>\n",
       "      <td>NaN</td>\n",
       "      <td>NaN</td>\n",
       "    </tr>\n",
       "    <tr>\n",
       "      <th>User AEDAZ44DKSCBHMY4VOCU6Z7DWM7A</th>\n",
       "      <td>NaN</td>\n",
       "      <td>NaN</td>\n",
       "      <td>NaN</td>\n",
       "      <td>NaN</td>\n",
       "      <td>5.0</td>\n",
       "      <td>NaN</td>\n",
       "      <td>NaN</td>\n",
       "      <td>NaN</td>\n",
       "      <td>NaN</td>\n",
       "      <td>NaN</td>\n",
       "      <td>...</td>\n",
       "      <td>NaN</td>\n",
       "      <td>NaN</td>\n",
       "      <td>NaN</td>\n",
       "      <td>NaN</td>\n",
       "      <td>NaN</td>\n",
       "      <td>NaN</td>\n",
       "      <td>NaN</td>\n",
       "      <td>NaN</td>\n",
       "      <td>NaN</td>\n",
       "      <td>NaN</td>\n",
       "    </tr>\n",
       "    <tr>\n",
       "      <th>...</th>\n",
       "      <td>...</td>\n",
       "      <td>...</td>\n",
       "      <td>...</td>\n",
       "      <td>...</td>\n",
       "      <td>...</td>\n",
       "      <td>...</td>\n",
       "      <td>...</td>\n",
       "      <td>...</td>\n",
       "      <td>...</td>\n",
       "      <td>...</td>\n",
       "      <td>...</td>\n",
       "      <td>...</td>\n",
       "      <td>...</td>\n",
       "      <td>...</td>\n",
       "      <td>...</td>\n",
       "      <td>...</td>\n",
       "      <td>...</td>\n",
       "      <td>...</td>\n",
       "      <td>...</td>\n",
       "      <td>...</td>\n",
       "      <td>...</td>\n",
       "    </tr>\n",
       "    <tr>\n",
       "      <th>User AGJHIOTHTLUFIWCJUSNIW35RMYRQ</th>\n",
       "      <td>NaN</td>\n",
       "      <td>NaN</td>\n",
       "      <td>NaN</td>\n",
       "      <td>NaN</td>\n",
       "      <td>NaN</td>\n",
       "      <td>NaN</td>\n",
       "      <td>NaN</td>\n",
       "      <td>NaN</td>\n",
       "      <td>NaN</td>\n",
       "      <td>NaN</td>\n",
       "      <td>...</td>\n",
       "      <td>NaN</td>\n",
       "      <td>NaN</td>\n",
       "      <td>NaN</td>\n",
       "      <td>NaN</td>\n",
       "      <td>NaN</td>\n",
       "      <td>NaN</td>\n",
       "      <td>NaN</td>\n",
       "      <td>NaN</td>\n",
       "      <td>NaN</td>\n",
       "      <td>NaN</td>\n",
       "    </tr>\n",
       "    <tr>\n",
       "      <th>User AE4TJGRYAKCRX7BHLJGWUUP6ZQPQ</th>\n",
       "      <td>NaN</td>\n",
       "      <td>NaN</td>\n",
       "      <td>NaN</td>\n",
       "      <td>NaN</td>\n",
       "      <td>NaN</td>\n",
       "      <td>NaN</td>\n",
       "      <td>NaN</td>\n",
       "      <td>NaN</td>\n",
       "      <td>NaN</td>\n",
       "      <td>NaN</td>\n",
       "      <td>...</td>\n",
       "      <td>NaN</td>\n",
       "      <td>NaN</td>\n",
       "      <td>NaN</td>\n",
       "      <td>NaN</td>\n",
       "      <td>NaN</td>\n",
       "      <td>NaN</td>\n",
       "      <td>NaN</td>\n",
       "      <td>NaN</td>\n",
       "      <td>NaN</td>\n",
       "      <td>NaN</td>\n",
       "    </tr>\n",
       "    <tr>\n",
       "      <th>User AEYUKKCRDBX4SCDNEBVYQQ2TORRA</th>\n",
       "      <td>NaN</td>\n",
       "      <td>NaN</td>\n",
       "      <td>NaN</td>\n",
       "      <td>NaN</td>\n",
       "      <td>NaN</td>\n",
       "      <td>NaN</td>\n",
       "      <td>NaN</td>\n",
       "      <td>NaN</td>\n",
       "      <td>NaN</td>\n",
       "      <td>NaN</td>\n",
       "      <td>...</td>\n",
       "      <td>NaN</td>\n",
       "      <td>NaN</td>\n",
       "      <td>NaN</td>\n",
       "      <td>NaN</td>\n",
       "      <td>NaN</td>\n",
       "      <td>NaN</td>\n",
       "      <td>NaN</td>\n",
       "      <td>NaN</td>\n",
       "      <td>NaN</td>\n",
       "      <td>NaN</td>\n",
       "    </tr>\n",
       "    <tr>\n",
       "      <th>User AESGZS7KSDLXD6OXRMLICJWVE57Q</th>\n",
       "      <td>NaN</td>\n",
       "      <td>NaN</td>\n",
       "      <td>NaN</td>\n",
       "      <td>NaN</td>\n",
       "      <td>NaN</td>\n",
       "      <td>NaN</td>\n",
       "      <td>NaN</td>\n",
       "      <td>NaN</td>\n",
       "      <td>NaN</td>\n",
       "      <td>NaN</td>\n",
       "      <td>...</td>\n",
       "      <td>NaN</td>\n",
       "      <td>NaN</td>\n",
       "      <td>NaN</td>\n",
       "      <td>NaN</td>\n",
       "      <td>NaN</td>\n",
       "      <td>NaN</td>\n",
       "      <td>NaN</td>\n",
       "      <td>NaN</td>\n",
       "      <td>NaN</td>\n",
       "      <td>NaN</td>\n",
       "    </tr>\n",
       "    <tr>\n",
       "      <th>User AHKBIRVFLT4XUMU7FH36O2CDU53Q</th>\n",
       "      <td>NaN</td>\n",
       "      <td>NaN</td>\n",
       "      <td>NaN</td>\n",
       "      <td>NaN</td>\n",
       "      <td>NaN</td>\n",
       "      <td>NaN</td>\n",
       "      <td>NaN</td>\n",
       "      <td>NaN</td>\n",
       "      <td>NaN</td>\n",
       "      <td>NaN</td>\n",
       "      <td>...</td>\n",
       "      <td>NaN</td>\n",
       "      <td>NaN</td>\n",
       "      <td>NaN</td>\n",
       "      <td>NaN</td>\n",
       "      <td>NaN</td>\n",
       "      <td>NaN</td>\n",
       "      <td>NaN</td>\n",
       "      <td>NaN</td>\n",
       "      <td>NaN</td>\n",
       "      <td>NaN</td>\n",
       "    </tr>\n",
       "  </tbody>\n",
       "</table>\n",
       "<p>649151 rows × 584 columns</p>\n",
       "</div>"
      ],
      "text/plain": [
       "                                   Item B09LW2KHPM  Item B0BTDLFXSL  \\\n",
       "User AGO25X54UAIXSKHOAH4SG2VUDUNA              1.0              NaN   \n",
       "User AHGGRLIBAWVH44XAY2QHQOE7S6OQ              NaN              5.0   \n",
       "User AGOSUQAEYTC5A6YDIJ7X5ZFAOSIQ              NaN              NaN   \n",
       "User AEGEQO4R6APZMUYEYT2VGJ3BKKAQ              NaN              NaN   \n",
       "User AEDAZ44DKSCBHMY4VOCU6Z7DWM7A              NaN              NaN   \n",
       "...                                            ...              ...   \n",
       "User AGJHIOTHTLUFIWCJUSNIW35RMYRQ              NaN              NaN   \n",
       "User AE4TJGRYAKCRX7BHLJGWUUP6ZQPQ              NaN              NaN   \n",
       "User AEYUKKCRDBX4SCDNEBVYQQ2TORRA              NaN              NaN   \n",
       "User AESGZS7KSDLXD6OXRMLICJWVE57Q              NaN              NaN   \n",
       "User AHKBIRVFLT4XUMU7FH36O2CDU53Q              NaN              NaN   \n",
       "\n",
       "                                   Item B09W4W9JB5  Item B07Z6Y87XH  \\\n",
       "User AGO25X54UAIXSKHOAH4SG2VUDUNA              NaN              NaN   \n",
       "User AHGGRLIBAWVH44XAY2QHQOE7S6OQ              NaN              NaN   \n",
       "User AGOSUQAEYTC5A6YDIJ7X5ZFAOSIQ              5.0              NaN   \n",
       "User AEGEQO4R6APZMUYEYT2VGJ3BKKAQ              NaN              5.0   \n",
       "User AEDAZ44DKSCBHMY4VOCU6Z7DWM7A              NaN              NaN   \n",
       "...                                            ...              ...   \n",
       "User AGJHIOTHTLUFIWCJUSNIW35RMYRQ              NaN              NaN   \n",
       "User AE4TJGRYAKCRX7BHLJGWUUP6ZQPQ              NaN              NaN   \n",
       "User AEYUKKCRDBX4SCDNEBVYQQ2TORRA              NaN              NaN   \n",
       "User AESGZS7KSDLXD6OXRMLICJWVE57Q              NaN              NaN   \n",
       "User AHKBIRVFLT4XUMU7FH36O2CDU53Q              NaN              NaN   \n",
       "\n",
       "                                   Item B09HRDWXCK  Item B000KC009Y  \\\n",
       "User AGO25X54UAIXSKHOAH4SG2VUDUNA              NaN              NaN   \n",
       "User AHGGRLIBAWVH44XAY2QHQOE7S6OQ              NaN              NaN   \n",
       "User AGOSUQAEYTC5A6YDIJ7X5ZFAOSIQ              NaN              NaN   \n",
       "User AEGEQO4R6APZMUYEYT2VGJ3BKKAQ              NaN              NaN   \n",
       "User AEDAZ44DKSCBHMY4VOCU6Z7DWM7A              5.0              NaN   \n",
       "...                                            ...              ...   \n",
       "User AGJHIOTHTLUFIWCJUSNIW35RMYRQ              NaN              NaN   \n",
       "User AE4TJGRYAKCRX7BHLJGWUUP6ZQPQ              NaN              NaN   \n",
       "User AEYUKKCRDBX4SCDNEBVYQQ2TORRA              NaN              NaN   \n",
       "User AESGZS7KSDLXD6OXRMLICJWVE57Q              NaN              NaN   \n",
       "User AHKBIRVFLT4XUMU7FH36O2CDU53Q              NaN              NaN   \n",
       "\n",
       "                                   Item B0C6H9K5NF  Item B00INQVYZ8  \\\n",
       "User AGO25X54UAIXSKHOAH4SG2VUDUNA              NaN              NaN   \n",
       "User AHGGRLIBAWVH44XAY2QHQOE7S6OQ              NaN              NaN   \n",
       "User AGOSUQAEYTC5A6YDIJ7X5ZFAOSIQ              NaN              NaN   \n",
       "User AEGEQO4R6APZMUYEYT2VGJ3BKKAQ              NaN              NaN   \n",
       "User AEDAZ44DKSCBHMY4VOCU6Z7DWM7A              NaN              NaN   \n",
       "...                                            ...              ...   \n",
       "User AGJHIOTHTLUFIWCJUSNIW35RMYRQ              NaN              NaN   \n",
       "User AE4TJGRYAKCRX7BHLJGWUUP6ZQPQ              NaN              NaN   \n",
       "User AEYUKKCRDBX4SCDNEBVYQQ2TORRA              NaN              NaN   \n",
       "User AESGZS7KSDLXD6OXRMLICJWVE57Q              NaN              NaN   \n",
       "User AHKBIRVFLT4XUMU7FH36O2CDU53Q              NaN              NaN   \n",
       "\n",
       "                                   Item B078FHD1ZH  Item B0855B4QZR  ...  \\\n",
       "User AGO25X54UAIXSKHOAH4SG2VUDUNA              NaN              NaN  ...   \n",
       "User AHGGRLIBAWVH44XAY2QHQOE7S6OQ              NaN              NaN  ...   \n",
       "User AGOSUQAEYTC5A6YDIJ7X5ZFAOSIQ              NaN              NaN  ...   \n",
       "User AEGEQO4R6APZMUYEYT2VGJ3BKKAQ              NaN              NaN  ...   \n",
       "User AEDAZ44DKSCBHMY4VOCU6Z7DWM7A              NaN              NaN  ...   \n",
       "...                                            ...              ...  ...   \n",
       "User AGJHIOTHTLUFIWCJUSNIW35RMYRQ              NaN              NaN  ...   \n",
       "User AE4TJGRYAKCRX7BHLJGWUUP6ZQPQ              NaN              NaN  ...   \n",
       "User AEYUKKCRDBX4SCDNEBVYQQ2TORRA              NaN              NaN  ...   \n",
       "User AESGZS7KSDLXD6OXRMLICJWVE57Q              NaN              NaN  ...   \n",
       "User AHKBIRVFLT4XUMU7FH36O2CDU53Q              NaN              NaN  ...   \n",
       "\n",
       "                                   Item B0C6KP8SRQ  Item B0B829WR28  \\\n",
       "User AGO25X54UAIXSKHOAH4SG2VUDUNA              NaN              NaN   \n",
       "User AHGGRLIBAWVH44XAY2QHQOE7S6OQ              NaN              NaN   \n",
       "User AGOSUQAEYTC5A6YDIJ7X5ZFAOSIQ              NaN              NaN   \n",
       "User AEGEQO4R6APZMUYEYT2VGJ3BKKAQ              NaN              NaN   \n",
       "User AEDAZ44DKSCBHMY4VOCU6Z7DWM7A              NaN              NaN   \n",
       "...                                            ...              ...   \n",
       "User AGJHIOTHTLUFIWCJUSNIW35RMYRQ              NaN              NaN   \n",
       "User AE4TJGRYAKCRX7BHLJGWUUP6ZQPQ              NaN              NaN   \n",
       "User AEYUKKCRDBX4SCDNEBVYQQ2TORRA              NaN              NaN   \n",
       "User AESGZS7KSDLXD6OXRMLICJWVE57Q              NaN              NaN   \n",
       "User AHKBIRVFLT4XUMU7FH36O2CDU53Q              NaN              NaN   \n",
       "\n",
       "                                   Item B0C1BD44L9  Item B0864RK56W  \\\n",
       "User AGO25X54UAIXSKHOAH4SG2VUDUNA              NaN              NaN   \n",
       "User AHGGRLIBAWVH44XAY2QHQOE7S6OQ              NaN              NaN   \n",
       "User AGOSUQAEYTC5A6YDIJ7X5ZFAOSIQ              NaN              NaN   \n",
       "User AEGEQO4R6APZMUYEYT2VGJ3BKKAQ              NaN              NaN   \n",
       "User AEDAZ44DKSCBHMY4VOCU6Z7DWM7A              NaN              NaN   \n",
       "...                                            ...              ...   \n",
       "User AGJHIOTHTLUFIWCJUSNIW35RMYRQ              NaN              NaN   \n",
       "User AE4TJGRYAKCRX7BHLJGWUUP6ZQPQ              NaN              NaN   \n",
       "User AEYUKKCRDBX4SCDNEBVYQQ2TORRA              NaN              NaN   \n",
       "User AESGZS7KSDLXD6OXRMLICJWVE57Q              NaN              NaN   \n",
       "User AHKBIRVFLT4XUMU7FH36O2CDU53Q              NaN              NaN   \n",
       "\n",
       "                                   Item B07RHPQ3FW  Item B0917VV12K  \\\n",
       "User AGO25X54UAIXSKHOAH4SG2VUDUNA              NaN              NaN   \n",
       "User AHGGRLIBAWVH44XAY2QHQOE7S6OQ              NaN              NaN   \n",
       "User AGOSUQAEYTC5A6YDIJ7X5ZFAOSIQ              NaN              NaN   \n",
       "User AEGEQO4R6APZMUYEYT2VGJ3BKKAQ              NaN              NaN   \n",
       "User AEDAZ44DKSCBHMY4VOCU6Z7DWM7A              NaN              NaN   \n",
       "...                                            ...              ...   \n",
       "User AGJHIOTHTLUFIWCJUSNIW35RMYRQ              NaN              NaN   \n",
       "User AE4TJGRYAKCRX7BHLJGWUUP6ZQPQ              NaN              NaN   \n",
       "User AEYUKKCRDBX4SCDNEBVYQQ2TORRA              NaN              NaN   \n",
       "User AESGZS7KSDLXD6OXRMLICJWVE57Q              NaN              NaN   \n",
       "User AHKBIRVFLT4XUMU7FH36O2CDU53Q              NaN              NaN   \n",
       "\n",
       "                                   Item B0B4M6Z2GH  Item B00H90PFOK  \\\n",
       "User AGO25X54UAIXSKHOAH4SG2VUDUNA              NaN              NaN   \n",
       "User AHGGRLIBAWVH44XAY2QHQOE7S6OQ              NaN              NaN   \n",
       "User AGOSUQAEYTC5A6YDIJ7X5ZFAOSIQ              NaN              NaN   \n",
       "User AEGEQO4R6APZMUYEYT2VGJ3BKKAQ              NaN              NaN   \n",
       "User AEDAZ44DKSCBHMY4VOCU6Z7DWM7A              NaN              NaN   \n",
       "...                                            ...              ...   \n",
       "User AGJHIOTHTLUFIWCJUSNIW35RMYRQ              NaN              NaN   \n",
       "User AE4TJGRYAKCRX7BHLJGWUUP6ZQPQ              NaN              NaN   \n",
       "User AEYUKKCRDBX4SCDNEBVYQQ2TORRA              NaN              NaN   \n",
       "User AESGZS7KSDLXD6OXRMLICJWVE57Q              NaN              NaN   \n",
       "User AHKBIRVFLT4XUMU7FH36O2CDU53Q              NaN              NaN   \n",
       "\n",
       "                                   Item B07BM1RK7K  Item B077KGFWJ9  \n",
       "User AGO25X54UAIXSKHOAH4SG2VUDUNA              NaN              NaN  \n",
       "User AHGGRLIBAWVH44XAY2QHQOE7S6OQ              NaN              NaN  \n",
       "User AGOSUQAEYTC5A6YDIJ7X5ZFAOSIQ              NaN              NaN  \n",
       "User AEGEQO4R6APZMUYEYT2VGJ3BKKAQ              NaN              NaN  \n",
       "User AEDAZ44DKSCBHMY4VOCU6Z7DWM7A              NaN              NaN  \n",
       "...                                            ...              ...  \n",
       "User AGJHIOTHTLUFIWCJUSNIW35RMYRQ              NaN              NaN  \n",
       "User AE4TJGRYAKCRX7BHLJGWUUP6ZQPQ              NaN              NaN  \n",
       "User AEYUKKCRDBX4SCDNEBVYQQ2TORRA              NaN              NaN  \n",
       "User AESGZS7KSDLXD6OXRMLICJWVE57Q              NaN              NaN  \n",
       "User AHKBIRVFLT4XUMU7FH36O2CDU53Q              NaN              NaN  \n",
       "\n",
       "[649151 rows x 584 columns]"
      ]
     },
     "execution_count": 15,
     "metadata": {},
     "output_type": "execute_result"
    }
   ],
   "source": [
    "uir_dataset = cornac.data.Dataset.from_uir(\n",
    "    list(full_df[['user_id', 'parent_asin', 'rating']].itertuples(index=False, name=None))\n",
    ")\n",
    "R = uir_dataset.matrix.toarray()\n",
    "R_mask = (R > 0).astype(float)\n",
    "pd.DataFrame(\n",
    "  data=R,\n",
    "  index=[f\"User {uir_dataset.user_ids[u]}\" for u in np.arange(uir_dataset.num_users)],\n",
    "  columns=[f\"Item {uir_dataset.item_ids[i]}\" for i in np.arange(uir_dataset.num_items)]\n",
    ").replace(0, np.nan)"
   ]
  },
  {
   "cell_type": "markdown",
   "id": "4dcc9541-537f-4e33-a475-90a0cbe76431",
   "metadata": {},
   "source": [
    "# Helper Functions"
   ]
  },
  {
   "cell_type": "code",
   "execution_count": 16,
   "id": "8f592e1c-281f-41b8-aa7b-5564af6d6ef0",
   "metadata": {},
   "outputs": [],
   "source": [
    "def convert_df_to_cornac_format(df, model=None):\n",
    "    \"\"\"\n",
    "    Converts a Pandas DataFrame to Cornac-compatible (user, item, rating/confidence) triplets\n",
    "    based on the model type.\n",
    "\n",
    "    Parameters:\n",
    "        df (pd.DataFrame): Must contain 'user_id', 'parent_asin', and relevant columns\n",
    "        model (str): One of 'BPR', 'WMF', 'MF', or 'EASE'\n",
    "\n",
    "    Returns:\n",
    "        List of (user, item, score) triplets\n",
    "    \"\"\"\n",
    "    df = df.copy()\n",
    "\n",
    "    if model in {\"BPR\", \"EASE\"}:\n",
    "        # Binary implicit feedback (1 if purchased or helped)\n",
    "        df['interaction'] = ((df['verified_purchase_flag'] == 1) | (df['helpful_vote_clipped'] > 0)).astype(np.float32)\n",
    "        r = 'interaction'\n",
    "\n",
    "    elif model == \"WMF\":\n",
    "        # Confidence score (clipped helpful votes)\n",
    "        df['confidence'] = df['helpful_vote_clipped'].fillna(0).astype(np.float32)\n",
    "        r = 'confidence'\n",
    "\n",
    "    elif model == \"MF\":\n",
    "        # Explicit feedback model\n",
    "        if \"rating\" not in df.columns:\n",
    "            raise ValueError(\"DataFrame must contain a 'rating' column for MF.\")\n",
    "        r = \"rating\"\n",
    "\n",
    "    else:\n",
    "        raise ValueError(f\"Unsupported model type: {model}\")\n",
    "\n",
    "    return list(zip(\n",
    "        df['user_id'].astype(str).values,\n",
    "        df['parent_asin'].astype(str).values,\n",
    "        df[r].astype(np.float32).values\n",
    "    ))\n"
   ]
  },
  {
   "cell_type": "code",
   "execution_count": 17,
   "id": "8fc3c9a8-f7ff-4092-a487-a181b35aca40",
   "metadata": {},
   "outputs": [],
   "source": [
    "# --- Shared setup ---\n",
    "def run_experiment(model, model_name, full_data, rating_threshold=4.0):\n",
    "    ev = RatioSplit(\n",
    "    data=full_data,\n",
    "    test_size=0.2,\n",
    "    rating_threshold=rating_threshold,\n",
    "    exclude_unknowns=True,\n",
    "    seed=SEED,\n",
    "    verbose=VERBOSE\n",
    "    )\n",
    "\n",
    "    metrics = [Recall(k=50), FMeasure(k=50), NCRR(k=50), NDCG(k=50)]\n",
    "    exp = cornac.Experiment(eval_method=ev, models=[model], metrics=metrics, save_dir=None, verbose=False)\n",
    "\n",
    "    # UTF-8 patch to fix UnicodeEncodeError (for EASE)\n",
    "    def safe_utf8_open(*args, **kwargs):\n",
    "        if len(args) >= 2 and isinstance(args[1], str) and 'b' in args[1]:\n",
    "            # Binary mode\n",
    "            return open_backup(*args, **kwargs)\n",
    "        # Text mode – enforce UTF-8 encoding\n",
    "        kwargs.setdefault('encoding', 'utf-8')\n",
    "        return open_backup(*args, **kwargs)\n",
    "            \n",
    "    open_backup = builtins.open\n",
    "    exp.run()\n",
    "    builtins.open = safe_utf8_open  # Restore open()\n",
    "    return exp.result[0].metric_avg_results, exp.result[0]\n",
    "\n",
    "# --- MF tuning only ---\n",
    "def objective_mf(trial):\n",
    "    k = trial.suggest_int(\"k\", 10, 200)\n",
    "    learning_rate = trial.suggest_float(\"learning_rate\", 0.001, 0.05, log=True)\n",
    "    lambda_reg = trial.suggest_float(\"lambda_reg\", 0.001, 0.1, log=True)\n",
    "    max_iter = 100\n",
    "\n",
    "    model = MF(\n",
    "        k=k,\n",
    "        max_iter=max_iter,\n",
    "        learning_rate=learning_rate,\n",
    "        lambda_reg=lambda_reg,\n",
    "        use_bias=True,  # Optional: can set to False if you want unbiased MF\n",
    "        seed=SEED,\n",
    "        verbose=VERBOSE\n",
    "    )\n",
    "\n",
    "    metrics, result = run_experiment(\n",
    "        model=model,\n",
    "        model_name=\"MF\",\n",
    "        full_data=rating_data,            # assumed explicit ratings (e.g., 1–5)\n",
    "        rating_threshold=4.0\n",
    "    )\n",
    "\n",
    "    trial.set_user_attr(\"result\", result)\n",
    "    return metrics[\"F1@50\"]\n",
    "\n",
    "# --- BPR tuning only ---\n",
    "def objective_bpr(trial):\n",
    "    k = trial.suggest_int(\"k\", 100, 200)\n",
    "    lr = trial.suggest_float(\"learning_rate\", 0.001, 0.05, log=True)\n",
    "    lambda_reg = trial.suggest_float(\"lambda_reg\", 0.001, 0.1, log=True)\n",
    "    max_iter = 500\n",
    "\n",
    "    model = BPR(k=k, max_iter=max_iter, learning_rate=lr,\n",
    "                lambda_reg=lambda_reg, seed=SEED, verbose=VERBOSE)\n",
    "    metrics, result = run_experiment(model, \"BPR\", interaction_data, rating_threshold=0.5)\n",
    "\n",
    "    trial.set_user_attr(\"result\", result)\n",
    "    return metrics[\"F1@50\"]\n",
    "\n",
    "# --- WMF tuning only ---\n",
    "def objective_wmf(trial):\n",
    "    k = trial.suggest_int(\"k\", 50, 250)\n",
    "    lr = trial.suggest_float(\"learning_rate\", 0.001, 0.05, log=True)\n",
    "    lambda_u = trial.suggest_float(\"lambda_u\", 0.001, 0.1, log=True)\n",
    "    lambda_v = trial.suggest_float(\"lambda_v\", 0.001, 0.1, log=True)\n",
    "    a = trial.suggest_float(\"a\", 1.0, 10.0)\n",
    "    b = trial.suggest_float(\"b\", 0.0001, 0.01, log=True)\n",
    "    max_iter = 50\n",
    "    #max_iter = trial.suggest_int(\"max_iter\", 100, 400)\n",
    "\n",
    "    model = WMF(k=k, max_iter=max_iter, a=a, b=b, learning_rate=lr,\n",
    "                lambda_u=lambda_u, lambda_v=lambda_v, seed=SEED, verbose=VERBOSE)\n",
    "    metrics, result = run_experiment(model, \"WMF\", confidence_data, rating_threshold=0.5)\n",
    "    trial.set_user_attr(\"result\", result)\n",
    "    return metrics[\"F1@50\"]\n",
    "    \n",
    "# --- EASE tuning only ---\n",
    "def objective_ease(trial):\n",
    "    lamb = trial.suggest_float(\"lamb\", 10.0, 1000.0, log=True)\n",
    "\n",
    "    model = EASE(lamb=lamb, verbose=VERBOSE)\n",
    "    metrics, result = run_experiment(\n",
    "        model=model,\n",
    "        model_name=\"EASE\",\n",
    "        full_data=interaction_data,\n",
    "        rating_threshold=0.5\n",
    "    )\n",
    "\n",
    "    trial.set_user_attr(\"result\", result)\n",
    "    return metrics[\"F1@50\"]"
   ]
  },
  {
   "cell_type": "code",
   "execution_count": 18,
   "id": "800c467c-260f-46b0-a170-864ab7dbb664",
   "metadata": {},
   "outputs": [],
   "source": [
    "def generate_top_k_recommendations(model_class, dataset, study=None, k=10, model_path=None):\n",
    "    \"\"\"\n",
    "    Generate top-k item recommendations for a sample of users using a trained Cornac model.\n",
    "    \n",
    "    Parameters:\n",
    "        model_class: Cornac model class (e.g., BPR, WMF, MF, EASE)\n",
    "        dataset: Cornac-format dataset\n",
    "        study: Optuna study object (optional)\n",
    "        k: number of top items per user\n",
    "        model_path: optional path to load a pickled model\n",
    "\n",
    "    Returns:\n",
    "        pd.DataFrame: top-k item IDs per user\n",
    "    \"\"\"\n",
    "    # === Extract best parameters ===\n",
    "    best_params = study.best_params if study else {}\n",
    "\n",
    "    # === Load model if path provided ===\n",
    "    if model_path:\n",
    "        with open(model_path, \"rb\") as f:\n",
    "            model = pickle.load(f)\n",
    "        print(f\"Loaded model from: {model_path}\")\n",
    "    else:\n",
    "        # === Generate model name for logging/debugging ===\n",
    "        if study:\n",
    "            if model_class.__name__ == \"WMF\":\n",
    "                model_name = (\n",
    "                    f\"WMF(k={best_params['k']}, lr={best_params['learning_rate']:.4f}, \"\n",
    "                    f\"lambda_u={best_params['lambda_u']:.4f}, lambda_v={best_params['lambda_v']:.4f}, \"\n",
    "                    f\"a={best_params['a']}, b={best_params['b']:.4f}, it=50)\"\n",
    "                )\n",
    "            elif model_class.__name__ == \"BPR\":\n",
    "                model_name = (\n",
    "                    f\"BPR(k={best_params['k']}, lr={best_params['learning_rate']:.4f}, \"\n",
    "                    f\"lambda_reg={best_params['lambda_reg']:.4f}, it=500)\"\n",
    "                )\n",
    "            elif model_class.__name__ == \"EASE\":\n",
    "                model_name = f\"EASE(lamb={best_params['lamb']:.2f})\"\n",
    "            elif model_class.__name__ == \"MF\":\n",
    "                model_name = (\n",
    "                    f\"MF(k={best_params['k']}, lr={best_params['learning_rate']:.4f}, \"\n",
    "                    f\"lambda_reg={best_params['lambda_reg']:.4f}, use_bias={best_params.get('use_bias', True)})\"\n",
    "                )\n",
    "            else:\n",
    "                model_name = f\"{model_class.__name__}_tuned\"\n",
    "        else:\n",
    "            model_name = f\"{model_class.__name__}_default\"\n",
    "\n",
    "        # === Instantiate and train model ===\n",
    "        model = model_class(\n",
    "            **best_params,\n",
    "            seed=SEED,\n",
    "            verbose=VERBOSE,\n",
    "            name=model_name\n",
    "        )\n",
    "        model.fit(dataset)\n",
    "\n",
    "    # === Extract mapping from train set ===\n",
    "    train_set = model.train_set\n",
    "    id2raw_iid = {v: k for k, v in train_set.iid_map.items()}\n",
    "    id2raw_uid = {v: k for k, v in train_set.uid_map.items()}\n",
    "    user_indices = sorted(range(train_set.num_users), key=lambda x: id2raw_uid[x])\n",
    "    sampled_user_indices = random.sample(user_indices, k=100)\n",
    "\n",
    "    # === Generate top-k items per user ===\n",
    "    all_top_k = []\n",
    "    for uid in sampled_user_indices:\n",
    "        scores = np.asarray(model.score(user_idx=uid)).flatten()\n",
    "        top_iids = np.argsort(-scores)[:k]\n",
    "        raw_iids = [id2raw_iid[i] for i in top_iids]\n",
    "        all_top_k.append(raw_iids)\n",
    "\n",
    "    # === Return as DataFrame ===\n",
    "    df_topk = pd.DataFrame(all_top_k, index=[id2raw_uid[uid] for uid in sampled_user_indices])\n",
    "    df_topk.index.name = \"user_id\"\n",
    "\n",
    "    return df_topk\n"
   ]
  },
  {
   "cell_type": "code",
   "execution_count": 19,
   "id": "31d47f71-b599-45f6-9637-e5c1b8e60863",
   "metadata": {},
   "outputs": [],
   "source": [
    "def annotate_recommendations_with_category(df_topk, items_df):\n",
    "    \"\"\"\n",
    "    Converts wide-format top-k recommendation DataFrame into long format and \n",
    "    joins with item metadata (cat_2, cat_4).\n",
    "\n",
    "    Parameters:\n",
    "        df_topk (pd.DataFrame): Top-k recommendations (users as index, items as columns).\n",
    "        items_df (pd.DataFrame): Item metadata with columns ['parent_asin', 'cat_2', 'cat_4'].\n",
    "\n",
    "    Returns:\n",
    "        pd.DataFrame: Long-format DataFrame with user_id, rank (1-based), parent_asin, cat_2, cat_4.\n",
    "    \"\"\"\n",
    "    # Flatten to long format\n",
    "    df_long = df_topk.reset_index().melt(id_vars='user_id', var_name='rank', value_name='parent_asin')\n",
    "    \n",
    "    # Merge with metadata\n",
    "    df_merged = df_long.merge(items_df[['parent_asin', 'cat_2', 'cat_4']], on='parent_asin', how='left')\n",
    "    \n",
    "    # Convert rank to 1-based integer\n",
    "    df_merged['rank'] = df_merged['rank'].astype(int) + 1\n",
    "    \n",
    "    # Sort result\n",
    "    df_merged = df_merged.sort_values(by=['user_id', 'rank'])\n",
    "\n",
    "    return df_merged\n"
   ]
  },
  {
   "cell_type": "code",
   "execution_count": 20,
   "id": "d7db3ae9-7311-4ebf-b3da-68ff817348ea",
   "metadata": {},
   "outputs": [],
   "source": [
    "import pandas as pd\n",
    "\n",
    "def compute_cat2_diff_cat4_rate(interacted_df, recommendation_df):\n",
    "    \"\"\"\n",
    "    Computes the rate of recommendations that match the user's rated `cat_2`\n",
    "    but have different `cat_4`.\n",
    "\n",
    "    Parameters:\n",
    "        interacted_df (pd.DataFrame): User-item interactions with columns:\n",
    "            ['user_id', 'parent_asin', 'cat_2', 'cat_4']\n",
    "        recommendation_df (pd.DataFrame): Recommendations with:\n",
    "            ['user_id', 'parent_asin', 'cat_2', 'cat_4']\n",
    "\n",
    "    Returns:\n",
    "        overall_rate (float): Fraction of recommended items that are in the same\n",
    "                              `cat_2` but not in the same `cat_4` as the rated ones.\n",
    "        labeled_recommendations (pd.DataFrame): recommendation_df with an added\n",
    "                                                'cat_match' column.\n",
    "        user_rate (pd.Series): Per-user rate of 'same_cat2_diff_cat4' items.\n",
    "    \"\"\"\n",
    "    # Build per-user sets of rated categories\n",
    "    rated_cat2 = interacted_df.groupby('user_id')['cat_2'].apply(set)\n",
    "    rated_cat4 = interacted_df.groupby('user_id')['cat_4'].apply(set)\n",
    "\n",
    "    # Helper to assign match label\n",
    "    def label_category_match(row):\n",
    "        user = row['user_id']\n",
    "        c2 = row['cat_2']\n",
    "        c4 = row['cat_4']\n",
    "        cat2_set = rated_cat2.get(user, set())\n",
    "        cat4_set = rated_cat4.get(user, set())\n",
    "        if c4 in cat4_set:\n",
    "            return 'same_cat4'\n",
    "        elif c2 in cat2_set:\n",
    "            return 'same_cat2_diff_cat4'\n",
    "        else:\n",
    "            return 'diff_cat2'\n",
    "\n",
    "    # Apply labeling\n",
    "    recommendation_df = recommendation_df.copy()\n",
    "    recommendation_df['cat_match'] = recommendation_df.apply(label_category_match, axis=1)\n",
    "\n",
    "    # Compute overall rate\n",
    "    overall_rate = (recommendation_df['cat_match'] == 'same_cat2_diff_cat4').mean()\n",
    "\n",
    "    # Per-user rate\n",
    "    user_rate = (\n",
    "        recommendation_df.groupby('user_id')['cat_match']\n",
    "        .apply(lambda x: (x == 'same_cat2_diff_cat4').mean())\n",
    "    )\n",
    "\n",
    "    return overall_rate, recommendation_df, user_rate\n"
   ]
  },
  {
   "cell_type": "markdown",
   "id": "7035e704-548b-49f7-8301-900ed6ec99a8",
   "metadata": {},
   "source": [
    "# Create Interaction, Confidence Data ad Rating Data for Models"
   ]
  },
  {
   "cell_type": "code",
   "execution_count": 21,
   "id": "c9e4a4fd-8482-46c0-811b-00c7234d1e82",
   "metadata": {},
   "outputs": [],
   "source": [
    "interaction_data = convert_df_to_cornac_format(full_df, model=\"BPR\")\n",
    "confidence_data = convert_df_to_cornac_format(full_df, model=\"WMF\")\n",
    "rating_data = convert_df_to_cornac_format(full_df, model=\"MF\")\n"
   ]
  },
  {
   "cell_type": "code",
   "execution_count": 22,
   "id": "94a18a7d-e573-4d9d-b412-1d7ed515c90a",
   "metadata": {},
   "outputs": [],
   "source": [
    "N = 15\n",
    "now = datetime.now().strftime(\"%Y%m%d_%H%M%S\")"
   ]
  },
  {
   "cell_type": "markdown",
   "id": "b8a263c6-f525-4d1a-8aff-acab20e385f6",
   "metadata": {},
   "source": [
    "# MF"
   ]
  },
  {
   "cell_type": "code",
   "execution_count": 23,
   "id": "1e0aea2c-356d-4fc8-ad22-c1973f4fa65c",
   "metadata": {},
   "outputs": [
    {
     "name": "stderr",
     "output_type": "stream",
     "text": [
      "[I 2025-09-01 05:06:54,566] A new study created in memory with name: no-name-f9dcd903-2b36-4a1d-b2bc-8f57cd9ac4e5\n",
      "/usr/local/lib/python3.12/site-packages/cornac/data/dataset.py:335: UserWarning: 1077 duplicated observations are removed!\n",
      "  warnings.warn(\"%d duplicated observations are removed!\" % dup_count)\n",
      "/usr/local/lib/python3.12/site-packages/cornac/data/dataset.py:335: UserWarning: 39 duplicated observations are removed!\n",
      "  warnings.warn(\"%d duplicated observations are removed!\" % dup_count)\n"
     ]
    },
    {
     "name": "stdout",
     "output_type": "stream",
     "text": [
      "\n",
      "TEST:\n",
      "...\n",
      "   |  F1@50 | NCRR@50 | NDCG@50 | Recall@50 | Train (s) | Test (s)\n",
      "-- + ------ + ------- + ------- + --------- + --------- + --------\n",
      "MF | 0.0043 |  0.0154 |  0.0318 |    0.1010 |    8.9022 | 248.6463\n",
      "\n"
     ]
    },
    {
     "name": "stderr",
     "output_type": "stream",
     "text": [
      "[I 2025-09-01 05:11:15,029] Trial 0 finished with value: 0.00426875421451207 and parameters: {'k': 148, 'learning_rate': 0.005317387018458959, 'lambda_reg': 0.0014444281739516911}. Best is trial 0 with value: 0.00426875421451207.\n"
     ]
    },
    {
     "name": "stdout",
     "output_type": "stream",
     "text": [
      "\n",
      "TEST:\n",
      "...\n",
      "   |  F1@50 | NCRR@50 | NDCG@50 | Recall@50 | Train (s) | Test (s)\n",
      "-- + ------ + ------- + ------- + --------- + --------- + --------\n",
      "MF | 0.0039 |  0.0117 |  0.0268 |    0.0911 |    4.5025 | 258.7457\n",
      "\n"
     ]
    },
    {
     "name": "stderr",
     "output_type": "stream",
     "text": [
      "[I 2025-09-01 05:15:40,904] Trial 1 finished with value: 0.0038549419196019113 and parameters: {'k': 62, 'learning_rate': 0.03295472790861735, 'lambda_reg': 0.07826231853587734}. Best is trial 0 with value: 0.00426875421451207.\n"
     ]
    },
    {
     "name": "stdout",
     "output_type": "stream",
     "text": [
      "\n",
      "TEST:\n",
      "...\n",
      "   |  F1@50 | NCRR@50 | NDCG@50 | Recall@50 | Train (s) | Test (s)\n",
      "-- + ------ + ------- + ------- + --------- + --------- + --------\n",
      "MF | 0.0043 |  0.0107 |  0.0281 |    0.1024 |    1.3328 | 259.5199\n",
      "\n"
     ]
    },
    {
     "name": "stderr",
     "output_type": "stream",
     "text": [
      "[I 2025-09-01 05:20:04,562] Trial 2 finished with value: 0.004305434577118263 and parameters: {'k': 16, 'learning_rate': 0.03472144120387885, 'lambda_reg': 0.0019215357741660165}. Best is trial 2 with value: 0.004305434577118263.\n"
     ]
    },
    {
     "name": "stdout",
     "output_type": "stream",
     "text": [
      "\n",
      "TEST:\n",
      "...\n",
      "   |  F1@50 | NCRR@50 | NDCG@50 | Recall@50 | Train (s) | Test (s)\n",
      "-- + ------ + ------- + ------- + --------- + --------- + --------\n",
      "MF | 0.0037 |  0.0089 |  0.0238 |    0.0884 |    7.6075 | 258.2441\n",
      "\n"
     ]
    },
    {
     "name": "stderr",
     "output_type": "stream",
     "text": [
      "[I 2025-09-01 05:24:33,196] Trial 3 finished with value: 0.0037199721878105997 and parameters: {'k': 126, 'learning_rate': 0.001182954144120544, 'lambda_reg': 0.03371747652495995}. Best is trial 2 with value: 0.004305434577118263.\n"
     ]
    },
    {
     "name": "stdout",
     "output_type": "stream",
     "text": [
      "\n",
      "TEST:\n",
      "...\n",
      "   |  F1@50 | NCRR@50 | NDCG@50 | Recall@50 | Train (s) | Test (s)\n",
      "-- + ------ + ------- + ------- + --------- + --------- + --------\n",
      "MF | 0.0040 |  0.0094 |  0.0255 |    0.0948 |   11.4275 | 261.1962\n",
      "\n"
     ]
    },
    {
     "name": "stderr",
     "output_type": "stream",
     "text": [
      "[I 2025-09-01 05:29:08,551] Trial 4 finished with value: 0.003994499655891023 and parameters: {'k': 195, 'learning_rate': 0.0021968666206472545, 'lambda_reg': 0.02235466783183327}. Best is trial 2 with value: 0.004305434577118263.\n"
     ]
    },
    {
     "name": "stdout",
     "output_type": "stream",
     "text": [
      "\n",
      "TEST:\n",
      "...\n",
      "   |  F1@50 | NCRR@50 | NDCG@50 | Recall@50 | Train (s) | Test (s)\n",
      "-- + ------ + ------- + ------- + --------- + --------- + --------\n",
      "MF | 0.0044 |  0.0128 |  0.0301 |    0.1031 |    4.3080 | 260.6963\n",
      "\n"
     ]
    },
    {
     "name": "stderr",
     "output_type": "stream",
     "text": [
      "[I 2025-09-01 05:33:36,358] Trial 5 finished with value: 0.004356035290110689 and parameters: {'k': 60, 'learning_rate': 0.002059459771946506, 'lambda_reg': 0.002708211549013927}. Best is trial 5 with value: 0.004356035290110689.\n"
     ]
    },
    {
     "name": "stdout",
     "output_type": "stream",
     "text": [
      "\n",
      "TEST:\n",
      "...\n",
      "   |  F1@50 | NCRR@50 | NDCG@50 | Recall@50 | Train (s) | Test (s)\n",
      "-- + ------ + ------- + ------- + --------- + --------- + --------\n",
      "MF | 0.0043 |  0.0124 |  0.0297 |    0.1029 |    3.9062 | 269.4601\n",
      "\n"
     ]
    },
    {
     "name": "stderr",
     "output_type": "stream",
     "text": [
      "[I 2025-09-01 05:38:12,488] Trial 6 finished with value: 0.00434749093351853 and parameters: {'k': 52, 'learning_rate': 0.010190693881518253, 'lambda_reg': 0.008426101127360064}. Best is trial 5 with value: 0.004356035290110689.\n"
     ]
    },
    {
     "name": "stdout",
     "output_type": "stream",
     "text": [
      "\n",
      "TEST:\n",
      "...\n",
      "   |  F1@50 | NCRR@50 | NDCG@50 | Recall@50 | Train (s) | Test (s)\n",
      "-- + ------ + ------- + ------- + --------- + --------- + --------\n",
      "MF | 0.0042 |  0.0111 |  0.0281 |    0.1005 |    9.1384 | 259.9421\n",
      "\n"
     ]
    },
    {
     "name": "stderr",
     "output_type": "stream",
     "text": [
      "[I 2025-09-01 05:42:44,780] Trial 7 finished with value: 0.004228024257544062 and parameters: {'k': 138, 'learning_rate': 0.0035299185984066822, 'lambda_reg': 0.01208470545020436}. Best is trial 5 with value: 0.004356035290110689.\n"
     ]
    },
    {
     "name": "stdout",
     "output_type": "stream",
     "text": [
      "\n",
      "TEST:\n",
      "...\n",
      "   |  F1@50 | NCRR@50 | NDCG@50 | Recall@50 | Train (s) | Test (s)\n",
      "-- + ------ + ------- + ------- + --------- + --------- + --------\n",
      "MF | 0.0042 |  0.0119 |  0.0285 |    0.1001 |    5.7122 | 287.0088\n",
      "\n"
     ]
    },
    {
     "name": "stderr",
     "output_type": "stream",
     "text": [
      "[I 2025-09-01 05:47:40,295] Trial 8 finished with value: 0.004216421119734009 and parameters: {'k': 86, 'learning_rate': 0.023212431935699142, 'lambda_reg': 0.036552857513754554}. Best is trial 5 with value: 0.004356035290110689.\n"
     ]
    },
    {
     "name": "stdout",
     "output_type": "stream",
     "text": [
      "\n",
      "TEST:\n",
      "...\n",
      "   |  F1@50 | NCRR@50 | NDCG@50 | Recall@50 | Train (s) | Test (s)\n",
      "-- + ------ + ------- + ------- + --------- + --------- + --------\n",
      "MF | 0.0038 |  0.0113 |  0.0263 |    0.0910 |    3.8363 | 299.1894\n",
      "\n"
     ]
    },
    {
     "name": "stderr",
     "output_type": "stream",
     "text": [
      "[I 2025-09-01 05:52:46,503] Trial 9 finished with value: 0.003839715771250952 and parameters: {'k': 48, 'learning_rate': 0.010769674213284017, 'lambda_reg': 0.06141267544284003}. Best is trial 5 with value: 0.004356035290110689.\n"
     ]
    },
    {
     "name": "stdout",
     "output_type": "stream",
     "text": [
      "\n",
      "TEST:\n",
      "...\n",
      "   |  F1@50 | NCRR@50 | NDCG@50 | Recall@50 | Train (s) | Test (s)\n",
      "-- + ------ + ------- + ------- + --------- + --------- + --------\n",
      "MF | 0.0040 |  0.0102 |  0.0262 |    0.0941 |    5.8421 | 266.5706\n",
      "\n"
     ]
    },
    {
     "name": "stderr",
     "output_type": "stream",
     "text": [
      "[I 2025-09-01 05:57:22,002] Trial 10 finished with value: 0.003972695492411738 and parameters: {'k': 93, 'learning_rate': 0.00115315791721606, 'lambda_reg': 0.0035829007633120533}. Best is trial 5 with value: 0.004356035290110689.\n"
     ]
    },
    {
     "name": "stdout",
     "output_type": "stream",
     "text": [
      "\n",
      "TEST:\n",
      "...\n",
      "   |  F1@50 | NCRR@50 | NDCG@50 | Recall@50 | Train (s) | Test (s)\n",
      "-- + ------ + ------- + ------- + --------- + --------- + --------\n",
      "MF | 0.0042 |  0.0103 |  0.0271 |    0.0986 |    1.1698 | 268.4792\n",
      "\n"
     ]
    },
    {
     "name": "stderr",
     "output_type": "stream",
     "text": [
      "[I 2025-09-01 06:01:54,569] Trial 11 finished with value: 0.004174021581990648 and parameters: {'k': 10, 'learning_rate': 0.008257188028975548, 'lambda_reg': 0.005409351101594197}. Best is trial 5 with value: 0.004356035290110689.\n"
     ]
    },
    {
     "name": "stdout",
     "output_type": "stream",
     "text": [
      "\n",
      "TEST:\n",
      "...\n",
      "   |  F1@50 | NCRR@50 | NDCG@50 | Recall@50 | Train (s) | Test (s)\n",
      "-- + ------ + ------- + ------- + --------- + --------- + --------\n",
      "MF | 0.0044 |  0.0129 |  0.0303 |    0.1047 |    3.8644 | 266.9285\n",
      "\n"
     ]
    },
    {
     "name": "stderr",
     "output_type": "stream",
     "text": [
      "[I 2025-09-01 06:06:28,122] Trial 12 finished with value: 0.004404088770974109 and parameters: {'k': 51, 'learning_rate': 0.014276528069064843, 'lambda_reg': 0.007263002812603859}. Best is trial 12 with value: 0.004404088770974109.\n"
     ]
    },
    {
     "name": "stdout",
     "output_type": "stream",
     "text": [
      "\n",
      "TEST:\n",
      "...\n",
      "   |  F1@50 | NCRR@50 | NDCG@50 | Recall@50 | Train (s) | Test (s)\n",
      "-- + ------ + ------- + ------- + --------- + --------- + --------\n",
      "MF | 0.0044 |  0.0138 |  0.0311 |    0.1049 |    4.8473 | 267.1095\n",
      "\n"
     ]
    },
    {
     "name": "stderr",
     "output_type": "stream",
     "text": [
      "[I 2025-09-01 06:11:02,930] Trial 13 finished with value: 0.004423905007543019 and parameters: {'k': 70, 'learning_rate': 0.01682394225026944, 'lambda_reg': 0.002901308403754475}. Best is trial 13 with value: 0.004423905007543019.\n"
     ]
    },
    {
     "name": "stdout",
     "output_type": "stream",
     "text": [
      "\n",
      "TEST:\n",
      "...\n",
      "   |  F1@50 | NCRR@50 | NDCG@50 | Recall@50 | Train (s) | Test (s)\n",
      "-- + ------ + ------- + ------- + --------- + --------- + --------\n",
      "MF | 0.0044 |  0.0127 |  0.0300 |    0.1035 |    3.0426 | 261.3146\n",
      "\n"
     ]
    },
    {
     "name": "stderr",
     "output_type": "stream",
     "text": [
      "[I 2025-09-01 06:15:30,189] Trial 14 finished with value: 0.004382815207889754 and parameters: {'k': 34, 'learning_rate': 0.01672320821877955, 'lambda_reg': 0.005976209845509361}. Best is trial 13 with value: 0.004423905007543019.\n"
     ]
    },
    {
     "name": "stdout",
     "output_type": "stream",
     "text": [
      "Warning: No train_set found in best_model.\n",
      "Best MF model saved to mf_model_with_trainset.pkl\n"
     ]
    }
   ],
   "source": [
    "# Run MF optimization\n",
    "study_mf = optuna.create_study(direction='maximize')\n",
    "study_mf.optimize(objective_mf, n_trials=N)\n",
    "\n",
    "# Save best model\n",
    "best_trial = study_mf.best_trial\n",
    "if \"result\" in best_trial.user_attrs:\n",
    "    best_model = best_trial.user_attrs[\"result\"]\n",
    "\n",
    "    # Ensure train_set is included\n",
    "    if not hasattr(best_model, \"train_set\"):\n",
    "        print(\"Warning: No train_set found in best_model.\")\n",
    "    else:\n",
    "        best_model.train_set = best_model.train_set  # explicitly attach\n",
    "\n",
    "    with open(\"mf_model_with_trainset.pkl\", \"wb\") as f:\n",
    "        pickle.dump(best_model, f)\n",
    "\n",
    "    print(\"Best MF model saved to mf_model_with_trainset.pkl\")\n",
    "\n",
    "# Collect all trial results\n",
    "mf_rows = []\n",
    "for trial in study_mf.trials:\n",
    "    if trial.value is None:\n",
    "        continue\n",
    "    trial_data = {\n",
    "        \"Trial\": trial.number,\n",
    "        \"F1@50\": trial.value,\n",
    "        \"Model\": \"MF\",\n",
    "        **trial.params\n",
    "    }\n",
    "\n",
    "    # Add additional metrics from trial's result (if present)\n",
    "    if \"result\" in trial.user_attrs:\n",
    "        for metric, value in trial.user_attrs[\"result\"].metric_avg_results.items():\n",
    "            trial_data[metric] = value\n",
    "\n",
    "    mf_rows.append(trial_data)\n",
    "\n",
    "# Convert to DataFrame and export\n",
    "mf_results_df = pd.DataFrame(mf_rows)\n"
   ]
  },
  {
   "cell_type": "markdown",
   "id": "440be589-3ffe-4821-a918-0c48c47968e7",
   "metadata": {},
   "source": [
    "## Generate Top K Recommendations for Sampled 100 Users"
   ]
  },
  {
   "cell_type": "code",
   "execution_count": 24,
   "id": "cd293779-9a15-41a8-bfa9-10169ba0be95",
   "metadata": {},
   "outputs": [],
   "source": [
    "mf_topk_df = generate_top_k_recommendations(MF, uir_dataset, study_mf, k=10)"
   ]
  },
  {
   "cell_type": "markdown",
   "id": "6605cab6-e63e-4b8e-898e-77c59204ea8f",
   "metadata": {},
   "source": [
    "## Final Recommendations"
   ]
  },
  {
   "cell_type": "code",
   "execution_count": 25,
   "id": "bebc6301-f946-4342-8636-233a2c36affa",
   "metadata": {},
   "outputs": [],
   "source": [
    "mf_recommendation_df = annotate_recommendations_with_category(mf_topk_df, items_df)"
   ]
  },
  {
   "cell_type": "code",
   "execution_count": 26,
   "id": "04d46c95-0291-419c-91fe-5fbb2f714d2c",
   "metadata": {},
   "outputs": [
    {
     "data": {
      "text/html": [
       "<div>\n",
       "<style scoped>\n",
       "    .dataframe tbody tr th:only-of-type {\n",
       "        vertical-align: middle;\n",
       "    }\n",
       "\n",
       "    .dataframe tbody tr th {\n",
       "        vertical-align: top;\n",
       "    }\n",
       "\n",
       "    .dataframe thead th {\n",
       "        text-align: right;\n",
       "    }\n",
       "</style>\n",
       "<table border=\"1\" class=\"dataframe\">\n",
       "  <thead>\n",
       "    <tr style=\"text-align: right;\">\n",
       "      <th></th>\n",
       "      <th>user_id</th>\n",
       "      <th>rank</th>\n",
       "      <th>parent_asin</th>\n",
       "      <th>cat_2</th>\n",
       "      <th>cat_4</th>\n",
       "    </tr>\n",
       "  </thead>\n",
       "  <tbody>\n",
       "    <tr>\n",
       "      <th>29</th>\n",
       "      <td>AE2CA7ZNECJK5ECZRRRGMPGLZXKA</td>\n",
       "      <td>1</td>\n",
       "      <td>B09DX9KS81</td>\n",
       "      <td>camping &amp; hiking</td>\n",
       "      <td>trekking poles</td>\n",
       "    </tr>\n",
       "    <tr>\n",
       "      <th>129</th>\n",
       "      <td>AE2CA7ZNECJK5ECZRRRGMPGLZXKA</td>\n",
       "      <td>2</td>\n",
       "      <td>B00OUGNUO8</td>\n",
       "      <td>cardio training</td>\n",
       "      <td>rowers</td>\n",
       "    </tr>\n",
       "    <tr>\n",
       "      <th>229</th>\n",
       "      <td>AE2CA7ZNECJK5ECZRRRGMPGLZXKA</td>\n",
       "      <td>3</td>\n",
       "      <td>B0C5WTV2XH</td>\n",
       "      <td>camping &amp; hiking</td>\n",
       "      <td>headlamps</td>\n",
       "    </tr>\n",
       "    <tr>\n",
       "      <th>329</th>\n",
       "      <td>AE2CA7ZNECJK5ECZRRRGMPGLZXKA</td>\n",
       "      <td>4</td>\n",
       "      <td>B0BXHLWCR5</td>\n",
       "      <td>camping &amp; hiking</td>\n",
       "      <td>hand &amp; foot warmers</td>\n",
       "    </tr>\n",
       "    <tr>\n",
       "      <th>429</th>\n",
       "      <td>AE2CA7ZNECJK5ECZRRRGMPGLZXKA</td>\n",
       "      <td>5</td>\n",
       "      <td>B00F9F6OVK</td>\n",
       "      <td>camping &amp; hiking</td>\n",
       "      <td>cots &amp; hammocks</td>\n",
       "    </tr>\n",
       "  </tbody>\n",
       "</table>\n",
       "</div>"
      ],
      "text/plain": [
       "                          user_id  rank parent_asin             cat_2  \\\n",
       "29   AE2CA7ZNECJK5ECZRRRGMPGLZXKA     1  B09DX9KS81  camping & hiking   \n",
       "129  AE2CA7ZNECJK5ECZRRRGMPGLZXKA     2  B00OUGNUO8   cardio training   \n",
       "229  AE2CA7ZNECJK5ECZRRRGMPGLZXKA     3  B0C5WTV2XH  camping & hiking   \n",
       "329  AE2CA7ZNECJK5ECZRRRGMPGLZXKA     4  B0BXHLWCR5  camping & hiking   \n",
       "429  AE2CA7ZNECJK5ECZRRRGMPGLZXKA     5  B00F9F6OVK  camping & hiking   \n",
       "\n",
       "                   cat_4  \n",
       "29        trekking poles  \n",
       "129               rowers  \n",
       "229            headlamps  \n",
       "329  hand & foot warmers  \n",
       "429      cots & hammocks  "
      ]
     },
     "execution_count": 26,
     "metadata": {},
     "output_type": "execute_result"
    }
   ],
   "source": [
    "mf_recommendation_df.head()"
   ]
  },
  {
   "cell_type": "code",
   "execution_count": 27,
   "id": "1e201e39-9629-4b6f-b502-eadfc36cd5dc",
   "metadata": {},
   "outputs": [
    {
     "name": "stdout",
     "output_type": "stream",
     "text": [
      "Overall Same Main Cat but Diff Sub-cat Rate (MF): 31.60%\n"
     ]
    }
   ],
   "source": [
    "# Compute intra-category diversity rate for MF\n",
    "mf_overall_rate, mf_labeled_recs, mf_user_rates = compute_cat2_diff_cat4_rate(interacted_df, mf_recommendation_df)\n",
    "\n",
    "# Print overall result\n",
    "print(f\"Overall Same Main Cat but Diff Sub-cat Rate (MF): {mf_overall_rate:.2%}\")\n"
   ]
  },
  {
   "cell_type": "code",
   "execution_count": 28,
   "id": "da036094-7c2d-4592-bd1a-a9957d886a62",
   "metadata": {},
   "outputs": [
    {
     "data": {
      "text/html": [
       "<div>\n",
       "<style scoped>\n",
       "    .dataframe tbody tr th:only-of-type {\n",
       "        vertical-align: middle;\n",
       "    }\n",
       "\n",
       "    .dataframe tbody tr th {\n",
       "        vertical-align: top;\n",
       "    }\n",
       "\n",
       "    .dataframe thead th {\n",
       "        text-align: right;\n",
       "    }\n",
       "</style>\n",
       "<table border=\"1\" class=\"dataframe\">\n",
       "  <thead>\n",
       "    <tr style=\"text-align: right;\">\n",
       "      <th></th>\n",
       "      <th>user_id</th>\n",
       "      <th>rank</th>\n",
       "      <th>parent_asin</th>\n",
       "      <th>cat_2</th>\n",
       "      <th>cat_4</th>\n",
       "      <th>cat_match</th>\n",
       "    </tr>\n",
       "  </thead>\n",
       "  <tbody>\n",
       "    <tr>\n",
       "      <th>29</th>\n",
       "      <td>AE2CA7ZNECJK5ECZRRRGMPGLZXKA</td>\n",
       "      <td>1</td>\n",
       "      <td>B09DX9KS81</td>\n",
       "      <td>camping &amp; hiking</td>\n",
       "      <td>trekking poles</td>\n",
       "      <td>same_cat2_diff_cat4</td>\n",
       "    </tr>\n",
       "    <tr>\n",
       "      <th>129</th>\n",
       "      <td>AE2CA7ZNECJK5ECZRRRGMPGLZXKA</td>\n",
       "      <td>2</td>\n",
       "      <td>B00OUGNUO8</td>\n",
       "      <td>cardio training</td>\n",
       "      <td>rowers</td>\n",
       "      <td>diff_cat2</td>\n",
       "    </tr>\n",
       "    <tr>\n",
       "      <th>229</th>\n",
       "      <td>AE2CA7ZNECJK5ECZRRRGMPGLZXKA</td>\n",
       "      <td>3</td>\n",
       "      <td>B0C5WTV2XH</td>\n",
       "      <td>camping &amp; hiking</td>\n",
       "      <td>headlamps</td>\n",
       "      <td>same_cat2_diff_cat4</td>\n",
       "    </tr>\n",
       "    <tr>\n",
       "      <th>329</th>\n",
       "      <td>AE2CA7ZNECJK5ECZRRRGMPGLZXKA</td>\n",
       "      <td>4</td>\n",
       "      <td>B0BXHLWCR5</td>\n",
       "      <td>camping &amp; hiking</td>\n",
       "      <td>hand &amp; foot warmers</td>\n",
       "      <td>same_cat2_diff_cat4</td>\n",
       "    </tr>\n",
       "    <tr>\n",
       "      <th>429</th>\n",
       "      <td>AE2CA7ZNECJK5ECZRRRGMPGLZXKA</td>\n",
       "      <td>5</td>\n",
       "      <td>B00F9F6OVK</td>\n",
       "      <td>camping &amp; hiking</td>\n",
       "      <td>cots &amp; hammocks</td>\n",
       "      <td>same_cat2_diff_cat4</td>\n",
       "    </tr>\n",
       "  </tbody>\n",
       "</table>\n",
       "</div>"
      ],
      "text/plain": [
       "                          user_id  rank parent_asin             cat_2  \\\n",
       "29   AE2CA7ZNECJK5ECZRRRGMPGLZXKA     1  B09DX9KS81  camping & hiking   \n",
       "129  AE2CA7ZNECJK5ECZRRRGMPGLZXKA     2  B00OUGNUO8   cardio training   \n",
       "229  AE2CA7ZNECJK5ECZRRRGMPGLZXKA     3  B0C5WTV2XH  camping & hiking   \n",
       "329  AE2CA7ZNECJK5ECZRRRGMPGLZXKA     4  B0BXHLWCR5  camping & hiking   \n",
       "429  AE2CA7ZNECJK5ECZRRRGMPGLZXKA     5  B00F9F6OVK  camping & hiking   \n",
       "\n",
       "                   cat_4            cat_match  \n",
       "29        trekking poles  same_cat2_diff_cat4  \n",
       "129               rowers            diff_cat2  \n",
       "229            headlamps  same_cat2_diff_cat4  \n",
       "329  hand & foot warmers  same_cat2_diff_cat4  \n",
       "429      cots & hammocks  same_cat2_diff_cat4  "
      ]
     },
     "execution_count": 28,
     "metadata": {},
     "output_type": "execute_result"
    }
   ],
   "source": [
    "mf_labeled_recs.head()"
   ]
  },
  {
   "cell_type": "markdown",
   "id": "b73d67ae-6b5c-4e4e-a154-f9fb548a3648",
   "metadata": {},
   "source": [
    "# BPR"
   ]
  },
  {
   "cell_type": "code",
   "execution_count": 29,
   "id": "b57c5b7d-4de1-403c-8578-3e2d1f86ebe1",
   "metadata": {},
   "outputs": [
    {
     "name": "stderr",
     "output_type": "stream",
     "text": [
      "[I 2025-09-01 06:16:00,621] A new study created in memory with name: no-name-2b2e04db-d685-44d0-9b16-bf49081e0f37\n",
      "/usr/local/lib/python3.12/site-packages/cornac/data/dataset.py:335: UserWarning: 1077 duplicated observations are removed!\n",
      "  warnings.warn(\"%d duplicated observations are removed!\" % dup_count)\n",
      "/usr/local/lib/python3.12/site-packages/cornac/data/dataset.py:335: UserWarning: 39 duplicated observations are removed!\n",
      "  warnings.warn(\"%d duplicated observations are removed!\" % dup_count)\n"
     ]
    },
    {
     "name": "stdout",
     "output_type": "stream",
     "text": [
      "\n",
      "TEST:\n",
      "...\n",
      "    |  F1@50 | NCRR@50 | NDCG@50 | Recall@50 | Train (s) | Test (s)\n",
      "--- + ------ + ------- + ------- + --------- + --------- + --------\n",
      "BPR | 0.0117 |  0.0395 |  0.0852 |    0.2745 |  131.8775 | 299.8455\n",
      "\n"
     ]
    },
    {
     "name": "stderr",
     "output_type": "stream",
     "text": [
      "[I 2025-09-01 06:23:15,371] Trial 0 finished with value: 0.011711722194874404 and parameters: {'k': 200, 'learning_rate': 0.010305710118505595, 'lambda_reg': 0.06776984464662328}. Best is trial 0 with value: 0.011711722194874404.\n"
     ]
    },
    {
     "name": "stdout",
     "output_type": "stream",
     "text": [
      "\n",
      "TEST:\n",
      "...\n",
      "    |  F1@50 | NCRR@50 | NDCG@50 | Recall@50 | Train (s) | Test (s)\n",
      "--- + ------ + ------- + ------- + --------- + --------- + --------\n",
      "BPR | 0.0134 |  0.0589 |  0.1090 |    0.3131 |  123.2717 | 302.8556\n",
      "\n"
     ]
    },
    {
     "name": "stderr",
     "output_type": "stream",
     "text": [
      "[I 2025-09-01 06:30:24,449] Trial 1 finished with value: 0.013382116046413872 and parameters: {'k': 165, 'learning_rate': 0.010287452509615066, 'lambda_reg': 0.042274902300089866}. Best is trial 1 with value: 0.013382116046413872.\n"
     ]
    },
    {
     "name": "stdout",
     "output_type": "stream",
     "text": [
      "\n",
      "TEST:\n",
      "...\n",
      "    |  F1@50 | NCRR@50 | NDCG@50 | Recall@50 | Train (s) | Test (s)\n",
      "--- + ------ + ------- + ------- + --------- + --------- + --------\n",
      "BPR | 0.0138 |  0.0719 |  0.1215 |    0.3226 |  127.3270 | 294.0800\n",
      "\n"
     ]
    },
    {
     "name": "stderr",
     "output_type": "stream",
     "text": [
      "[I 2025-09-01 06:37:28,955] Trial 2 finished with value: 0.013770878387956449 and parameters: {'k': 186, 'learning_rate': 0.011694148200934947, 'lambda_reg': 0.0015032482679339168}. Best is trial 2 with value: 0.013770878387956449.\n"
     ]
    },
    {
     "name": "stdout",
     "output_type": "stream",
     "text": [
      "\n",
      "TEST:\n",
      "...\n",
      "    |  F1@50 | NCRR@50 | NDCG@50 | Recall@50 | Train (s) | Test (s)\n",
      "--- + ------ + ------- + ------- + --------- + --------- + --------\n",
      "BPR | 0.0136 |  0.0654 |  0.1144 |    0.3178 |  123.4527 | 302.8880\n",
      "\n"
     ]
    },
    {
     "name": "stderr",
     "output_type": "stream",
     "text": [
      "[I 2025-09-01 06:44:38,415] Trial 3 finished with value: 0.013566753296212763 and parameters: {'k': 149, 'learning_rate': 0.004620346350366421, 'lambda_reg': 0.004549499335617619}. Best is trial 2 with value: 0.013770878387956449.\n"
     ]
    },
    {
     "name": "stdout",
     "output_type": "stream",
     "text": [
      "\n",
      "TEST:\n",
      "...\n",
      "    |  F1@50 | NCRR@50 | NDCG@50 | Recall@50 | Train (s) | Test (s)\n",
      "--- + ------ + ------- + ------- + --------- + --------- + --------\n",
      "BPR | 0.0103 |  0.0360 |  0.0768 |    0.2434 |  518.1833 | 294.4508\n",
      "\n"
     ]
    },
    {
     "name": "stderr",
     "output_type": "stream",
     "text": [
      "[I 2025-09-01 06:58:14,181] Trial 4 finished with value: 0.010312921221109685 and parameters: {'k': 197, 'learning_rate': 0.0017320237012261484, 'lambda_reg': 0.01549400966375203}. Best is trial 2 with value: 0.013770878387956449.\n"
     ]
    },
    {
     "name": "stdout",
     "output_type": "stream",
     "text": [
      "\n",
      "TEST:\n",
      "...\n",
      "    |  F1@50 | NCRR@50 | NDCG@50 | Recall@50 | Train (s) | Test (s)\n",
      "--- + ------ + ------- + ------- + --------- + --------- + --------\n",
      "BPR | 0.0106 |  0.0363 |  0.0780 |    0.2495 |  133.0873 | 293.7645\n",
      "\n"
     ]
    },
    {
     "name": "stderr",
     "output_type": "stream",
     "text": [
      "[I 2025-09-01 07:05:24,112] Trial 5 finished with value: 0.010585799576414845 and parameters: {'k': 197, 'learning_rate': 0.001437277713366045, 'lambda_reg': 0.00835045803342913}. Best is trial 2 with value: 0.013770878387956449.\n"
     ]
    },
    {
     "name": "stdout",
     "output_type": "stream",
     "text": [
      "\n",
      "TEST:\n",
      "...\n",
      "    |  F1@50 | NCRR@50 | NDCG@50 | Recall@50 | Train (s) | Test (s)\n",
      "--- + ------ + ------- + ------- + --------- + --------- + --------\n",
      "BPR | 0.0146 |  0.0897 |  0.1398 |    0.3402 |  115.7051 | 291.6662\n",
      "\n"
     ]
    },
    {
     "name": "stderr",
     "output_type": "stream",
     "text": [
      "[I 2025-09-01 07:12:14,337] Trial 6 finished with value: 0.01455681514660474 and parameters: {'k': 148, 'learning_rate': 0.04533218830222551, 'lambda_reg': 0.004856216842410588}. Best is trial 6 with value: 0.01455681514660474.\n"
     ]
    },
    {
     "name": "stdout",
     "output_type": "stream",
     "text": [
      "\n",
      "TEST:\n",
      "...\n",
      "    |  F1@50 | NCRR@50 | NDCG@50 | Recall@50 | Train (s) | Test (s)\n",
      "--- + ------ + ------- + ------- + --------- + --------- + --------\n",
      "BPR | 0.0104 |  0.0361 |  0.0769 |    0.2450 |  110.8562 | 318.3061\n",
      "\n"
     ]
    },
    {
     "name": "stderr",
     "output_type": "stream",
     "text": [
      "[I 2025-09-01 07:19:26,223] Trial 7 finished with value: 0.010377231651478759 and parameters: {'k': 120, 'learning_rate': 0.003885512403391974, 'lambda_reg': 0.09790370452166856}. Best is trial 6 with value: 0.01455681514660474.\n"
     ]
    },
    {
     "name": "stdout",
     "output_type": "stream",
     "text": [
      "\n",
      "TEST:\n",
      "...\n",
      "    |  F1@50 | NCRR@50 | NDCG@50 | Recall@50 | Train (s) | Test (s)\n",
      "--- + ------ + ------- + ------- + --------- + --------- + --------\n",
      "BPR | 0.0161 |  0.0791 |  0.1371 |    0.3743 |  131.0122 | 290.1423\n",
      "\n"
     ]
    },
    {
     "name": "stderr",
     "output_type": "stream",
     "text": [
      "[I 2025-09-01 07:26:30,453] Trial 8 finished with value: 0.016060284293854 and parameters: {'k': 189, 'learning_rate': 0.018287561127409983, 'lambda_reg': 0.020985630631793123}. Best is trial 8 with value: 0.016060284293854.\n"
     ]
    },
    {
     "name": "stdout",
     "output_type": "stream",
     "text": [
      "\n",
      "TEST:\n",
      "...\n",
      "    |  F1@50 | NCRR@50 | NDCG@50 | Recall@50 | Train (s) | Test (s)\n",
      "--- + ------ + ------- + ------- + --------- + --------- + --------\n",
      "BPR | 0.0134 |  0.0582 |  0.1085 |    0.3143 |  107.3957 | 286.9721\n",
      "\n"
     ]
    },
    {
     "name": "stderr",
     "output_type": "stream",
     "text": [
      "[I 2025-09-01 07:33:07,738] Trial 9 finished with value: 0.013419346845033892 and parameters: {'k': 104, 'learning_rate': 0.009858808083934849, 'lambda_reg': 0.039970827520593256}. Best is trial 8 with value: 0.016060284293854.\n"
     ]
    },
    {
     "name": "stdout",
     "output_type": "stream",
     "text": [
      "\n",
      "TEST:\n",
      "...\n",
      "    |  F1@50 | NCRR@50 | NDCG@50 | Recall@50 | Train (s) | Test (s)\n",
      "--- + ------ + ------- + ------- + --------- + --------- + --------\n",
      "BPR | 0.0164 |  0.0904 |  0.1486 |    0.3818 |  124.6996 | 295.3942\n",
      "\n"
     ]
    },
    {
     "name": "stderr",
     "output_type": "stream",
     "text": [
      "[I 2025-09-01 07:40:10,779] Trial 10 finished with value: 0.016363253695420427 and parameters: {'k': 166, 'learning_rate': 0.03051020489394059, 'lambda_reg': 0.020522067527395577}. Best is trial 10 with value: 0.016363253695420427.\n"
     ]
    },
    {
     "name": "stdout",
     "output_type": "stream",
     "text": [
      "\n",
      "TEST:\n",
      "...\n",
      "    |  F1@50 | NCRR@50 | NDCG@50 | Recall@50 | Train (s) | Test (s)\n",
      "--- + ------ + ------- + ------- + --------- + --------- + --------\n",
      "BPR | 0.0162 |  0.0939 |  0.1509 |    0.3788 |  127.3069 | 294.6568\n",
      "\n"
     ]
    },
    {
     "name": "stderr",
     "output_type": "stream",
     "text": [
      "[I 2025-09-01 07:47:15,712] Trial 11 finished with value: 0.016245471824585293 and parameters: {'k': 171, 'learning_rate': 0.03542885423459813, 'lambda_reg': 0.018628391565240737}. Best is trial 10 with value: 0.016363253695420427.\n"
     ]
    },
    {
     "name": "stdout",
     "output_type": "stream",
     "text": [
      "\n",
      "TEST:\n",
      "...\n",
      "    |  F1@50 | NCRR@50 | NDCG@50 | Recall@50 | Train (s) | Test (s)\n",
      "--- + ------ + ------- + ------- + --------- + --------- + --------\n",
      "BPR | 0.0163 |  0.0967 |  0.1537 |    0.3803 |  123.1618 | 291.1568\n",
      "\n"
     ]
    },
    {
     "name": "stderr",
     "output_type": "stream",
     "text": [
      "[I 2025-09-01 07:54:13,031] Trial 12 finished with value: 0.016286749105513063 and parameters: {'k': 167, 'learning_rate': 0.04151644256337581, 'lambda_reg': 0.02033648379655572}. Best is trial 10 with value: 0.016363253695420427.\n"
     ]
    },
    {
     "name": "stdout",
     "output_type": "stream",
     "text": [
      "\n",
      "TEST:\n",
      "...\n",
      "    |  F1@50 | NCRR@50 | NDCG@50 | Recall@50 | Train (s) | Test (s)\n",
      "--- + ------ + ------- + ------- + --------- + --------- + --------\n",
      "BPR | 0.0154 |  0.0859 |  0.1407 |    0.3602 |  125.7710 | 295.9960\n",
      "\n"
     ]
    },
    {
     "name": "stderr",
     "output_type": "stream",
     "text": [
      "[I 2025-09-01 08:01:17,889] Trial 13 finished with value: 0.015416954340352342 and parameters: {'k': 166, 'learning_rate': 0.024374193567667016, 'lambda_reg': 0.008360385197400524}. Best is trial 10 with value: 0.016363253695420427.\n"
     ]
    },
    {
     "name": "stdout",
     "output_type": "stream",
     "text": [
      "\n",
      "TEST:\n",
      "...\n",
      "    |  F1@50 | NCRR@50 | NDCG@50 | Recall@50 | Train (s) | Test (s)\n",
      "--- + ------ + ------- + ------- + --------- + --------- + --------\n",
      "BPR | 0.0163 |  0.0848 |  0.1436 |    0.3805 |  113.8416 | 287.8544\n",
      "\n"
     ]
    },
    {
     "name": "stderr",
     "output_type": "stream",
     "text": [
      "[I 2025-09-01 08:08:02,592] Trial 14 finished with value: 0.01629919941691622 and parameters: {'k': 136, 'learning_rate': 0.026746461464024755, 'lambda_reg': 0.031230327017152643}. Best is trial 10 with value: 0.016363253695420427.\n"
     ]
    },
    {
     "name": "stdout",
     "output_type": "stream",
     "text": [
      "Warning: No train_set found in best_model.\n",
      "Best BPR model saved to bpr_model_with_trainset.pkl\n"
     ]
    }
   ],
   "source": [
    "# Run BPR optimization\n",
    "study_bpr = optuna.create_study(direction='maximize')\n",
    "study_bpr.optimize(objective_bpr, n_trials=N)\n",
    "\n",
    "# Save best model\n",
    "best_trial = study_bpr.best_trial\n",
    "if \"result\" in best_trial.user_attrs:\n",
    "    best_model = best_trial.user_attrs[\"result\"]\n",
    "\n",
    "    # Ensure train_set is included\n",
    "    if not hasattr(best_model, \"train_set\"):\n",
    "        print(\"Warning: No train_set found in best_model.\")\n",
    "    else:\n",
    "        best_model.train_set = best_model.train_set  # explicitly attach\n",
    "\n",
    "    with open(\"bpr_model_with_trainset.pkl\", \"wb\") as f:\n",
    "        pickle.dump(best_model, f)\n",
    "\n",
    "    print(\"Best BPR model saved to bpr_model_with_trainset.pkl\")\n",
    "\n",
    "# Collect all trial results\n",
    "bpr_rows = []\n",
    "for trial in study_bpr.trials:\n",
    "    if trial.value is None:\n",
    "        continue\n",
    "    trial_data = {\n",
    "        \"Trial\": trial.number,\n",
    "        \"F1@50\": trial.value,\n",
    "        \"Model\": \"BPR\",\n",
    "        **trial.params\n",
    "    }\n",
    "\n",
    "    # Add other evaluation metrics from user_attrs[\"result\"]\n",
    "    if \"result\" in trial.user_attrs:\n",
    "        for metric, value in trial.user_attrs[\"result\"].metric_avg_results.items():\n",
    "            trial_data[metric] = value\n",
    "\n",
    "    bpr_rows.append(trial_data)\n",
    "\n",
    "# Convert to DataFrame and export\n",
    "bpr_results_df = pd.DataFrame(bpr_rows)\n"
   ]
  },
  {
   "cell_type": "markdown",
   "id": "229509bc-11be-4359-a875-378e4d8ea3b5",
   "metadata": {},
   "source": [
    "## Generate Top K Recommendations for Sampled 100 Users"
   ]
  },
  {
   "cell_type": "code",
   "execution_count": 30,
   "id": "b4d86861-be31-4063-803c-3b19f9dffbe6",
   "metadata": {},
   "outputs": [],
   "source": [
    "bpr_topk_df = generate_top_k_recommendations(BPR, uir_dataset, study_bpr, k=10)"
   ]
  },
  {
   "cell_type": "code",
   "execution_count": 31,
   "id": "3264b36f-e0b6-4017-bc17-69ea95f4b8e5",
   "metadata": {},
   "outputs": [
    {
     "data": {
      "text/html": [
       "<div>\n",
       "<style scoped>\n",
       "    .dataframe tbody tr th:only-of-type {\n",
       "        vertical-align: middle;\n",
       "    }\n",
       "\n",
       "    .dataframe tbody tr th {\n",
       "        vertical-align: top;\n",
       "    }\n",
       "\n",
       "    .dataframe thead th {\n",
       "        text-align: right;\n",
       "    }\n",
       "</style>\n",
       "<table border=\"1\" class=\"dataframe\">\n",
       "  <thead>\n",
       "    <tr style=\"text-align: right;\">\n",
       "      <th></th>\n",
       "      <th>0</th>\n",
       "      <th>1</th>\n",
       "      <th>2</th>\n",
       "      <th>3</th>\n",
       "      <th>4</th>\n",
       "      <th>5</th>\n",
       "      <th>6</th>\n",
       "      <th>7</th>\n",
       "      <th>8</th>\n",
       "      <th>9</th>\n",
       "    </tr>\n",
       "    <tr>\n",
       "      <th>user_id</th>\n",
       "      <th></th>\n",
       "      <th></th>\n",
       "      <th></th>\n",
       "      <th></th>\n",
       "      <th></th>\n",
       "      <th></th>\n",
       "      <th></th>\n",
       "      <th></th>\n",
       "      <th></th>\n",
       "      <th></th>\n",
       "    </tr>\n",
       "  </thead>\n",
       "  <tbody>\n",
       "    <tr>\n",
       "      <th>AHSQXZIETCR5RZFI5PVEQGISVJOA</th>\n",
       "      <td>B00NWXLQD2</td>\n",
       "      <td>B09LW2KHPM</td>\n",
       "      <td>B09MJKJYLQ</td>\n",
       "      <td>B01L6RE7Z4</td>\n",
       "      <td>B07TDPP7LQ</td>\n",
       "      <td>B07BQRWTDJ</td>\n",
       "      <td>B094DXJZPN</td>\n",
       "      <td>B08GM3QY5N</td>\n",
       "      <td>B00NPLSZF8</td>\n",
       "      <td>B01A4W8AUK</td>\n",
       "    </tr>\n",
       "    <tr>\n",
       "      <th>AHWK7DFBUIQVZU6H2O64VFJR3RWA</th>\n",
       "      <td>B00NWXLQD2</td>\n",
       "      <td>B09LW2KHPM</td>\n",
       "      <td>B07YFXSG73</td>\n",
       "      <td>B09MJKJYLQ</td>\n",
       "      <td>B01L6RE7Z4</td>\n",
       "      <td>B094DXJZPN</td>\n",
       "      <td>B07BQRWTDJ</td>\n",
       "      <td>B07TDPP7LQ</td>\n",
       "      <td>B00NPLSZF8</td>\n",
       "      <td>B08GM3QY5N</td>\n",
       "    </tr>\n",
       "    <tr>\n",
       "      <th>AGQTTANUKMPEDBG4DVG45FTLQMCQ</th>\n",
       "      <td>B00NWXLQD2</td>\n",
       "      <td>B09LW2KHPM</td>\n",
       "      <td>B09MJKJYLQ</td>\n",
       "      <td>B07BQRWTDJ</td>\n",
       "      <td>B01L6RE7Z4</td>\n",
       "      <td>B07TDPP7LQ</td>\n",
       "      <td>B094DXJZPN</td>\n",
       "      <td>B08GM3QY5N</td>\n",
       "      <td>B00NPLSZF8</td>\n",
       "      <td>B01A4W8AUK</td>\n",
       "    </tr>\n",
       "    <tr>\n",
       "      <th>AEWX5IH5DIMGDSK66USSOGTUDZGQ</th>\n",
       "      <td>B00NWXLQD2</td>\n",
       "      <td>B07BJ9NLDJ</td>\n",
       "      <td>B09LW2KHPM</td>\n",
       "      <td>B09MJKJYLQ</td>\n",
       "      <td>B094DXJZPN</td>\n",
       "      <td>B07BQRWTDJ</td>\n",
       "      <td>B00NPLSZF8</td>\n",
       "      <td>B07TDPP7LQ</td>\n",
       "      <td>B0BX5QFWQN</td>\n",
       "      <td>B01L6RE7Z4</td>\n",
       "    </tr>\n",
       "    <tr>\n",
       "      <th>AE27CZZMARXNW7ONE4U73YWWCJKA</th>\n",
       "      <td>B00NWXLQD2</td>\n",
       "      <td>B09LW2KHPM</td>\n",
       "      <td>B09MJKJYLQ</td>\n",
       "      <td>B07TDPP7LQ</td>\n",
       "      <td>B07BQRWTDJ</td>\n",
       "      <td>B01L6RE7Z4</td>\n",
       "      <td>B094DXJZPN</td>\n",
       "      <td>B08GM3QY5N</td>\n",
       "      <td>B00NPLSZF8</td>\n",
       "      <td>B01A4W8AUK</td>\n",
       "    </tr>\n",
       "  </tbody>\n",
       "</table>\n",
       "</div>"
      ],
      "text/plain": [
       "                                       0           1           2           3  \\\n",
       "user_id                                                                        \n",
       "AHSQXZIETCR5RZFI5PVEQGISVJOA  B00NWXLQD2  B09LW2KHPM  B09MJKJYLQ  B01L6RE7Z4   \n",
       "AHWK7DFBUIQVZU6H2O64VFJR3RWA  B00NWXLQD2  B09LW2KHPM  B07YFXSG73  B09MJKJYLQ   \n",
       "AGQTTANUKMPEDBG4DVG45FTLQMCQ  B00NWXLQD2  B09LW2KHPM  B09MJKJYLQ  B07BQRWTDJ   \n",
       "AEWX5IH5DIMGDSK66USSOGTUDZGQ  B00NWXLQD2  B07BJ9NLDJ  B09LW2KHPM  B09MJKJYLQ   \n",
       "AE27CZZMARXNW7ONE4U73YWWCJKA  B00NWXLQD2  B09LW2KHPM  B09MJKJYLQ  B07TDPP7LQ   \n",
       "\n",
       "                                       4           5           6           7  \\\n",
       "user_id                                                                        \n",
       "AHSQXZIETCR5RZFI5PVEQGISVJOA  B07TDPP7LQ  B07BQRWTDJ  B094DXJZPN  B08GM3QY5N   \n",
       "AHWK7DFBUIQVZU6H2O64VFJR3RWA  B01L6RE7Z4  B094DXJZPN  B07BQRWTDJ  B07TDPP7LQ   \n",
       "AGQTTANUKMPEDBG4DVG45FTLQMCQ  B01L6RE7Z4  B07TDPP7LQ  B094DXJZPN  B08GM3QY5N   \n",
       "AEWX5IH5DIMGDSK66USSOGTUDZGQ  B094DXJZPN  B07BQRWTDJ  B00NPLSZF8  B07TDPP7LQ   \n",
       "AE27CZZMARXNW7ONE4U73YWWCJKA  B07BQRWTDJ  B01L6RE7Z4  B094DXJZPN  B08GM3QY5N   \n",
       "\n",
       "                                       8           9  \n",
       "user_id                                               \n",
       "AHSQXZIETCR5RZFI5PVEQGISVJOA  B00NPLSZF8  B01A4W8AUK  \n",
       "AHWK7DFBUIQVZU6H2O64VFJR3RWA  B00NPLSZF8  B08GM3QY5N  \n",
       "AGQTTANUKMPEDBG4DVG45FTLQMCQ  B00NPLSZF8  B01A4W8AUK  \n",
       "AEWX5IH5DIMGDSK66USSOGTUDZGQ  B0BX5QFWQN  B01L6RE7Z4  \n",
       "AE27CZZMARXNW7ONE4U73YWWCJKA  B00NPLSZF8  B01A4W8AUK  "
      ]
     },
     "execution_count": 31,
     "metadata": {},
     "output_type": "execute_result"
    }
   ],
   "source": [
    "bpr_topk_df.head()"
   ]
  },
  {
   "cell_type": "markdown",
   "id": "aa6ea8d7-804f-4f05-8880-b074ba99c2af",
   "metadata": {},
   "source": [
    "## Final Recommendations"
   ]
  },
  {
   "cell_type": "code",
   "execution_count": 32,
   "id": "0b5c5c4f-bc6a-4761-a1d8-9564603f0c31",
   "metadata": {},
   "outputs": [],
   "source": [
    "bpr_recommendation_df = annotate_recommendations_with_category(bpr_topk_df, items_df)"
   ]
  },
  {
   "cell_type": "code",
   "execution_count": 33,
   "id": "f2efa072-3051-42fc-8535-b7dfbab73881",
   "metadata": {},
   "outputs": [
    {
     "data": {
      "text/html": [
       "<div>\n",
       "<style scoped>\n",
       "    .dataframe tbody tr th:only-of-type {\n",
       "        vertical-align: middle;\n",
       "    }\n",
       "\n",
       "    .dataframe tbody tr th {\n",
       "        vertical-align: top;\n",
       "    }\n",
       "\n",
       "    .dataframe thead th {\n",
       "        text-align: right;\n",
       "    }\n",
       "</style>\n",
       "<table border=\"1\" class=\"dataframe\">\n",
       "  <thead>\n",
       "    <tr style=\"text-align: right;\">\n",
       "      <th></th>\n",
       "      <th>user_id</th>\n",
       "      <th>rank</th>\n",
       "      <th>parent_asin</th>\n",
       "      <th>cat_2</th>\n",
       "      <th>cat_4</th>\n",
       "    </tr>\n",
       "  </thead>\n",
       "  <tbody>\n",
       "    <tr>\n",
       "      <th>4</th>\n",
       "      <td>AE27CZZMARXNW7ONE4U73YWWCJKA</td>\n",
       "      <td>1</td>\n",
       "      <td>B00NWXLQD2</td>\n",
       "      <td>fitness technology</td>\n",
       "      <td>activity &amp; fitness trackers</td>\n",
       "    </tr>\n",
       "    <tr>\n",
       "      <th>104</th>\n",
       "      <td>AE27CZZMARXNW7ONE4U73YWWCJKA</td>\n",
       "      <td>2</td>\n",
       "      <td>B09LW2KHPM</td>\n",
       "      <td>camping &amp; hiking</td>\n",
       "      <td>lanterns</td>\n",
       "    </tr>\n",
       "    <tr>\n",
       "      <th>204</th>\n",
       "      <td>AE27CZZMARXNW7ONE4U73YWWCJKA</td>\n",
       "      <td>3</td>\n",
       "      <td>B09MJKJYLQ</td>\n",
       "      <td>strength training equipment</td>\n",
       "      <td>resistance bands</td>\n",
       "    </tr>\n",
       "    <tr>\n",
       "      <th>304</th>\n",
       "      <td>AE27CZZMARXNW7ONE4U73YWWCJKA</td>\n",
       "      <td>4</td>\n",
       "      <td>B07TDPP7LQ</td>\n",
       "      <td>fitness technology</td>\n",
       "      <td>heart rate monitors</td>\n",
       "    </tr>\n",
       "    <tr>\n",
       "      <th>404</th>\n",
       "      <td>AE27CZZMARXNW7ONE4U73YWWCJKA</td>\n",
       "      <td>5</td>\n",
       "      <td>B07BQRWTDJ</td>\n",
       "      <td>camping &amp; hiking</td>\n",
       "      <td>air mattresses</td>\n",
       "    </tr>\n",
       "  </tbody>\n",
       "</table>\n",
       "</div>"
      ],
      "text/plain": [
       "                          user_id  rank parent_asin  \\\n",
       "4    AE27CZZMARXNW7ONE4U73YWWCJKA     1  B00NWXLQD2   \n",
       "104  AE27CZZMARXNW7ONE4U73YWWCJKA     2  B09LW2KHPM   \n",
       "204  AE27CZZMARXNW7ONE4U73YWWCJKA     3  B09MJKJYLQ   \n",
       "304  AE27CZZMARXNW7ONE4U73YWWCJKA     4  B07TDPP7LQ   \n",
       "404  AE27CZZMARXNW7ONE4U73YWWCJKA     5  B07BQRWTDJ   \n",
       "\n",
       "                           cat_2                        cat_4  \n",
       "4             fitness technology  activity & fitness trackers  \n",
       "104             camping & hiking                     lanterns  \n",
       "204  strength training equipment             resistance bands  \n",
       "304           fitness technology          heart rate monitors  \n",
       "404             camping & hiking               air mattresses  "
      ]
     },
     "execution_count": 33,
     "metadata": {},
     "output_type": "execute_result"
    }
   ],
   "source": [
    "bpr_recommendation_df.head()"
   ]
  },
  {
   "cell_type": "code",
   "execution_count": 34,
   "id": "d35cbc07-9fdc-4c95-bb81-eeabe75f8995",
   "metadata": {},
   "outputs": [
    {
     "name": "stdout",
     "output_type": "stream",
     "text": [
      "Overall Same Main Cat but Diff Sub-cat Rate: 23.40%\n"
     ]
    }
   ],
   "source": [
    "bpr_overall_rate, bpr_labeled_recs, bpr_user_rates = compute_cat2_diff_cat4_rate(interacted_df, bpr_recommendation_df)\n",
    "\n",
    "print(f\"Overall Same Main Cat but Diff Sub-cat Rate: {bpr_overall_rate:.2%}\")\n"
   ]
  },
  {
   "cell_type": "code",
   "execution_count": 35,
   "id": "dadaf820-de91-426f-961b-8b4495ff6683",
   "metadata": {},
   "outputs": [
    {
     "data": {
      "text/html": [
       "<div>\n",
       "<style scoped>\n",
       "    .dataframe tbody tr th:only-of-type {\n",
       "        vertical-align: middle;\n",
       "    }\n",
       "\n",
       "    .dataframe tbody tr th {\n",
       "        vertical-align: top;\n",
       "    }\n",
       "\n",
       "    .dataframe thead th {\n",
       "        text-align: right;\n",
       "    }\n",
       "</style>\n",
       "<table border=\"1\" class=\"dataframe\">\n",
       "  <thead>\n",
       "    <tr style=\"text-align: right;\">\n",
       "      <th></th>\n",
       "      <th>user_id</th>\n",
       "      <th>rank</th>\n",
       "      <th>parent_asin</th>\n",
       "      <th>cat_2</th>\n",
       "      <th>cat_4</th>\n",
       "      <th>cat_match</th>\n",
       "    </tr>\n",
       "  </thead>\n",
       "  <tbody>\n",
       "    <tr>\n",
       "      <th>4</th>\n",
       "      <td>AE27CZZMARXNW7ONE4U73YWWCJKA</td>\n",
       "      <td>1</td>\n",
       "      <td>B00NWXLQD2</td>\n",
       "      <td>fitness technology</td>\n",
       "      <td>activity &amp; fitness trackers</td>\n",
       "      <td>diff_cat2</td>\n",
       "    </tr>\n",
       "    <tr>\n",
       "      <th>104</th>\n",
       "      <td>AE27CZZMARXNW7ONE4U73YWWCJKA</td>\n",
       "      <td>2</td>\n",
       "      <td>B09LW2KHPM</td>\n",
       "      <td>camping &amp; hiking</td>\n",
       "      <td>lanterns</td>\n",
       "      <td>same_cat2_diff_cat4</td>\n",
       "    </tr>\n",
       "    <tr>\n",
       "      <th>204</th>\n",
       "      <td>AE27CZZMARXNW7ONE4U73YWWCJKA</td>\n",
       "      <td>3</td>\n",
       "      <td>B09MJKJYLQ</td>\n",
       "      <td>strength training equipment</td>\n",
       "      <td>resistance bands</td>\n",
       "      <td>diff_cat2</td>\n",
       "    </tr>\n",
       "    <tr>\n",
       "      <th>304</th>\n",
       "      <td>AE27CZZMARXNW7ONE4U73YWWCJKA</td>\n",
       "      <td>4</td>\n",
       "      <td>B07TDPP7LQ</td>\n",
       "      <td>fitness technology</td>\n",
       "      <td>heart rate monitors</td>\n",
       "      <td>diff_cat2</td>\n",
       "    </tr>\n",
       "    <tr>\n",
       "      <th>404</th>\n",
       "      <td>AE27CZZMARXNW7ONE4U73YWWCJKA</td>\n",
       "      <td>5</td>\n",
       "      <td>B07BQRWTDJ</td>\n",
       "      <td>camping &amp; hiking</td>\n",
       "      <td>air mattresses</td>\n",
       "      <td>same_cat2_diff_cat4</td>\n",
       "    </tr>\n",
       "  </tbody>\n",
       "</table>\n",
       "</div>"
      ],
      "text/plain": [
       "                          user_id  rank parent_asin  \\\n",
       "4    AE27CZZMARXNW7ONE4U73YWWCJKA     1  B00NWXLQD2   \n",
       "104  AE27CZZMARXNW7ONE4U73YWWCJKA     2  B09LW2KHPM   \n",
       "204  AE27CZZMARXNW7ONE4U73YWWCJKA     3  B09MJKJYLQ   \n",
       "304  AE27CZZMARXNW7ONE4U73YWWCJKA     4  B07TDPP7LQ   \n",
       "404  AE27CZZMARXNW7ONE4U73YWWCJKA     5  B07BQRWTDJ   \n",
       "\n",
       "                           cat_2                        cat_4  \\\n",
       "4             fitness technology  activity & fitness trackers   \n",
       "104             camping & hiking                     lanterns   \n",
       "204  strength training equipment             resistance bands   \n",
       "304           fitness technology          heart rate monitors   \n",
       "404             camping & hiking               air mattresses   \n",
       "\n",
       "               cat_match  \n",
       "4              diff_cat2  \n",
       "104  same_cat2_diff_cat4  \n",
       "204            diff_cat2  \n",
       "304            diff_cat2  \n",
       "404  same_cat2_diff_cat4  "
      ]
     },
     "execution_count": 35,
     "metadata": {},
     "output_type": "execute_result"
    }
   ],
   "source": [
    "bpr_labeled_recs.head()"
   ]
  },
  {
   "cell_type": "markdown",
   "id": "1b0833f3-3194-46f2-bace-cce69221a048",
   "metadata": {},
   "source": [
    "# EASE"
   ]
  },
  {
   "cell_type": "code",
   "execution_count": 36,
   "id": "11cb8fa6-748b-4685-90c0-999727b5fc52",
   "metadata": {},
   "outputs": [
    {
     "name": "stderr",
     "output_type": "stream",
     "text": [
      "[I 2025-09-01 08:09:07,852] A new study created in memory with name: no-name-8334dd88-b1fe-4e2d-a748-b7bb730ef33a\n",
      "/usr/local/lib/python3.12/site-packages/cornac/data/dataset.py:335: UserWarning: 1077 duplicated observations are removed!\n",
      "  warnings.warn(\"%d duplicated observations are removed!\" % dup_count)\n",
      "/usr/local/lib/python3.12/site-packages/cornac/data/dataset.py:335: UserWarning: 39 duplicated observations are removed!\n",
      "  warnings.warn(\"%d duplicated observations are removed!\" % dup_count)\n"
     ]
    },
    {
     "name": "stdout",
     "output_type": "stream",
     "text": [
      "\n",
      "TEST:\n",
      "...\n",
      "      |  F1@50 | NCRR@50 | NDCG@50 | Recall@50 | Train (s) | Test (s)\n",
      "----- + ------ + ------- + ------- + --------- + --------- + --------\n",
      "EASEᴿ | 0.0157 |  0.1004 |  0.1540 |    0.3638 |    0.5042 |   8.2121\n",
      "\n"
     ]
    },
    {
     "name": "stderr",
     "output_type": "stream",
     "text": [
      "[I 2025-09-01 08:09:19,344] Trial 0 finished with value: 0.015690012427293832 and parameters: {'lamb': 114.31447561628943}. Best is trial 0 with value: 0.015690012427293832.\n"
     ]
    },
    {
     "name": "stdout",
     "output_type": "stream",
     "text": [
      "\n",
      "TEST:\n",
      "...\n",
      "      |  F1@50 | NCRR@50 | NDCG@50 | Recall@50 | Train (s) | Test (s)\n",
      "----- + ------ + ------- + ------- + --------- + --------- + --------\n",
      "EASEᴿ | 0.0157 |  0.1003 |  0.1537 |    0.3632 |    0.6975 |   8.2093\n",
      "\n"
     ]
    },
    {
     "name": "stderr",
     "output_type": "stream",
     "text": [
      "[I 2025-09-01 08:09:31,214] Trial 1 finished with value: 0.01566231782171672 and parameters: {'lamb': 56.050480904107204}. Best is trial 0 with value: 0.015690012427293832.\n"
     ]
    },
    {
     "name": "stdout",
     "output_type": "stream",
     "text": [
      "\n",
      "TEST:\n",
      "...\n",
      "      |  F1@50 | NCRR@50 | NDCG@50 | Recall@50 | Train (s) | Test (s)\n",
      "----- + ------ + ------- + ------- + --------- + --------- + --------\n",
      "EASEᴿ | 0.0156 |  0.1002 |  0.1535 |    0.3623 |    0.9071 |   8.3714\n",
      "\n"
     ]
    },
    {
     "name": "stderr",
     "output_type": "stream",
     "text": [
      "[I 2025-09-01 08:09:43,491] Trial 2 finished with value: 0.015625756892837264 and parameters: {'lamb': 19.298682564307043}. Best is trial 0 with value: 0.015690012427293832.\n"
     ]
    },
    {
     "name": "stdout",
     "output_type": "stream",
     "text": [
      "\n",
      "TEST:\n",
      "...\n",
      "      |  F1@50 | NCRR@50 | NDCG@50 | Recall@50 | Train (s) | Test (s)\n",
      "----- + ------ + ------- + ------- + --------- + --------- + --------\n",
      "EASEᴿ | 0.0157 |  0.1004 |  0.1540 |    0.3639 |    0.7486 |   7.7764\n",
      "\n"
     ]
    },
    {
     "name": "stderr",
     "output_type": "stream",
     "text": [
      "[I 2025-09-01 08:09:54,964] Trial 3 finished with value: 0.01569127671532899 and parameters: {'lamb': 118.55139550414748}. Best is trial 3 with value: 0.01569127671532899.\n"
     ]
    },
    {
     "name": "stdout",
     "output_type": "stream",
     "text": [
      "\n",
      "TEST:\n",
      "...\n",
      "      |  F1@50 | NCRR@50 | NDCG@50 | Recall@50 | Train (s) | Test (s)\n",
      "----- + ------ + ------- + ------- + --------- + --------- + --------\n",
      "EASEᴿ | 0.0157 |  0.1003 |  0.1538 |    0.3634 |    0.6249 |   7.6912\n",
      "\n"
     ]
    },
    {
     "name": "stderr",
     "output_type": "stream",
     "text": [
      "[I 2025-09-01 08:10:06,078] Trial 4 finished with value: 0.015672432125997986 and parameters: {'lamb': 64.2658932563292}. Best is trial 3 with value: 0.01569127671532899.\n"
     ]
    },
    {
     "name": "stdout",
     "output_type": "stream",
     "text": [
      "\n",
      "TEST:\n",
      "...\n",
      "      |  F1@50 | NCRR@50 | NDCG@50 | Recall@50 | Train (s) | Test (s)\n",
      "----- + ------ + ------- + ------- + --------- + --------- + --------\n",
      "EASEᴿ | 0.0157 |  0.1006 |  0.1542 |    0.3648 |    0.5704 |   7.9060\n",
      "\n"
     ]
    },
    {
     "name": "stderr",
     "output_type": "stream",
     "text": [
      "[I 2025-09-01 08:10:17,420] Trial 5 finished with value: 0.01573151868135049 and parameters: {'lamb': 234.44031912805596}. Best is trial 5 with value: 0.01573151868135049.\n"
     ]
    },
    {
     "name": "stdout",
     "output_type": "stream",
     "text": [
      "\n",
      "TEST:\n",
      "...\n",
      "      |  F1@50 | NCRR@50 | NDCG@50 | Recall@50 | Train (s) | Test (s)\n",
      "----- + ------ + ------- + ------- + --------- + --------- + --------\n",
      "EASEᴿ | 0.0157 |  0.1005 |  0.1540 |    0.3640 |    0.9110 |   8.3294\n",
      "\n"
     ]
    },
    {
     "name": "stderr",
     "output_type": "stream",
     "text": [
      "[I 2025-09-01 08:10:29,729] Trial 6 finished with value: 0.015698766974603883 and parameters: {'lamb': 135.7431844662849}. Best is trial 5 with value: 0.01573151868135049.\n"
     ]
    },
    {
     "name": "stdout",
     "output_type": "stream",
     "text": [
      "\n",
      "TEST:\n",
      "...\n",
      "      |  F1@50 | NCRR@50 | NDCG@50 | Recall@50 | Train (s) | Test (s)\n",
      "----- + ------ + ------- + ------- + --------- + --------- + --------\n",
      "EASEᴿ | 0.0156 |  0.1002 |  0.1535 |    0.3621 |    1.2651 |   8.6784\n",
      "\n"
     ]
    },
    {
     "name": "stderr",
     "output_type": "stream",
     "text": [
      "[I 2025-09-01 08:10:42,589] Trial 7 finished with value: 0.015616952801583886 and parameters: {'lamb': 10.995864353578304}. Best is trial 5 with value: 0.01573151868135049.\n"
     ]
    },
    {
     "name": "stdout",
     "output_type": "stream",
     "text": [
      "\n",
      "TEST:\n",
      "...\n",
      "      |  F1@50 | NCRR@50 | NDCG@50 | Recall@50 | Train (s) | Test (s)\n",
      "----- + ------ + ------- + ------- + --------- + --------- + --------\n",
      "EASEᴿ | 0.0156 |  0.1003 |  0.1536 |    0.3628 |    0.5884 |   9.4227\n",
      "\n"
     ]
    },
    {
     "name": "stderr",
     "output_type": "stream",
     "text": [
      "[I 2025-09-01 08:10:55,570] Trial 8 finished with value: 0.015645955016954004 and parameters: {'lamb': 42.07031417391907}. Best is trial 5 with value: 0.01573151868135049.\n"
     ]
    },
    {
     "name": "stdout",
     "output_type": "stream",
     "text": [
      "\n",
      "TEST:\n",
      "...\n",
      "      |  F1@50 | NCRR@50 | NDCG@50 | Recall@50 | Train (s) | Test (s)\n",
      "----- + ------ + ------- + ------- + --------- + --------- + --------\n",
      "EASEᴿ | 0.0157 |  0.1003 |  0.1537 |    0.3632 |    0.8515 |   9.2237\n",
      "\n"
     ]
    },
    {
     "name": "stderr",
     "output_type": "stream",
     "text": [
      "[I 2025-09-01 08:11:08,969] Trial 9 finished with value: 0.01566231782171672 and parameters: {'lamb': 55.90944720225037}. Best is trial 5 with value: 0.01573151868135049.\n"
     ]
    },
    {
     "name": "stdout",
     "output_type": "stream",
     "text": [
      "\n",
      "TEST:\n",
      "...\n",
      "      |  F1@50 | NCRR@50 | NDCG@50 | Recall@50 | Train (s) | Test (s)\n",
      "----- + ------ + ------- + ------- + --------- + --------- + --------\n",
      "EASEᴿ | 0.0158 |  0.1006 |  0.1548 |    0.3672 |    1.8363 |   9.3912\n",
      "\n"
     ]
    },
    {
     "name": "stderr",
     "output_type": "stream",
     "text": [
      "[I 2025-09-01 08:11:23,633] Trial 10 finished with value: 0.015836093457776375 and parameters: {'lamb': 625.2588417834248}. Best is trial 10 with value: 0.015836093457776375.\n"
     ]
    },
    {
     "name": "stdout",
     "output_type": "stream",
     "text": [
      "\n",
      "TEST:\n",
      "...\n",
      "      |  F1@50 | NCRR@50 | NDCG@50 | Recall@50 | Train (s) | Test (s)\n",
      "----- + ------ + ------- + ------- + --------- + --------- + --------\n",
      "EASEᴿ | 0.0158 |  0.1007 |  0.1548 |    0.3672 |    0.7503 |   9.3793\n",
      "\n"
     ]
    },
    {
     "name": "stderr",
     "output_type": "stream",
     "text": [
      "[I 2025-09-01 08:11:37,168] Trial 11 finished with value: 0.015836046666274348 and parameters: {'lamb': 691.1875529205801}. Best is trial 10 with value: 0.015836093457776375.\n"
     ]
    },
    {
     "name": "stdout",
     "output_type": "stream",
     "text": [
      "\n",
      "TEST:\n",
      "...\n",
      "      |  F1@50 | NCRR@50 | NDCG@50 | Recall@50 | Train (s) | Test (s)\n",
      "----- + ------ + ------- + ------- + --------- + --------- + --------\n",
      "EASEᴿ | 0.0159 |  0.1006 |  0.1550 |    0.3683 |    1.2515 |   8.9281\n",
      "\n"
     ]
    },
    {
     "name": "stderr",
     "output_type": "stream",
     "text": [
      "[I 2025-09-01 08:11:50,564] Trial 12 finished with value: 0.01587774569316398 and parameters: {'lamb': 990.0146576356935}. Best is trial 12 with value: 0.01587774569316398.\n"
     ]
    },
    {
     "name": "stdout",
     "output_type": "stream",
     "text": [
      "\n",
      "TEST:\n",
      "...\n",
      "      |  F1@50 | NCRR@50 | NDCG@50 | Recall@50 | Train (s) | Test (s)\n",
      "----- + ------ + ------- + ------- + --------- + --------- + --------\n",
      "EASEᴿ | 0.0159 |  0.1006 |  0.1549 |    0.3679 |    0.7909 |   8.8410\n",
      "\n"
     ]
    },
    {
     "name": "stderr",
     "output_type": "stream",
     "text": [
      "[I 2025-09-01 08:12:03,504] Trial 13 finished with value: 0.01586262194572454 and parameters: {'lamb': 880.3256704075147}. Best is trial 12 with value: 0.01587774569316398.\n"
     ]
    },
    {
     "name": "stdout",
     "output_type": "stream",
     "text": [
      "\n",
      "TEST:\n",
      "...\n",
      "      |  F1@50 | NCRR@50 | NDCG@50 | Recall@50 | Train (s) | Test (s)\n",
      "----- + ------ + ------- + ------- + --------- + --------- + --------\n",
      "EASEᴿ | 0.0159 |  0.1006 |  0.1549 |    0.3680 |    0.6594 |   9.3470\n",
      "\n"
     ]
    },
    {
     "name": "stderr",
     "output_type": "stream",
     "text": [
      "[I 2025-09-01 08:12:16,701] Trial 14 finished with value: 0.015866439123061463 and parameters: {'lamb': 897.6641562748401}. Best is trial 12 with value: 0.01587774569316398.\n"
     ]
    }
   ],
   "source": [
    "# Run EASE optimization\n",
    "study_ease = optuna.create_study(direction='maximize')\n",
    "study_ease.optimize(objective_ease, n_trials=N)\n",
    "\n",
    "# Save best model\n",
    "best_trial = study_ease.best_trial\n",
    "\n",
    "if \"model\" in best_trial.user_attrs:\n",
    "    best_model = best_trial.user_attrs[\"result\"]\n",
    "    \n",
    "    # Ensure train_set is included\n",
    "    if not hasattr(best_model, \"train_set\"):\n",
    "        print(\"Warning: No train_set found in best_model.\")\n",
    "    else:\n",
    "        best_model.train_set = best_model.train_set  # explicitly attach\n",
    "\n",
    "    with open(\"ease_model_with_trainset.pkl\", \"wb\") as f:\n",
    "        pickle.dump(best_model, f)\n",
    "\n",
    "    print(\"Best EASE model saved to ease_model_with_trainset.pkl\")\n",
    "\n",
    "# Collect all trial results\n",
    "ease_rows = []\n",
    "for trial in study_ease.trials:\n",
    "    if trial.value is None:\n",
    "        continue\n",
    "    trial_data = {\n",
    "        \"Trial\": trial.number,\n",
    "        \"F1@50\": trial.value,\n",
    "        \"Model\": \"EASE\",\n",
    "        **trial.params\n",
    "    }\n",
    "\n",
    "    # Add other evaluation metrics from user_attrs[\"result\"]\n",
    "    if \"result\" in trial.user_attrs:\n",
    "        for metric, value in trial.user_attrs[\"result\"].metric_avg_results.items():\n",
    "            trial_data[metric] = value\n",
    "\n",
    "    ease_rows.append(trial_data)\n",
    "\n",
    "# Convert to DataFrame and export\n",
    "ease_results_df = pd.DataFrame(ease_rows)\n"
   ]
  },
  {
   "cell_type": "markdown",
   "id": "a749adeb-24e3-4632-9d2b-b980cbcaae3b",
   "metadata": {},
   "source": [
    "## Generate Top K Recommendations for Sampled 100 Users"
   ]
  },
  {
   "cell_type": "code",
   "execution_count": 37,
   "id": "d333d1ac-fd18-4aca-9999-6db592e2fa16",
   "metadata": {},
   "outputs": [],
   "source": [
    "ease_topk_df = generate_top_k_recommendations(EASE, uir_dataset, study_ease, k=10)"
   ]
  },
  {
   "cell_type": "markdown",
   "id": "71424c96-b66b-4244-a9cc-0c770b2c01da",
   "metadata": {},
   "source": [
    "## Final Recommendations"
   ]
  },
  {
   "cell_type": "code",
   "execution_count": 38,
   "id": "74995d1c-8d9f-4d90-923c-04694a970ba8",
   "metadata": {},
   "outputs": [],
   "source": [
    "ease_recommendation_df = annotate_recommendations_with_category(ease_topk_df, items_df)"
   ]
  },
  {
   "cell_type": "code",
   "execution_count": 39,
   "id": "886cd2c2-d495-43b2-ac76-1a1fd9347d7b",
   "metadata": {},
   "outputs": [
    {
     "data": {
      "text/html": [
       "<div>\n",
       "<style scoped>\n",
       "    .dataframe tbody tr th:only-of-type {\n",
       "        vertical-align: middle;\n",
       "    }\n",
       "\n",
       "    .dataframe tbody tr th {\n",
       "        vertical-align: top;\n",
       "    }\n",
       "\n",
       "    .dataframe thead th {\n",
       "        text-align: right;\n",
       "    }\n",
       "</style>\n",
       "<table border=\"1\" class=\"dataframe\">\n",
       "  <thead>\n",
       "    <tr style=\"text-align: right;\">\n",
       "      <th></th>\n",
       "      <th>user_id</th>\n",
       "      <th>rank</th>\n",
       "      <th>parent_asin</th>\n",
       "      <th>cat_2</th>\n",
       "      <th>cat_4</th>\n",
       "    </tr>\n",
       "  </thead>\n",
       "  <tbody>\n",
       "    <tr>\n",
       "      <th>14</th>\n",
       "      <td>AE5OEVKQ2R5GAUM5WKSPMZIZGDSQ</td>\n",
       "      <td>1</td>\n",
       "      <td>B09LW2KHPM</td>\n",
       "      <td>camping &amp; hiking</td>\n",
       "      <td>lanterns</td>\n",
       "    </tr>\n",
       "    <tr>\n",
       "      <th>114</th>\n",
       "      <td>AE5OEVKQ2R5GAUM5WKSPMZIZGDSQ</td>\n",
       "      <td>2</td>\n",
       "      <td>B0BKFGDBBM</td>\n",
       "      <td>camping &amp; hiking</td>\n",
       "      <td>camping cookware</td>\n",
       "    </tr>\n",
       "    <tr>\n",
       "      <th>214</th>\n",
       "      <td>AE5OEVKQ2R5GAUM5WKSPMZIZGDSQ</td>\n",
       "      <td>3</td>\n",
       "      <td>B0038A05X6</td>\n",
       "      <td>camping &amp; hiking</td>\n",
       "      <td>shovels</td>\n",
       "    </tr>\n",
       "    <tr>\n",
       "      <th>314</th>\n",
       "      <td>AE5OEVKQ2R5GAUM5WKSPMZIZGDSQ</td>\n",
       "      <td>4</td>\n",
       "      <td>B01M4IGQ2I</td>\n",
       "      <td>camping &amp; hiking</td>\n",
       "      <td>tents</td>\n",
       "    </tr>\n",
       "    <tr>\n",
       "      <th>414</th>\n",
       "      <td>AE5OEVKQ2R5GAUM5WKSPMZIZGDSQ</td>\n",
       "      <td>5</td>\n",
       "      <td>B00NPLSZF8</td>\n",
       "      <td>camping &amp; hiking</td>\n",
       "      <td>lanterns</td>\n",
       "    </tr>\n",
       "  </tbody>\n",
       "</table>\n",
       "</div>"
      ],
      "text/plain": [
       "                          user_id  rank parent_asin             cat_2  \\\n",
       "14   AE5OEVKQ2R5GAUM5WKSPMZIZGDSQ     1  B09LW2KHPM  camping & hiking   \n",
       "114  AE5OEVKQ2R5GAUM5WKSPMZIZGDSQ     2  B0BKFGDBBM  camping & hiking   \n",
       "214  AE5OEVKQ2R5GAUM5WKSPMZIZGDSQ     3  B0038A05X6  camping & hiking   \n",
       "314  AE5OEVKQ2R5GAUM5WKSPMZIZGDSQ     4  B01M4IGQ2I  camping & hiking   \n",
       "414  AE5OEVKQ2R5GAUM5WKSPMZIZGDSQ     5  B00NPLSZF8  camping & hiking   \n",
       "\n",
       "                cat_4  \n",
       "14           lanterns  \n",
       "114  camping cookware  \n",
       "214           shovels  \n",
       "314             tents  \n",
       "414          lanterns  "
      ]
     },
     "execution_count": 39,
     "metadata": {},
     "output_type": "execute_result"
    }
   ],
   "source": [
    "ease_recommendation_df.head()"
   ]
  },
  {
   "cell_type": "code",
   "execution_count": 40,
   "id": "22a6579a-2928-4938-8705-2d7df2138d7d",
   "metadata": {},
   "outputs": [
    {
     "name": "stdout",
     "output_type": "stream",
     "text": [
      "Overall Same Main Cat but Diff Sub-cat Rate: 56.50%\n"
     ]
    }
   ],
   "source": [
    "ease_overall_rate, ease_labeled_recs, ease_user_rates = compute_cat2_diff_cat4_rate(interacted_df, ease_recommendation_df)\n",
    "\n",
    "print(f\"Overall Same Main Cat but Diff Sub-cat Rate: {ease_overall_rate:.2%}\")"
   ]
  },
  {
   "cell_type": "code",
   "execution_count": 41,
   "id": "c4ed6372-0e70-4602-a5b4-4a155792155c",
   "metadata": {},
   "outputs": [
    {
     "data": {
      "text/html": [
       "<div>\n",
       "<style scoped>\n",
       "    .dataframe tbody tr th:only-of-type {\n",
       "        vertical-align: middle;\n",
       "    }\n",
       "\n",
       "    .dataframe tbody tr th {\n",
       "        vertical-align: top;\n",
       "    }\n",
       "\n",
       "    .dataframe thead th {\n",
       "        text-align: right;\n",
       "    }\n",
       "</style>\n",
       "<table border=\"1\" class=\"dataframe\">\n",
       "  <thead>\n",
       "    <tr style=\"text-align: right;\">\n",
       "      <th></th>\n",
       "      <th>user_id</th>\n",
       "      <th>rank</th>\n",
       "      <th>parent_asin</th>\n",
       "      <th>cat_2</th>\n",
       "      <th>cat_4</th>\n",
       "      <th>cat_match</th>\n",
       "    </tr>\n",
       "  </thead>\n",
       "  <tbody>\n",
       "    <tr>\n",
       "      <th>14</th>\n",
       "      <td>AE5OEVKQ2R5GAUM5WKSPMZIZGDSQ</td>\n",
       "      <td>1</td>\n",
       "      <td>B09LW2KHPM</td>\n",
       "      <td>camping &amp; hiking</td>\n",
       "      <td>lanterns</td>\n",
       "      <td>same_cat2_diff_cat4</td>\n",
       "    </tr>\n",
       "    <tr>\n",
       "      <th>114</th>\n",
       "      <td>AE5OEVKQ2R5GAUM5WKSPMZIZGDSQ</td>\n",
       "      <td>2</td>\n",
       "      <td>B0BKFGDBBM</td>\n",
       "      <td>camping &amp; hiking</td>\n",
       "      <td>camping cookware</td>\n",
       "      <td>same_cat2_diff_cat4</td>\n",
       "    </tr>\n",
       "    <tr>\n",
       "      <th>214</th>\n",
       "      <td>AE5OEVKQ2R5GAUM5WKSPMZIZGDSQ</td>\n",
       "      <td>3</td>\n",
       "      <td>B0038A05X6</td>\n",
       "      <td>camping &amp; hiking</td>\n",
       "      <td>shovels</td>\n",
       "      <td>same_cat2_diff_cat4</td>\n",
       "    </tr>\n",
       "    <tr>\n",
       "      <th>314</th>\n",
       "      <td>AE5OEVKQ2R5GAUM5WKSPMZIZGDSQ</td>\n",
       "      <td>4</td>\n",
       "      <td>B01M4IGQ2I</td>\n",
       "      <td>camping &amp; hiking</td>\n",
       "      <td>tents</td>\n",
       "      <td>same_cat2_diff_cat4</td>\n",
       "    </tr>\n",
       "    <tr>\n",
       "      <th>414</th>\n",
       "      <td>AE5OEVKQ2R5GAUM5WKSPMZIZGDSQ</td>\n",
       "      <td>5</td>\n",
       "      <td>B00NPLSZF8</td>\n",
       "      <td>camping &amp; hiking</td>\n",
       "      <td>lanterns</td>\n",
       "      <td>same_cat2_diff_cat4</td>\n",
       "    </tr>\n",
       "  </tbody>\n",
       "</table>\n",
       "</div>"
      ],
      "text/plain": [
       "                          user_id  rank parent_asin             cat_2  \\\n",
       "14   AE5OEVKQ2R5GAUM5WKSPMZIZGDSQ     1  B09LW2KHPM  camping & hiking   \n",
       "114  AE5OEVKQ2R5GAUM5WKSPMZIZGDSQ     2  B0BKFGDBBM  camping & hiking   \n",
       "214  AE5OEVKQ2R5GAUM5WKSPMZIZGDSQ     3  B0038A05X6  camping & hiking   \n",
       "314  AE5OEVKQ2R5GAUM5WKSPMZIZGDSQ     4  B01M4IGQ2I  camping & hiking   \n",
       "414  AE5OEVKQ2R5GAUM5WKSPMZIZGDSQ     5  B00NPLSZF8  camping & hiking   \n",
       "\n",
       "                cat_4            cat_match  \n",
       "14           lanterns  same_cat2_diff_cat4  \n",
       "114  camping cookware  same_cat2_diff_cat4  \n",
       "214           shovels  same_cat2_diff_cat4  \n",
       "314             tents  same_cat2_diff_cat4  \n",
       "414          lanterns  same_cat2_diff_cat4  "
      ]
     },
     "execution_count": 41,
     "metadata": {},
     "output_type": "execute_result"
    }
   ],
   "source": [
    "ease_labeled_recs.head()"
   ]
  },
  {
   "cell_type": "markdown",
   "id": "fa6d8f69-5d21-45a0-a073-a706a386c8f7",
   "metadata": {},
   "source": [
    "# WMF"
   ]
  },
  {
   "cell_type": "code",
   "execution_count": 1,
   "id": "96771220-8244-435f-af97-8270d6a9aca8",
   "metadata": {},
   "outputs": [
    {
     "ename": "NameError",
     "evalue": "name 'optuna' is not defined",
     "output_type": "error",
     "traceback": [
      "\u001b[0;31m---------------------------------------------------------------------------\u001b[0m",
      "\u001b[0;31mNameError\u001b[0m                                 Traceback (most recent call last)",
      "Cell \u001b[0;32mIn[1], line 2\u001b[0m\n\u001b[1;32m      1\u001b[0m \u001b[38;5;66;03m# Run WMF optimization\u001b[39;00m\n\u001b[0;32m----> 2\u001b[0m study_wmf \u001b[38;5;241m=\u001b[39m \u001b[43moptuna\u001b[49m\u001b[38;5;241m.\u001b[39mcreate_study(direction\u001b[38;5;241m=\u001b[39m\u001b[38;5;124m'\u001b[39m\u001b[38;5;124mmaximize\u001b[39m\u001b[38;5;124m'\u001b[39m)\n\u001b[1;32m      3\u001b[0m study_wmf\u001b[38;5;241m.\u001b[39moptimize(objective_wmf, n_trials\u001b[38;5;241m=\u001b[39mN)\n\u001b[1;32m      5\u001b[0m \u001b[38;5;66;03m# Save best model\u001b[39;00m\n",
      "\u001b[0;31mNameError\u001b[0m: name 'optuna' is not defined"
     ]
    }
   ],
   "source": [
    "# Run WMF optimization\n",
    "study_wmf = optuna.create_study(direction='maximize')\n",
    "study_wmf.optimize(objective_wmf, n_trials=N)\n",
    "\n",
    "# Save best model\n",
    "best_trial = study_wmf.best_trial\n",
    "\n",
    "if \"result\" in best_trial.user_attrs:\n",
    "    best_model = best_trial.user_attrs[\"result\"]\n",
    "\n",
    "    # Ensure train_set is included\n",
    "    if not hasattr(best_model, \"train_set\"):\n",
    "        print(\"Warning: No train_set found in best_model.\")\n",
    "    else:\n",
    "        best_model.train_set = best_model.train_set  # explicitly attach\n",
    "\n",
    "    with open(\"wmf_model_with_trainset.pkl\", \"wb\") as f:\n",
    "        pickle.dump(best_model, f)\n",
    "\n",
    "    print(\"Best WMF model saved to wmf_model_with_trainset.pkl\")\n",
    "\n",
    "# Collect all trial results\n",
    "wmf_rows = []\n",
    "for trial in study_wmf.trials:\n",
    "    if trial.value is None:\n",
    "        continue\n",
    "    trial_data = {\n",
    "        \"Trial\": trial.number,\n",
    "        \"F1@50\": trial.value,\n",
    "        \"Model\": \"WMF\",\n",
    "        **trial.params\n",
    "    }\n",
    "\n",
    "    # Add other evaluation metrics from user_attrs[\"result\"]\n",
    "    if \"result\" in trial.user_attrs:\n",
    "        for metric, value in trial.user_attrs[\"result\"].metric_avg_results.items():\n",
    "            trial_data[metric] = value\n",
    "\n",
    "    wmf_rows.append(trial_data)\n",
    "\n",
    "# Convert to DataFrame\n",
    "wmf_results_df = pd.DataFrame(wmf_rows)\n"
   ]
  },
  {
   "cell_type": "markdown",
   "id": "f9423894-c04a-4382-9db0-3881c7bf004e",
   "metadata": {},
   "source": [
    "## Generate Top K Recommendations for Sampled 100 Users"
   ]
  },
  {
   "cell_type": "code",
   "execution_count": null,
   "id": "ec87f89d-bec8-4278-8fdc-0666b2ef6bac",
   "metadata": {},
   "outputs": [],
   "source": [
    "wmf_topk_df = generate_top_k_recommendations(WMF, uir_dataset, study_wmf, k=10)"
   ]
  },
  {
   "cell_type": "code",
   "execution_count": null,
   "id": "136bf429-d095-46d6-941b-772bc14aff2e",
   "metadata": {},
   "outputs": [],
   "source": [
    "wmf_recommendation_df = annotate_recommendations_with_category(wmf_topk_df, items_df)"
   ]
  },
  {
   "cell_type": "code",
   "execution_count": null,
   "id": "d363a073-6482-4bff-b90d-9cf9af83bf31",
   "metadata": {},
   "outputs": [],
   "source": [
    "wmf_recommendation_df.head()"
   ]
  },
  {
   "cell_type": "markdown",
   "id": "0c33ae59-f3ed-4021-8b38-a7e94fbccd57",
   "metadata": {},
   "source": [
    "## Final Recommendations"
   ]
  },
  {
   "cell_type": "code",
   "execution_count": null,
   "id": "d6a9b786-c849-47b5-ac72-629c46392d4f",
   "metadata": {},
   "outputs": [],
   "source": [
    "wmf_overall_rate, wmf_labeled_recs, wmf_user_rates = compute_cat2_diff_cat4_rate(interacted_df, wmf_recommendation_df)\n",
    "\n",
    "print(f\"Overall Same Main Cat but Diff Sub-cat Rate (WMF): {wmf_overall_rate:.2%}\")\n"
   ]
  },
  {
   "cell_type": "code",
   "execution_count": null,
   "id": "f08b9054-1675-4133-886f-7c66097dee92",
   "metadata": {},
   "outputs": [],
   "source": [
    "wmf_labeled_recs.head()"
   ]
  },
  {
   "cell_type": "markdown",
   "id": "0df804aa-ba48-4fc8-ae6d-e428fbea716c",
   "metadata": {},
   "source": [
    "# Summary"
   ]
  },
  {
   "cell_type": "code",
   "execution_count": null,
   "id": "19857029-9274-4141-82dd-2932111f54cc",
   "metadata": {},
   "outputs": [],
   "source": [
    "import pandas as pd\n",
    "\n",
    "# Your existing summary dictionary\n",
    "summary = {\n",
    "    \"EASE\": ease_overall_rate,\n",
    "    \"BPR\": bpr_overall_rate,\n",
    "    \"WMF\": wmf_overall_rate,\n",
    "    \"MF\": mf_overall_rate,\n",
    "}\n",
    "\n",
    "# Convert to DataFrame\n",
    "summary_df = pd.DataFrame([\n",
    "    {\"Model\": model, \"Same Cat-2, Diff Cat-4 Rate\": f\"{rate:.2%}\"}\n",
    "    for model, rate in summary.items()\n",
    "])\n",
    "\n",
    "# Display using print\n",
    "print(\"\\n Intra-category Diversity Summary (Same Cat-2, Different Cat-4):\")\n",
    "print(summary_df.to_string(index=False))\n"
   ]
  },
  {
   "cell_type": "code",
   "execution_count": null,
   "id": "d1024792-c380-444a-9b44-5964ee18664e",
   "metadata": {},
   "outputs": [],
   "source": [
    "import numpy as np\n",
    "import matplotlib.pyplot as plt\n",
    "\n",
    "# Model names and metric values\n",
    "models = ['WMF', 'EASEʳ', 'BPR', 'MF']\n",
    "f1     = [0.0040, 0.0159, 0.0162, 0.0045]\n",
    "ndcg   = [0.0307, 0.1549, 0.1423, 0.0321]\n",
    "recall = [0.0976, 0.3679, 0.3772, 0.1068]\n",
    "ncrr   = [0.0153, 0.1006, 0.0840, 0.0144]  # NCRR@50 for each model\n",
    "\n",
    "x = np.arange(len(models))\n",
    "width = 0.2\n",
    "\n",
    "fig, ax = plt.subplots(figsize=(8, 4))\n",
    "\n",
    "# Plot grouped bars\n",
    "bars_f1    = ax.bar(x - 1.5*width, f1,   width, label='F1@10',   color='#1f77b4')\n",
    "bars_ndcg  = ax.bar(x - 0.5*width, ndcg, width, label='NDCG@10', color='#ff7f0e')\n",
    "bars_recall= ax.bar(x + 0.5*width, recall,width, label='Recall@10', color='#2ca02c')\n",
    "bars_ncrr  = ax.bar(x + 1.5*width, ncrr,  width, label='NCRR@10', color='#d62728')\n",
    "\n",
    "# Labels and format\n",
    "ax.set_xticks(x)\n",
    "ax.set_xticklabels(models)\n",
    "ax.set_ylabel('Score')\n",
    "ax.set_title('Performance Comparison of Recommender Models')\n",
    "ax.legend()\n",
    "\n",
    "# Add value labels\n",
    "for bars in [bars_f1, bars_ndcg, bars_recall, bars_ncrr]:\n",
    "    ax.bar_label(bars, fmt='%.3f', padding=2, fontsize=8)\n",
    "\n",
    "plt.ylim(0, max(recall + ncrr) + 0.05)\n",
    "plt.tight_layout()\n",
    "plt.show()\n"
   ]
  },
  {
   "cell_type": "code",
   "execution_count": null,
   "id": "0c381b1c-6074-42c8-87f9-fc385c902dce",
   "metadata": {},
   "outputs": [],
   "source": [
    "import numpy as np\n",
    "import matplotlib.pyplot as plt\n",
    "\n",
    "models = ['EASE', 'BPR', 'WMF', 'MF']\n",
    "diversity = [0.5770, 0.2490, 0.3270, 0.3990]  # proportions\n",
    "\n",
    "# Convert to percentages\n",
    "div_pct = [d * 100 for d in diversity]\n",
    "\n",
    "fig, ax = plt.subplots(figsize=(8, 5))\n",
    "bars = ax.bar(models, div_pct, color='#1f77b4')\n",
    "\n",
    "ax.set_ylim(0, max(div_pct) + 10)\n",
    "ax.set_ylabel('Same Main Cat but Different Sub Cat (%)')\n",
    "ax.set_title('Intra‑Category Diversity Across Models')\n",
    "\n",
    "# Add value annotation on each bar\n",
    "for bar in bars:\n",
    "    height = bar.get_height()\n",
    "    ax.annotate(f'{height:.1f}%', xy=(bar.get_x() + bar.get_width() / 2, height),\n",
    "                xytext=(0, 3), textcoords='offset points',\n",
    "                ha='center', va='bottom', fontsize=10)\n",
    "\n",
    "plt.tight_layout()\n",
    "plt.show()\n"
   ]
  },
  {
   "cell_type": "code",
   "execution_count": null,
   "id": "a50f551f-7ef5-453a-816a-f6e99eabc486",
   "metadata": {},
   "outputs": [],
   "source": []
  }
 ],
 "metadata": {
  "kernelspec": {
   "display_name": "Python 3 (ipykernel)",
   "language": "python",
   "name": "python3"
  },
  "language_info": {
   "codemirror_mode": {
    "name": "ipython",
    "version": 3
   },
   "file_extension": ".py",
   "mimetype": "text/x-python",
   "name": "python",
   "nbconvert_exporter": "python",
   "pygments_lexer": "ipython3",
   "version": "3.12.11"
  }
 },
 "nbformat": 4,
 "nbformat_minor": 5
}
