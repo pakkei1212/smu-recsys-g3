{
 "cells": [
  {
   "cell_type": "code",
   "execution_count": 9,
   "metadata": {
    "executionInfo": {
     "elapsed": 685,
     "status": "ok",
     "timestamp": 1750150953104,
     "user": {
      "displayName": "CALVIN LI _",
      "userId": "04663789809861725315"
     },
     "user_tz": -480
    },
    "id": "Qw3RWxfNTKJk"
   },
   "outputs": [],
   "source": [
    "import pandas as pd\n",
    "import numpy as np\n",
    "from collections import defaultdict"
   ]
  },
  {
   "cell_type": "code",
   "execution_count": 10,
   "metadata": {
    "executionInfo": {
     "elapsed": 19303,
     "status": "ok",
     "timestamp": 1750150992585,
     "user": {
      "displayName": "CALVIN LI _",
      "userId": "04663789809861725315"
     },
     "user_tz": -480
    },
    "id": "zmIzJmKzTjM1"
   },
   "outputs": [],
   "source": [
    "raw_cat_df = pd.read_parquet('../../data/5_category_final_table_(767,684 rows).parquet', engine='pyarrow')"
   ]
  },
  {
   "cell_type": "code",
   "execution_count": 11,
   "metadata": {
    "colab": {
     "base_uri": "https://localhost:8080/"
    },
    "executionInfo": {
     "elapsed": 18,
     "status": "ok",
     "timestamp": 1750150993839,
     "user": {
      "displayName": "CALVIN LI _",
      "userId": "04663789809861725315"
     },
     "user_tz": -480
    },
    "id": "bMD-LBqdUDBG",
    "outputId": "fc7c403c-499f-4542-83b9-1e6c9f36cde0"
   },
   "outputs": [
    {
     "data": {
      "text/plain": [
       "Index(['rating', 'title_review', 'text', 'parent_asin', 'user_id',\n",
       "       'helpful_vote', 'title_meta', 'price', 'store', 'features_clean',\n",
       "       'description_clean', 'timestamp_utc', 'category_depth',\n",
       "       'verified_purchase_flag', 'cat_1', 'cat_2', 'cat_3', 'cat_4',\n",
       "       'price_log', 'helpful_vote_clipped', 'avg_rating_parent'],\n",
       "      dtype='object')"
      ]
     },
     "execution_count": 11,
     "metadata": {},
     "output_type": "execute_result"
    }
   ],
   "source": [
    "raw_cat_df.columns"
   ]
  },
  {
   "cell_type": "code",
   "execution_count": 12,
   "metadata": {
    "executionInfo": {
     "elapsed": 8,
     "status": "ok",
     "timestamp": 1750150994408,
     "user": {
      "displayName": "CALVIN LI _",
      "userId": "04663789809861725315"
     },
     "user_tz": -480
    },
    "id": "2Enosj6zTnas"
   },
   "outputs": [],
   "source": [
    "cat_df = raw_cat_df.loc[:, ['rating', 'cat_1', 'cat_2', 'cat_3', 'parent_asin']]"
   ]
  },
  {
   "cell_type": "code",
   "execution_count": 13,
   "metadata": {
    "colab": {
     "base_uri": "https://localhost:8080/",
     "height": 424
    },
    "executionInfo": {
     "elapsed": 19,
     "status": "ok",
     "timestamp": 1750150994853,
     "user": {
      "displayName": "CALVIN LI _",
      "userId": "04663789809861725315"
     },
     "user_tz": -480
    },
    "id": "ORojeaHDYhPG",
    "outputId": "83ef4312-f3ea-45cd-8a5e-2484c6f50ffe"
   },
   "outputs": [
    {
     "data": {
      "text/html": [
       "<div>\n",
       "<style scoped>\n",
       "    .dataframe tbody tr th:only-of-type {\n",
       "        vertical-align: middle;\n",
       "    }\n",
       "\n",
       "    .dataframe tbody tr th {\n",
       "        vertical-align: top;\n",
       "    }\n",
       "\n",
       "    .dataframe thead th {\n",
       "        text-align: right;\n",
       "    }\n",
       "</style>\n",
       "<table border=\"1\" class=\"dataframe\">\n",
       "  <thead>\n",
       "    <tr style=\"text-align: right;\">\n",
       "      <th></th>\n",
       "      <th>rating</th>\n",
       "      <th>cat_1</th>\n",
       "      <th>cat_2</th>\n",
       "      <th>cat_3</th>\n",
       "      <th>parent_asin</th>\n",
       "    </tr>\n",
       "  </thead>\n",
       "  <tbody>\n",
       "    <tr>\n",
       "      <th>0</th>\n",
       "      <td>1</td>\n",
       "      <td>outdoor recreation</td>\n",
       "      <td>camping &amp; hiking</td>\n",
       "      <td>lights &amp; lanterns</td>\n",
       "      <td>B09LW2KHPM</td>\n",
       "    </tr>\n",
       "    <tr>\n",
       "      <th>1</th>\n",
       "      <td>5</td>\n",
       "      <td>exercise &amp; fitness</td>\n",
       "      <td>cardio training</td>\n",
       "      <td>exercise bikes</td>\n",
       "      <td>B0BTDLFXSL</td>\n",
       "    </tr>\n",
       "    <tr>\n",
       "      <th>2</th>\n",
       "      <td>5</td>\n",
       "      <td>outdoor recreation</td>\n",
       "      <td>camping &amp; hiking</td>\n",
       "      <td>tents &amp; shelters</td>\n",
       "      <td>B09W4W9JB5</td>\n",
       "    </tr>\n",
       "    <tr>\n",
       "      <th>3</th>\n",
       "      <td>5</td>\n",
       "      <td>sports</td>\n",
       "      <td>cycling</td>\n",
       "      <td>kids' bikes &amp; accessories</td>\n",
       "      <td>B07Z6Y87XH</td>\n",
       "    </tr>\n",
       "    <tr>\n",
       "      <th>4</th>\n",
       "      <td>5</td>\n",
       "      <td>outdoor recreation</td>\n",
       "      <td>camping &amp; hiking</td>\n",
       "      <td>tents &amp; shelters</td>\n",
       "      <td>B09HRDWXCK</td>\n",
       "    </tr>\n",
       "    <tr>\n",
       "      <th>...</th>\n",
       "      <td>...</td>\n",
       "      <td>...</td>\n",
       "      <td>...</td>\n",
       "      <td>...</td>\n",
       "      <td>...</td>\n",
       "    </tr>\n",
       "    <tr>\n",
       "      <th>767679</th>\n",
       "      <td>1</td>\n",
       "      <td>exercise &amp; fitness</td>\n",
       "      <td>fitness technology</td>\n",
       "      <td>activity &amp; fitness trackers</td>\n",
       "      <td>B00P2QCJP6</td>\n",
       "    </tr>\n",
       "    <tr>\n",
       "      <th>767680</th>\n",
       "      <td>1</td>\n",
       "      <td>sports</td>\n",
       "      <td>cycling</td>\n",
       "      <td>kids' bikes &amp; accessories</td>\n",
       "      <td>B07D4ZT13Y</td>\n",
       "    </tr>\n",
       "    <tr>\n",
       "      <th>767681</th>\n",
       "      <td>4</td>\n",
       "      <td>exercise &amp; fitness</td>\n",
       "      <td>fitness technology</td>\n",
       "      <td>activity &amp; fitness trackers</td>\n",
       "      <td>B01L6RE7Z4</td>\n",
       "    </tr>\n",
       "    <tr>\n",
       "      <th>767682</th>\n",
       "      <td>5</td>\n",
       "      <td>exercise &amp; fitness</td>\n",
       "      <td>strength training equipment</td>\n",
       "      <td>weight machines</td>\n",
       "      <td>B00JZKH7K2</td>\n",
       "    </tr>\n",
       "    <tr>\n",
       "      <th>767683</th>\n",
       "      <td>5</td>\n",
       "      <td>outdoor recreation</td>\n",
       "      <td>camping &amp; hiking</td>\n",
       "      <td>camp kitchen</td>\n",
       "      <td>B079KXWFJP</td>\n",
       "    </tr>\n",
       "  </tbody>\n",
       "</table>\n",
       "<p>767684 rows × 5 columns</p>\n",
       "</div>"
      ],
      "text/plain": [
       "        rating               cat_1                        cat_2  \\\n",
       "0            1  outdoor recreation             camping & hiking   \n",
       "1            5  exercise & fitness              cardio training   \n",
       "2            5  outdoor recreation             camping & hiking   \n",
       "3            5              sports                      cycling   \n",
       "4            5  outdoor recreation             camping & hiking   \n",
       "...        ...                 ...                          ...   \n",
       "767679       1  exercise & fitness           fitness technology   \n",
       "767680       1              sports                      cycling   \n",
       "767681       4  exercise & fitness           fitness technology   \n",
       "767682       5  exercise & fitness  strength training equipment   \n",
       "767683       5  outdoor recreation             camping & hiking   \n",
       "\n",
       "                              cat_3 parent_asin  \n",
       "0                 lights & lanterns  B09LW2KHPM  \n",
       "1                    exercise bikes  B0BTDLFXSL  \n",
       "2                  tents & shelters  B09W4W9JB5  \n",
       "3         kids' bikes & accessories  B07Z6Y87XH  \n",
       "4                  tents & shelters  B09HRDWXCK  \n",
       "...                             ...         ...  \n",
       "767679  activity & fitness trackers  B00P2QCJP6  \n",
       "767680    kids' bikes & accessories  B07D4ZT13Y  \n",
       "767681  activity & fitness trackers  B01L6RE7Z4  \n",
       "767682              weight machines  B00JZKH7K2  \n",
       "767683                 camp kitchen  B079KXWFJP  \n",
       "\n",
       "[767684 rows x 5 columns]"
      ]
     },
     "execution_count": 13,
     "metadata": {},
     "output_type": "execute_result"
    }
   ],
   "source": [
    "cat_df"
   ]
  },
  {
   "cell_type": "code",
   "execution_count": 14,
   "metadata": {
    "executionInfo": {
     "elapsed": 3238,
     "status": "ok",
     "timestamp": 1750151000471,
     "user": {
      "displayName": "CALVIN LI _",
      "userId": "04663789809861725315"
     },
     "user_tz": -480
    },
    "id": "z0nDBmOBWCK3"
   },
   "outputs": [],
   "source": [
    "cat_df.to_csv(path_or_buf='../../data/category_ratings.csv', index=False)"
   ]
  },
  {
   "cell_type": "code",
   "execution_count": 15,
   "metadata": {
    "executionInfo": {
     "elapsed": 40551,
     "status": "ok",
     "timestamp": 1750151373099,
     "user": {
      "displayName": "CALVIN LI _",
      "userId": "04663789809861725315"
     },
     "user_tz": -480
    },
    "id": "LIUYjWildny6"
   },
   "outputs": [],
   "source": [
    "df = cat_df\n",
    "# Reset state for new logic\n",
    "collection_id = 1\n",
    "collections = []\n",
    "\n",
    "# Function to create collections using cat_1 groups, and limit cat_2 to max 2 repeats and cat_3 to max 2 repeats\n",
    "def create_collections_with_limits(group):\n",
    "    global collection_id\n",
    "    buffer = []\n",
    "    cat2_counts = defaultdict(int)\n",
    "    cat3_counts = defaultdict(int)\n",
    "\n",
    "    for _, row in group.iterrows():\n",
    "        cat2 = row['cat_2']\n",
    "        cat3 = row['cat_3']\n",
    "        if cat2_counts[cat2] < 2 and cat3_counts[cat3] < 2:\n",
    "            buffer.append(row)\n",
    "            cat2_counts[cat2] += 1\n",
    "            cat3_counts[cat3] += 1\n",
    "\n",
    "            if len(buffer) == 5:\n",
    "                for item in buffer:\n",
    "                    collections.append((collection_id, item['parent_asin'], item['rating']))\n",
    "                collection_id += 1\n",
    "                buffer = []\n",
    "                cat2_counts = defaultdict(int)\n",
    "                cat3_counts = defaultdict(int)\n",
    "\n",
    "# Apply collection creation at the cat_1 level only\n",
    "for _, group in df.groupby('cat_1'):\n",
    "    create_collections_with_limits(group)\n",
    "\n",
    "# Convert to DataFrame and save output\n",
    "cols_df = pd.DataFrame(collections, columns=['collection_id', 'item_id', 'rating'])\n",
    "output_path = '../../data/collections.csv'\n",
    "cols_df.to_csv(output_path, index=False)"
   ]
  }
 ],
 "metadata": {
  "colab": {
   "authorship_tag": "ABX9TyO50CInl3OZrtgrAHmC5Dhx",
   "mount_file_id": "1VfpSSMBN-EEF2C80VdimYBPKeIYgqugv",
   "provenance": []
  },
  "kernelspec": {
   "display_name": "Python 3 (ipykernel)",
   "language": "python",
   "name": "python3"
  },
  "language_info": {
   "codemirror_mode": {
    "name": "ipython",
    "version": 3
   },
   "file_extension": ".py",
   "mimetype": "text/x-python",
   "name": "python",
   "nbconvert_exporter": "python",
   "pygments_lexer": "ipython3",
   "version": "3.12.11"
  }
 },
 "nbformat": 4,
 "nbformat_minor": 4
}
